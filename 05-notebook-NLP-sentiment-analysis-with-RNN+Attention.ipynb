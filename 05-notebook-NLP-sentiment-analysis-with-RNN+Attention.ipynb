{
 "cells": [
  {
   "cell_type": "markdown",
   "metadata": {
    "id": "7Zc0WsSkoWK0"
   },
   "source": [
    "# Attention mechanism for sentiment analysis"
   ]
  },
  {
   "cell_type": "markdown",
   "metadata": {
    "id": "VSuNR5g2oUqH"
   },
   "source": [
    "In this lab we use part of the 'Amazon_Unlocked_Mobile.csv' dataset published by Kaggle. The dataset contain the following information:\n",
    "* Product Name\n",
    "* Brand Name\n",
    "* Price\n",
    "* Rating\n",
    "* Reviews\n",
    "* Review Votes\n",
    "\n",
    "We are mainly interested by the 'Reviews' (X) and by the 'Rating' (y)\n",
    "\n",
    "\n",
    "The goal is to try to predict the 'Rating' after reading the 'Reviews'. I've prepared for you TRAIN and TEST set.\n",
    "The work to be done is as follows:\n",
    "\n",
    "1. Feature extraction and baseline\n",
    "    * read the dataset and understand it\n",
    "    * put it in a format so that you can use `CountVectorizer` or`Tf-IDF` to extract the desired features\n",
    "    * perform on the desired dates and preprocessing\n",
    "    * use one of the classifiers you know to predict the polarity of different sentences\n",
    "1. My first neural network\n",
    "    * reuse the features already extracted \n",
    "    * proposed a neural network built with Keras\n",
    "1. Hyper-parameter fitting\n",
    "    * for the base line: adjust min_df, max_df, ngram, max_features + model's hyper-parameter\n",
    "    * for the neural network: adjust batch size, number of layers and number of neuron by layers, use earlystop\n",
    "1. <span style=\"color:red\">Word embedding\n",
    "    * stage 1 build a network that uses Keras' embedding which is not language sensitive.\n",
    "    * stage 2 build a network that simultaneously uses Keras' embedding and the features extracted in the first weeks.\n",
    "    * stage 3 try to use an existing embedding (https://github.com/facebookresearch/MUSE)\n",
    "    </span>\n",
    "\n",
    "**WARNING:** the dataset is voluminous, I can only encourage you to work first on a small part of it and only at the end, when the code is well debugged and that it is necessary to build the \"final model\", to use the whole dataset."
   ]
  },
  {
   "cell_type": "code",
   "execution_count": 1,
   "metadata": {
    "ExecuteTime": {
     "end_time": "2022-02-07T18:09:56.208198Z",
     "start_time": "2022-02-07T18:09:56.080331Z"
    }
   },
   "outputs": [
    {
     "data": {
      "text/html": [
       "<div id=\"my_id_menu_nb\">run previous cell, wait for 2 seconds</div>\n",
       "<script>\n",
       "function repeat_indent_string(n){\n",
       "    var a = \"\" ;\n",
       "    for ( ; n > 0 ; --n)\n",
       "        a += \"    \";\n",
       "    return a;\n",
       "}\n",
       "// look up into all sections and builds an automated menu //\n",
       "var update_menu_string = function(begin, lfirst, llast, sformat, send, keep_item, begin_format, end_format) {\n",
       "    var anchors = document.getElementsByClassName(\"section\");\n",
       "    if (anchors.length == 0) {\n",
       "        anchors = document.getElementsByClassName(\"text_cell_render rendered_html\");\n",
       "    }\n",
       "    var i,t;\n",
       "    var text_menu = begin;\n",
       "    var text_memo = \"<pre>\\nlength:\" + anchors.length + \"\\n\";\n",
       "    var ind = \"\";\n",
       "    var memo_level = 1;\n",
       "    var href;\n",
       "    var tags = [];\n",
       "    var main_item = 0;\n",
       "    var format_open = 0;\n",
       "    for (i = 0; i <= llast; i++)\n",
       "        tags.push(\"h\" + i);\n",
       "\n",
       "    for (i = 0; i < anchors.length; i++) {\n",
       "        text_memo += \"**\" + anchors[i].id + \"--\\n\";\n",
       "\n",
       "        var child = null;\n",
       "        for(t = 0; t < tags.length; t++) {\n",
       "            var r = anchors[i].getElementsByTagName(tags[t]);\n",
       "            if (r.length > 0) {\n",
       "child = r[0];\n",
       "break;\n",
       "            }\n",
       "        }\n",
       "        if (child == null) {\n",
       "            text_memo += \"null\\n\";\n",
       "            continue;\n",
       "        }\n",
       "        if (anchors[i].hasAttribute(\"id\")) {\n",
       "            // when converted in RST\n",
       "            href = anchors[i].id;\n",
       "            text_memo += \"#1-\" + href;\n",
       "            // passer à child suivant (le chercher)\n",
       "        }\n",
       "        else if (child.hasAttribute(\"id\")) {\n",
       "            // in a notebook\n",
       "            href = child.id;\n",
       "            text_memo += \"#2-\" + href;\n",
       "        }\n",
       "        else {\n",
       "            text_memo += \"#3-\" + \"*\" + \"\\n\";\n",
       "            continue;\n",
       "        }\n",
       "        var title = child.textContent;\n",
       "        var level = parseInt(child.tagName.substring(1,2));\n",
       "\n",
       "        text_memo += \"--\" + level + \"?\" + lfirst + \"--\" + title + \"\\n\";\n",
       "\n",
       "        if ((level < lfirst) || (level > llast)) {\n",
       "            continue ;\n",
       "        }\n",
       "        if (title.endsWith('¶')) {\n",
       "            title = title.substring(0,title.length-1).replace(\"<\", \"&lt;\")\n",
       "         .replace(\">\", \"&gt;\").replace(\"&\", \"&amp;\");\n",
       "        }\n",
       "        if (title.length == 0) {\n",
       "            continue;\n",
       "        }\n",
       "\n",
       "        while (level < memo_level) {\n",
       "            text_menu += end_format + \"</ul>\\n\";\n",
       "            format_open -= 1;\n",
       "            memo_level -= 1;\n",
       "        }\n",
       "        if (level == lfirst) {\n",
       "            main_item += 1;\n",
       "        }\n",
       "        if (keep_item != -1 && main_item != keep_item + 1) {\n",
       "            // alert(main_item + \" - \" + level + \" - \" + keep_item);\n",
       "            continue;\n",
       "        }\n",
       "        while (level > memo_level) {\n",
       "            text_menu += \"<ul>\\n\";\n",
       "            memo_level += 1;\n",
       "        }\n",
       "        text_menu += repeat_indent_string(level-2);\n",
       "        text_menu += begin_format + sformat.replace(\"__HREF__\", href).replace(\"__TITLE__\", title);\n",
       "        format_open += 1;\n",
       "    }\n",
       "    while (1 < memo_level) {\n",
       "        text_menu += end_format + \"</ul>\\n\";\n",
       "        memo_level -= 1;\n",
       "        format_open -= 1;\n",
       "    }\n",
       "    text_menu += send;\n",
       "    //text_menu += \"\\n\" + text_memo;\n",
       "\n",
       "    while (format_open > 0) {\n",
       "        text_menu += end_format;\n",
       "        format_open -= 1;\n",
       "    }\n",
       "    return text_menu;\n",
       "};\n",
       "var update_menu = function() {\n",
       "    var sbegin = \"\";\n",
       "    var sformat = '<a href=\"#__HREF__\">__TITLE__</a>';\n",
       "    var send = \"\";\n",
       "    var begin_format = '<li>';\n",
       "    var end_format = '</li>';\n",
       "    var keep_item = -1;\n",
       "    var text_menu = update_menu_string(sbegin, 2, 4, sformat, send, keep_item,\n",
       "       begin_format, end_format);\n",
       "    var menu = document.getElementById(\"my_id_menu_nb\");\n",
       "    menu.innerHTML=text_menu;\n",
       "};\n",
       "window.setTimeout(update_menu,2000);\n",
       "            </script>"
      ],
      "text/plain": [
       "<IPython.core.display.HTML object>"
      ]
     },
     "execution_count": 1,
     "metadata": {},
     "output_type": "execute_result"
    }
   ],
   "source": [
    "\"\"\"\n",
    "(Practical tip) Table of contents can be compiled directly in jupyter notebooks using the following code:\n",
    "I set an exception: if the package is in your installation you can import it otherwise you download it \n",
    "then import it.\n",
    "\"\"\"\n",
    "try:\n",
    "    from jyquickhelper import add_notebook_menu \n",
    "except:\n",
    "    !pip install jyquickhelper\n",
    "    from jyquickhelper import add_notebook_menu\n",
    "    \n",
    "\"\"\"\n",
    "Output Table of contents to navigate easily in the notebook. \n",
    "For interested readers, the package also includes Ipython magic commands to go back to this cell\n",
    "wherever you are in the notebook to look for cells faster\n",
    "\"\"\"\n",
    "add_notebook_menu()"
   ]
  },
  {
   "cell_type": "markdown",
   "metadata": {},
   "source": [
    "## Imports"
   ]
  },
  {
   "cell_type": "code",
   "execution_count": 2,
   "metadata": {
    "ExecuteTime": {
     "end_time": "2022-02-07T18:09:58.381036Z",
     "start_time": "2022-02-07T18:09:56.211901Z"
    }
   },
   "outputs": [],
   "source": [
    "import os\n",
    "import pandas as pd\n",
    "import numpy as np\n",
    "import matplotlib.pyplot as plt"
   ]
  },
  {
   "cell_type": "code",
   "execution_count": 3,
   "metadata": {
    "ExecuteTime": {
     "end_time": "2022-02-07T18:09:59.606973Z",
     "start_time": "2022-02-07T18:09:58.385335Z"
    }
   },
   "outputs": [],
   "source": [
    "from sklearn.preprocessing import OneHotEncoder"
   ]
  },
  {
   "cell_type": "code",
   "execution_count": 4,
   "metadata": {
    "ExecuteTime": {
     "end_time": "2022-02-07T18:10:05.865655Z",
     "start_time": "2022-02-07T18:09:59.611230Z"
    }
   },
   "outputs": [],
   "source": [
    "import tensorflow as tf\n",
    "from tensorflow.keras.preprocessing.text import one_hot\n",
    "from tensorflow.keras.preprocessing.sequence import pad_sequences\n",
    "from tensorflow.keras.models import Model, load_model\n",
    "from tensorflow.keras.layers import Input, TextVectorization, Embedding, Dense, Dropout, Activation\n",
    "from tensorflow.keras.layers import TimeDistributed, LSTM\n",
    "from tensorflow.keras.layers import Flatten, RepeatVector, Dot, Permute, AveragePooling1D\n",
    "from tensorflow.keras.layers import Input, Dense, Embedding, Flatten, LSTM, Bidirectional, AveragePooling1D, RepeatVector\n",
    "from tensorflow.keras.callbacks import EarlyStopping\n",
    "from tensorflow.keras.optimizers import Adam\n",
    "from tensorflow.keras.utils import plot_model"
   ]
  },
  {
   "cell_type": "code",
   "execution_count": 5,
   "metadata": {
    "ExecuteTime": {
     "end_time": "2022-02-07T18:10:06.117193Z",
     "start_time": "2022-02-07T18:10:05.867777Z"
    }
   },
   "outputs": [],
   "source": [
    "import tensorflow_addons as tfa\n",
    "from tensorflow_addons.metrics import F1Score"
   ]
  },
  {
   "cell_type": "markdown",
   "metadata": {
    "id": "lLrXoRQ5oUqI"
   },
   "source": [
    "## Read the dataset\n",
    "\n",
    "Could you find below a proposal. You can complete them."
   ]
  },
  {
   "cell_type": "code",
   "execution_count": 6,
   "metadata": {
    "ExecuteTime": {
     "end_time": "2022-02-07T18:10:07.668520Z",
     "start_time": "2022-02-07T18:10:06.120178Z"
    },
    "colab": {
     "base_uri": "https://localhost:8080/",
     "height": 204
    },
    "id": "gIXGN8IzoUqJ",
    "outputId": "f9cbed6e-5c8c-45cb-e083-4a9194f12157"
   },
   "outputs": [
    {
     "data": {
      "text/html": [
       "<div>\n",
       "<style scoped>\n",
       "    .dataframe tbody tr th:only-of-type {\n",
       "        vertical-align: middle;\n",
       "    }\n",
       "\n",
       "    .dataframe tbody tr th {\n",
       "        vertical-align: top;\n",
       "    }\n",
       "\n",
       "    .dataframe thead th {\n",
       "        text-align: right;\n",
       "    }\n",
       "</style>\n",
       "<table border=\"1\" class=\"dataframe\">\n",
       "  <thead>\n",
       "    <tr style=\"text-align: right;\">\n",
       "      <th></th>\n",
       "      <th>Product Name</th>\n",
       "      <th>Brand Name</th>\n",
       "      <th>Price</th>\n",
       "      <th>Rating</th>\n",
       "      <th>Reviews</th>\n",
       "      <th>Review Votes</th>\n",
       "    </tr>\n",
       "  </thead>\n",
       "  <tbody>\n",
       "    <tr>\n",
       "      <th>0</th>\n",
       "      <td>Samsung Galaxy Note 4 N910C Unlocked Cellphone...</td>\n",
       "      <td>Samsung</td>\n",
       "      <td>449.99</td>\n",
       "      <td>4</td>\n",
       "      <td>I love it!!! I absolutely love it!! 👌👍</td>\n",
       "      <td>0.0</td>\n",
       "    </tr>\n",
       "    <tr>\n",
       "      <th>1</th>\n",
       "      <td>BLU Energy X Plus Smartphone - With 4000 mAh S...</td>\n",
       "      <td>BLU</td>\n",
       "      <td>139.0</td>\n",
       "      <td>5</td>\n",
       "      <td>I love the BLU phones! This is my second one t...</td>\n",
       "      <td>4.0</td>\n",
       "    </tr>\n",
       "    <tr>\n",
       "      <th>2</th>\n",
       "      <td>Apple iPhone 6 128GB Silver AT&amp;T</td>\n",
       "      <td>Apple</td>\n",
       "      <td>599.95</td>\n",
       "      <td>5</td>\n",
       "      <td>Great phone</td>\n",
       "      <td>1.0</td>\n",
       "    </tr>\n",
       "    <tr>\n",
       "      <th>3</th>\n",
       "      <td>BLU Advance 4.0L Unlocked Smartphone -US GSM -...</td>\n",
       "      <td>BLU</td>\n",
       "      <td>51.99</td>\n",
       "      <td>4</td>\n",
       "      <td>Very happy with the performance. The apps work...</td>\n",
       "      <td>2.0</td>\n",
       "    </tr>\n",
       "    <tr>\n",
       "      <th>4</th>\n",
       "      <td>Huawei P8 Lite US Version- 5 Unlocked Android ...</td>\n",
       "      <td>Huawei</td>\n",
       "      <td>198.99</td>\n",
       "      <td>5</td>\n",
       "      <td>Easy to use great price</td>\n",
       "      <td>0.0</td>\n",
       "    </tr>\n",
       "  </tbody>\n",
       "</table>\n",
       "</div>"
      ],
      "text/plain": [
       "                                        Product Name Brand Name   Price  \\\n",
       "0  Samsung Galaxy Note 4 N910C Unlocked Cellphone...    Samsung  449.99   \n",
       "1  BLU Energy X Plus Smartphone - With 4000 mAh S...        BLU   139.0   \n",
       "2                   Apple iPhone 6 128GB Silver AT&T      Apple  599.95   \n",
       "3  BLU Advance 4.0L Unlocked Smartphone -US GSM -...        BLU   51.99   \n",
       "4  Huawei P8 Lite US Version- 5 Unlocked Android ...     Huawei  198.99   \n",
       "\n",
       "   Rating                                            Reviews Review Votes  \n",
       "0       4             I love it!!! I absolutely love it!! 👌👍          0.0  \n",
       "1       5  I love the BLU phones! This is my second one t...          4.0  \n",
       "2       5                                        Great phone          1.0  \n",
       "3       4  Very happy with the performance. The apps work...          2.0  \n",
       "4       5                            Easy to use great price          0.0  "
      ]
     },
     "execution_count": 6,
     "metadata": {},
     "output_type": "execute_result"
    }
   ],
   "source": [
    "TRAIN = pd.read_csv(\"http://www.i3s.unice.fr/~riveill/dataset/Amazon_Unlocked_Mobile/train.csv.gz\").fillna(value=\"\")\n",
    "VAL = pd.read_csv(\"http://www.i3s.unice.fr/~riveill/dataset/Amazon_Unlocked_Mobile/val.csv.gz\").fillna(value=\"\")\n",
    "TEST = pd.read_csv(\"http://www.i3s.unice.fr/~riveill/dataset/Amazon_Unlocked_Mobile/test.csv.gz\").fillna(value=\"\")\n",
    "\n",
    "TRAIN.head()"
   ]
  },
  {
   "cell_type": "code",
   "execution_count": 7,
   "metadata": {
    "ExecuteTime": {
     "end_time": "2022-02-07T18:10:07.713765Z",
     "start_time": "2022-02-07T18:10:07.672004Z"
    },
    "colab": {
     "base_uri": "https://localhost:8080/"
    },
    "id": "WdeAXW40oUqJ",
    "outputId": "d99ac22b-c7e5-4c4a-f817-d8e25ff2a28c"
   },
   "outputs": [
    {
     "data": {
      "text/plain": [
       "((5000, 1), (5000, 5))"
      ]
     },
     "execution_count": 7,
     "metadata": {},
     "output_type": "execute_result"
    }
   ],
   "source": [
    "''' Construct X_train and y_train '''\n",
    "X_train = np.array(TRAIN['Reviews']).reshape(-1,1)\n",
    "\n",
    "ohe = OneHotEncoder(sparse=False, handle_unknown='ignore')\n",
    "y_train = ohe.fit_transform(np.array(TRAIN['Rating']).reshape(-1,1))\n",
    "\n",
    "X_train.shape, y_train.shape"
   ]
  },
  {
   "cell_type": "code",
   "execution_count": 8,
   "metadata": {
    "ExecuteTime": {
     "end_time": "2022-02-07T18:10:07.780117Z",
     "start_time": "2022-02-07T18:10:07.723204Z"
    }
   },
   "outputs": [],
   "source": [
    "''' Do the same for val '''\n",
    "X_val = np.array(VAL['Reviews']).reshape(-1,1)\n",
    "y_val = ohe.transform(np.array(VAL['Rating']).reshape(-1,1))\n",
    "\n",
    "''' Do the same for test '''\n",
    "X_test = np.array(TEST['Reviews']).reshape(-1,1)\n",
    "y_test = ohe.transform(np.array(TEST['Rating']).reshape(-1,1))"
   ]
  },
  {
   "cell_type": "markdown",
   "metadata": {
    "id": "N4BohkzOoUqO"
   },
   "source": [
    "## Build an a neural network with vectorized embedding and RNN cells.\n",
    "\n",
    "The task is to predict the sentiment according to the content of the review. We can treat this kind of task by a Many-to-one model.\n",
    "\n",
    "![LSTM for sentiment analysis](https://www.programmerall.com/images/679/8c/8c66e6ee3b9418358a791b363572bedf.jpeg)\n",
    "\n",
    "Implement such a network with :\n",
    "- a first layer of type LSTM\n",
    "- a second layer of type LSTM, each cell of this layer will be fed by the corresponding output of the first layer (see figure above).\n",
    "\n"
   ]
  },
  {
   "cell_type": "code",
   "execution_count": 9,
   "metadata": {
    "ExecuteTime": {
     "end_time": "2022-02-07T18:10:07.818887Z",
     "start_time": "2022-02-07T18:10:07.808634Z"
    },
    "colab": {
     "base_uri": "https://localhost:8080/"
    },
    "id": "B4BPv2OGoUqO",
    "outputId": "4cbf391a-81b9-447d-a0af-d6b469f85e2b"
   },
   "outputs": [],
   "source": [
    "# Constants\n",
    "## Part one \n",
    "nb_classes = y_train.shape[1]\n",
    "vocab_size = 2000    # Maximum vocab size -- adjust with the size of the vocabulary 2000 is a good metric since the voc size is 13000\n",
    "embedding_size = 300 # Embedding size - increase it to 300\n",
    "recurrent_size = 64 # Recurrent size - keep ot\n",
    "hidden_size = recurrent_size//4    # Hidden layer\n",
    "dropout_rate = 0.2   # Dropout rate for regularization # usually 0.2 is the best\n",
    "max_len = 100         # Sequence length to pad the outputs to -- adjust with the distribution of the reviews length\n",
    "learning_rate=0.00001 # decrease it takes more time and lead to heavy calculation but ensure to get good results."
   ]
  },
  {
   "cell_type": "code",
   "execution_count": 10,
   "metadata": {
    "ExecuteTime": {
     "end_time": "2022-02-07T18:10:07.870187Z",
     "start_time": "2022-02-07T18:10:07.822260Z"
    },
    "colab": {
     "base_uri": "https://localhost:8080/"
    },
    "id": "C7oN2bZkoUqP",
    "outputId": "8d7d5b26-b925-4e79-ad97-7aecd8980243"
   },
   "outputs": [],
   "source": [
    "# Create the vectorized layer.\n",
    "vectorize_layer = TextVectorization(max_tokens=vocab_size,\n",
    "                                    standardize=\"lower_and_strip_punctuation\",\n",
    "                                    # it is possible to build your own function\n",
    "                                    # to transform emoji into text\n",
    "                                    # to transform foreign reviews in english one\n",
    "                                    # etc.\n",
    "                                    output_mode='int',\n",
    "                                    output_sequence_length=max_len)"
   ]
  },
  {
   "cell_type": "code",
   "execution_count": 11,
   "metadata": {
    "ExecuteTime": {
     "end_time": "2022-02-07T18:10:08.397950Z",
     "start_time": "2022-02-07T18:10:07.872995Z"
    },
    "colab": {
     "base_uri": "https://localhost:8080/"
    },
    "id": "1XWqf1QKoUqQ",
    "outputId": "3c73908b-3066-4c32-92f8-df458dc7f8cb"
   },
   "outputs": [],
   "source": [
    "# Fit vectorized layer on train\n",
    "vectorize_layer.adapt(X_train)"
   ]
  },
  {
   "cell_type": "code",
   "execution_count": 12,
   "metadata": {
    "ExecuteTime": {
     "end_time": "2022-02-07T18:10:08.649942Z",
     "start_time": "2022-02-07T18:10:08.399942Z"
    }
   },
   "outputs": [],
   "source": [
    "# Define the network\n",
    "def build_model():\n",
    "    input_ = Input(shape=(1,), dtype=tf.string)\n",
    "    x = vectorize_layer(input_)\n",
    "    x = Embedding(vocab_size, embedding_size, name=\"Embedding\")(x)\n",
    "    x = LSTM(recurrent_size, return_sequences=False,\n",
    "             dropout=dropout_rate, recurrent_dropout=dropout_rate)(x)\n",
    "    x = Dense(hidden_size, activation=\"relu\")(x)\n",
    "    x = Dropout(dropout_rate)(x)\n",
    "    output_ = Dense(nb_classes, activation='softmax', dtype=tf.float64)(x)\n",
    "    model = Model(input_, output_)\n",
    "    return model\n",
    "\n",
    "model = build_model()"
   ]
  },
  {
   "cell_type": "code",
   "execution_count": 13,
   "metadata": {
    "ExecuteTime": {
     "end_time": "2022-02-07T18:10:08.685404Z",
     "start_time": "2022-02-07T18:10:08.656623Z"
    }
   },
   "outputs": [
    {
     "name": "stdout",
     "output_type": "stream",
     "text": [
      "Model: \"model\"\n",
      "_________________________________________________________________\n",
      " Layer (type)                Output Shape              Param #   \n",
      "=================================================================\n",
      " input_1 (InputLayer)        [(None, 1)]               0         \n",
      "                                                                 \n",
      " text_vectorization (TextVec  (None, 100)              0         \n",
      " torization)                                                     \n",
      "                                                                 \n",
      " Embedding (Embedding)       (None, 100, 300)          600000    \n",
      "                                                                 \n",
      " lstm (LSTM)                 (None, 64)                93440     \n",
      "                                                                 \n",
      " dense (Dense)               (None, 16)                1040      \n",
      "                                                                 \n",
      " dropout (Dropout)           (None, 16)                0         \n",
      "                                                                 \n",
      " dense_1 (Dense)             (None, 5)                 85        \n",
      "                                                                 \n",
      "=================================================================\n",
      "Total params: 694,565\n",
      "Trainable params: 694,565\n",
      "Non-trainable params: 0\n",
      "_________________________________________________________________\n"
     ]
    }
   ],
   "source": [
    "# summarize the model\n",
    "model.summary()"
   ]
  },
  {
   "cell_type": "code",
   "execution_count": 14,
   "metadata": {
    "ExecuteTime": {
     "end_time": "2022-02-07T18:10:09.870579Z",
     "start_time": "2022-02-07T18:10:08.690860Z"
    }
   },
   "outputs": [
    {
     "name": "stdout",
     "output_type": "stream",
     "text": [
      "('You must install pydot (`pip install pydot`) and install graphviz (see instructions at https://graphviz.gitlab.io/download/) ', 'for plot_model/model_to_dot to work.')\n"
     ]
    }
   ],
   "source": [
    "plot_model(model, show_shapes=True, show_layer_names=True, to_file='LSTM.png')"
   ]
  },
  {
   "cell_type": "code",
   "execution_count": 15,
   "metadata": {
    "ExecuteTime": {
     "end_time": "2022-02-07T18:10:09.972239Z",
     "start_time": "2022-02-07T18:10:09.875013Z"
    }
   },
   "outputs": [],
   "source": [
    "# Compile the model\n",
    "f1 = F1Score(num_classes=nb_classes, average=\"macro\", threshold=None)\n",
    "op = Adam(learning_rate=learning_rate, beta_1=0.9, beta_2=0.999, epsilon=1e-08)\n",
    "model.compile(optimizer=op, loss='categorical_crossentropy', metrics=[f1])"
   ]
  },
  {
   "cell_type": "code",
   "execution_count": 16,
   "metadata": {
    "ExecuteTime": {
     "end_time": "2022-02-07T18:14:46.575071Z",
     "start_time": "2022-02-07T18:10:09.978179Z"
    },
    "colab": {
     "base_uri": "https://localhost:8080/"
    },
    "id": "Ewj3hUDyoUqQ",
    "outputId": "056219cf-962e-4923-ae62-c61bd16cbbb3"
   },
   "outputs": [
    {
     "name": "stdout",
     "output_type": "stream",
     "text": [
      "Epoch 1/4000\n",
      "157/157 [==============================] - 12s 64ms/step - loss: 1.5714 - f1_score: 0.1911 - val_loss: 1.5422 - val_f1_score: 0.1586\n",
      "Epoch 2/4000\n",
      "157/157 [==============================] - 9s 56ms/step - loss: 1.5210 - f1_score: 0.1741 - val_loss: 1.4825 - val_f1_score: 0.1484\n",
      "Epoch 3/4000\n",
      "157/157 [==============================] - 9s 57ms/step - loss: 1.4551 - f1_score: 0.1653 - val_loss: 1.3975 - val_f1_score: 0.1436\n",
      "Epoch 4/4000\n",
      "157/157 [==============================] - 9s 56ms/step - loss: 1.3751 - f1_score: 0.1557 - val_loss: 1.3156 - val_f1_score: 0.1433\n",
      "Epoch 5/4000\n",
      "157/157 [==============================] - 9s 56ms/step - loss: 1.3433 - f1_score: 0.1518 - val_loss: 1.2921 - val_f1_score: 0.1434\n",
      "Epoch 6/4000\n",
      "157/157 [==============================] - 9s 56ms/step - loss: 1.3348 - f1_score: 0.1469 - val_loss: 1.2858 - val_f1_score: 0.1434\n",
      "Epoch 7/4000\n",
      "157/157 [==============================] - 9s 56ms/step - loss: 1.3301 - f1_score: 0.1453 - val_loss: 1.2812 - val_f1_score: 0.1434\n",
      "Epoch 8/4000\n",
      "157/157 [==============================] - 9s 56ms/step - loss: 1.3284 - f1_score: 0.1429 - val_loss: 1.2788 - val_f1_score: 0.1434\n",
      "Epoch 9/4000\n",
      "157/157 [==============================] - 9s 56ms/step - loss: 1.3298 - f1_score: 0.1438 - val_loss: 1.2771 - val_f1_score: 0.1434\n",
      "Epoch 10/4000\n",
      "157/157 [==============================] - 9s 57ms/step - loss: 1.3277 - f1_score: 0.1428 - val_loss: 1.2751 - val_f1_score: 0.1434\n",
      "Epoch 11/4000\n",
      "156/157 [============================>.] - ETA: 0s - loss: 1.3263 - f1_score: 0.1414Restoring model weights from the end of the best epoch: 1.\n",
      "157/157 [==============================] - 9s 57ms/step - loss: 1.3260 - f1_score: 0.1413 - val_loss: 1.2738 - val_f1_score: 0.1434\n",
      "Epoch 00011: early stopping\n"
     ]
    }
   ],
   "source": [
    "# fit model using ealy stopping\n",
    "es = EarlyStopping(monitor='val_f1_score', mode='max', patience=10, restore_best_weights=True, verbose=1)\n",
    "history = model.fit(X_train, y_train,\n",
    "                    validation_data=(X_val, y_val), \n",
    "                    epochs=4000, callbacks=[es], verbose=1)"
   ]
  },
  {
   "cell_type": "code",
   "execution_count": 17,
   "metadata": {
    "ExecuteTime": {
     "end_time": "2022-02-07T18:14:47.048472Z",
     "start_time": "2022-02-07T18:14:46.577993Z"
    },
    "colab": {
     "base_uri": "https://localhost:8080/",
     "height": 573
    },
    "id": "gHt8R1F9oUqQ",
    "outputId": "4dd72f65-ccc6-4321-f365-6128fe9387bf"
   },
   "outputs": [
    {
     "data": {
      "image/png": "[encoded data removed]",
      "text/plain": [
       "<Figure size 1296x432 with 2 Axes>"
      ]
     },
     "metadata": {
      "needs_background": "light"
     },
     "output_type": "display_data"
    }
   ],
   "source": [
    "# plot history\n",
    "def babysit(history):\n",
    "    fig, (ax1, ax2) = plt.subplots(1, 2, figsize=(18,6))\n",
    "\n",
    "    # summarize history for loss\n",
    "    ax1.plot(history.history['loss'])\n",
    "    ax1.plot(history.history['val_loss'])\n",
    "    ax1.set_title('model loss')\n",
    "    ax1.set_ylabel('loss')\n",
    "    ax1.set_xlabel('epoch')\n",
    "    ax1.legend(['loss train', 'loss val'], loc='best')\n",
    "\n",
    "    # summarize history for loss\n",
    "    ax2.plot(history.history['f1_score'])\n",
    "    ax2.plot(history.history['val_f1_score'])\n",
    "    ax2.set_title('model F1')\n",
    "    ax2.set_ylabel('F1')\n",
    "    ax2.set_xlabel('epoch')\n",
    "    ax2.legend(['f1 train', 'f1 val'], loc='best')\n",
    "\n",
    "    plt.show()\n",
    "    \n",
    "babysit(history)"
   ]
  },
  {
   "cell_type": "code",
   "execution_count": 18,
   "metadata": {
    "ExecuteTime": {
     "end_time": "2022-02-07T18:14:47.925538Z",
     "start_time": "2022-02-07T18:14:47.075508Z"
    }
   },
   "outputs": [
    {
     "name": "stdout",
     "output_type": "stream",
     "text": [
      "F1: 0.154452\n"
     ]
    }
   ],
   "source": [
    "# Evaluate the model\n",
    "f1.update_state(y_test, model.predict(X_test))\n",
    "print('F1: %f' % (f1.result().numpy()))"
   ]
  },
  {
   "cell_type": "markdown",
   "metadata": {},
   "source": [
    "<font color='red'>\n",
    "$To\\ do\\ student$\n",
    "\n",
    "1. Understand the code\n",
    "1. Play with LSTM model for sentiment analysis\n",
    "    * Replace LSTM by BI-LSTM\n",
    "    * Use stacked LSTM or BI-LSTM\n",
    "    * Use all hidden state and average it\n",
    "</font>"
   ]
  },
  {
   "cell_type": "markdown",
   "metadata": {},
   "source": [
    "<font color='green'>\n",
    "$If\\ you\\ want\\ to\\ go\\ further$\n",
    "\n",
    "If you are interested in the subject, current networks for sentiment prediction combine a part with recurrent networks (LTSM) to capture long dependencies and a part with convolution (CNN) to capture short dependencies. [This resarch paper](https://arxiv.org/pdf/1904.04206.pdf) or [this one](https://hal.archives-ouvertes.fr/hal-03052803/document) describe some accurate networks for sentiment analysis.\n",
    "\n",
    "Here, another paper that gives you some indications to go further: [Attention, CNN and what not for Text Classification](https://mlwhiz.com/blog/2019/03/09/deeplearning_architectures_text_classification/)\n",
    "\n",
    "You will see next week the CNN with Diane. So there is no need to use them today.\n",
    "</font>"
   ]
  },
  {
   "cell_type": "markdown",
   "metadata": {
    "ExecuteTime": {
     "end_time": "2022-02-02T09:36:27.789409Z",
     "start_time": "2022-02-02T09:36:27.737880Z"
    },
    "id": "Odn9rE6toUqR"
   },
   "source": [
    "## Attention with LSTM network\n",
    "\n"
   ]
  },
  {
   "cell_type": "code",
   "execution_count": 19,
   "metadata": {
    "ExecuteTime": {
     "end_time": "2022-02-07T18:14:48.373250Z",
     "start_time": "2022-02-07T18:14:47.932228Z"
    }
   },
   "outputs": [],
   "source": [
    "# ------------------------------------------------------\n",
    "# MODEL BUILDING\n",
    "# ------------------------------------------------------\n",
    "def build_model():\n",
    "    # Input: a review\n",
    "    input_ = Input(shape=(1, ), name=\"input\", dtype=tf.string)\n",
    "\n",
    "    # Transform the review in a list of tokenID\n",
    "    vect = vectorize_layer(input_)\n",
    "\n",
    "    # Keras embedding\n",
    "    embedding = Embedding(vocab_size,\n",
    "                          embedding_size, \n",
    "                          weights=None,  # Without pre-learning\n",
    "                          trainable=True,# Trainable\n",
    "                          name='embedding'\n",
    "                         )(vect)\n",
    "    \n",
    "    # You can try also a Bidirectionnel cell\n",
    "    rnn = LSTM(recurrent_size, return_sequences=True, \n",
    "               return_state=False,\n",
    "               dropout=dropout_rate, recurrent_dropout=dropout_rate)(embedding)\n",
    "    \n",
    "    # In the case of LSTM, there are two internal states\n",
    "    #      the hidden state, usually denoted by h,\n",
    "    #      the cell state usually denoted by c\n",
    "    # The tuple (c, h) is the internal state of a LSTM\n",
    "    # return_sequences=True gives you the hidden state (h) of the LSTM for every timestep\n",
    "    # used in combination with return_state=True, you will only get the tuple (c, h) for the final timestep\n",
    "\n",
    "    # Attention layer\n",
    "    attention = Dense(1, activation='tanh')(rnn)\n",
    "    attention = Flatten()(attention)\n",
    "    attention = Activation('softmax')(attention)\n",
    "  \n",
    "\n",
    "    # Pour pouvoir faire la multiplication (scalair/vecteur KERAS)\n",
    "    attention = RepeatVector(recurrent_size)(attention) # NORMAL RNN\n",
    "    attention = Permute([2, 1])(attention)\n",
    "  \n",
    "    # Application de l'attention sur la sortie du RNN\n",
    "    sent_representation = Dot(axes=1, normalize=False)([rnn, attention])\n",
    "    \n",
    "    # Flatten pour entrer dans le Dense\n",
    "    flatten = Flatten()(sent_representation)\n",
    "    \n",
    "    # Dense pour la classification avec 1 couche cachee\n",
    "    hidden_dense = Dense(hidden_size, activation=\"relu\")(flatten)\n",
    "    hidden_dense = Dropout(dropout_rate)(hidden_dense)\n",
    "\n",
    "    # Classification et ouput\n",
    "    output_ = Dense(nb_classes, activation='softmax')(hidden_dense)\n",
    "    \n",
    "    # Build  model\n",
    "    model = Model(inputs=input_, outputs=output_)\n",
    "    \n",
    "    return model\n",
    "\n",
    "model = build_model()"
   ]
  },
  {
   "cell_type": "code",
   "execution_count": 20,
   "metadata": {
    "ExecuteTime": {
     "end_time": "2022-02-07T18:14:49.416370Z",
     "start_time": "2022-02-07T18:14:48.376003Z"
    }
   },
   "outputs": [
    {
     "name": "stdout",
     "output_type": "stream",
     "text": [
      "('You must install pydot (`pip install pydot`) and install graphviz (see instructions at https://graphviz.gitlab.io/download/) ', 'for plot_model/model_to_dot to work.')\n"
     ]
    }
   ],
   "source": [
    "# Plot model\n",
    "# !pip install pydot\n",
    "plot_model(model, show_shapes=True, show_layer_names=True, to_file='LSTM_with_attention.png')"
   ]
  },
  {
   "cell_type": "code",
   "execution_count": 21,
   "metadata": {
    "ExecuteTime": {
     "end_time": "2022-02-07T18:14:49.693726Z",
     "start_time": "2022-02-07T18:14:49.420968Z"
    }
   },
   "outputs": [],
   "source": [
    "# Compile the model\n",
    "f1 = F1Score(num_classes=nb_classes, average=\"macro\", threshold=0.5)\n",
    "op = Adam(learning_rate=learning_rate, beta_1=0.9, beta_2=0.999, epsilon=1e-08)\n",
    "model.compile(optimizer=op, loss='categorical_crossentropy', metrics=[f1])"
   ]
  },
  {
   "cell_type": "code",
   "execution_count": 22,
   "metadata": {
    "ExecuteTime": {
     "end_time": "2022-02-07T18:16:16.397423Z",
     "start_time": "2022-02-07T18:14:49.732405Z"
    }
   },
   "outputs": [
    {
     "name": "stdout",
     "output_type": "stream",
     "text": [
      "Epoch 1/4000\n",
      "157/157 [==============================] - 12s 64ms/step - loss: 1.5760 - f1_score: 0.0000e+00 - val_loss: 1.5123 - val_f1_score: 0.0000e+00\n",
      "Epoch 2/4000\n",
      "157/157 [==============================] - 9s 60ms/step - loss: 1.4349 - f1_score: 0.0181 - val_loss: 1.2934 - val_f1_score: 0.0000e+00\n",
      "Epoch 3/4000\n",
      "157/157 [==============================] - 9s 60ms/step - loss: 1.3173 - f1_score: 0.1236 - val_loss: 1.2466 - val_f1_score: 0.1357\n",
      "Epoch 4/4000\n",
      "157/157 [==============================] - 9s 60ms/step - loss: 1.3117 - f1_score: 0.1242 - val_loss: 1.2445 - val_f1_score: 0.1354\n",
      "Epoch 5/4000\n",
      "157/157 [==============================] - 9s 60ms/step - loss: 1.3113 - f1_score: 0.1238 - val_loss: 1.2396 - val_f1_score: 0.1363\n",
      "Epoch 6/4000\n",
      "157/157 [==============================] - 9s 60ms/step - loss: 1.3126 - f1_score: 0.1218 - val_loss: 1.2398 - val_f1_score: 0.1361\n",
      "Epoch 7/4000\n",
      "157/157 [==============================] - 9s 60ms/step - loss: 1.3045 - f1_score: 0.1214 - val_loss: 1.2353 - val_f1_score: 0.1371\n",
      "Epoch 8/4000\n",
      "157/157 [==============================] - 9s 59ms/step - loss: 1.3075 - f1_score: 0.1189 - val_loss: 1.2344 - val_f1_score: 0.1375\n",
      "Epoch 9/4000\n",
      "157/157 [==============================] - 9s 59ms/step - loss: 1.3038 - f1_score: 0.1170 - val_loss: 1.2326 - val_f1_score: 0.1376\n",
      "Epoch 10/4000\n",
      "157/157 [==============================] - 9s 59ms/step - loss: 1.2888 - f1_score: 0.1221 - val_loss: 1.2293 - val_f1_score: 0.1369\n",
      "Epoch 11/4000\n",
      "157/157 [==============================] - 9s 59ms/step - loss: 1.2921 - f1_score: 0.1205 - val_loss: 1.2293 - val_f1_score: 0.1385\n",
      "Epoch 12/4000\n",
      "157/157 [==============================] - 9s 59ms/step - loss: 1.2884 - f1_score: 0.1182 - val_loss: 1.2257 - val_f1_score: 0.1372\n",
      "Epoch 13/4000\n",
      "157/157 [==============================] - 9s 59ms/step - loss: 1.2903 - f1_score: 0.1180 - val_loss: 1.2248 - val_f1_score: 0.1383\n",
      "Epoch 14/4000\n",
      "157/157 [==============================] - 9s 59ms/step - loss: 1.2893 - f1_score: 0.1170 - val_loss: 1.2221 - val_f1_score: 0.1383\n",
      "Epoch 15/4000\n",
      "157/157 [==============================] - 9s 59ms/step - loss: 1.2861 - f1_score: 0.1205 - val_loss: 1.2224 - val_f1_score: 0.1395\n",
      "Epoch 16/4000\n",
      "157/157 [==============================] - 9s 59ms/step - loss: 1.2940 - f1_score: 0.1143 - val_loss: 1.2193 - val_f1_score: 0.1394\n",
      "Epoch 17/4000\n",
      "157/157 [==============================] - 9s 59ms/step - loss: 1.2852 - f1_score: 0.1186 - val_loss: 1.2193 - val_f1_score: 0.1398\n",
      "Epoch 18/4000\n",
      "157/157 [==============================] - 9s 59ms/step - loss: 1.2827 - f1_score: 0.1168 - val_loss: 1.2141 - val_f1_score: 0.1412\n",
      "Epoch 19/4000\n",
      "157/157 [==============================] - 9s 59ms/step - loss: 1.2759 - f1_score: 0.1193 - val_loss: 1.2130 - val_f1_score: 0.1413\n",
      "Epoch 20/4000\n",
      "157/157 [==============================] - 9s 59ms/step - loss: 1.2670 - f1_score: 0.1215 - val_loss: 1.2086 - val_f1_score: 0.1420\n",
      "Epoch 21/4000\n",
      "157/157 [==============================] - 9s 60ms/step - loss: 1.2646 - f1_score: 0.1195 - val_loss: 1.1983 - val_f1_score: 0.1434\n",
      "Epoch 22/4000\n",
      "157/157 [==============================] - 9s 59ms/step - loss: 1.2592 - f1_score: 0.1245 - val_loss: 1.1992 - val_f1_score: 0.1443\n",
      "Epoch 23/4000\n",
      "157/157 [==============================] - 9s 59ms/step - loss: 1.2579 - f1_score: 0.1211 - val_loss: 1.1837 - val_f1_score: 0.1463\n",
      "Epoch 24/4000\n",
      "157/157 [==============================] - 9s 59ms/step - loss: 1.2533 - f1_score: 0.1248 - val_loss: 1.1728 - val_f1_score: 0.1478\n",
      "Epoch 25/4000\n",
      "157/157 [==============================] - 9s 60ms/step - loss: 1.2318 - f1_score: 0.1313 - val_loss: 1.1577 - val_f1_score: 0.1523\n",
      "Epoch 26/4000\n",
      "157/157 [==============================] - 9s 59ms/step - loss: 1.2108 - f1_score: 0.1356 - val_loss: 1.1207 - val_f1_score: 0.1584\n",
      "Epoch 27/4000\n",
      "157/157 [==============================] - 9s 59ms/step - loss: 1.1475 - f1_score: 0.1442 - val_loss: 1.0179 - val_f1_score: 0.1673\n",
      "Epoch 28/4000\n",
      "157/157 [==============================] - 9s 59ms/step - loss: 1.0810 - f1_score: 0.1566 - val_loss: 0.9717 - val_f1_score: 0.1726\n",
      "Epoch 29/4000\n",
      "157/157 [==============================] - 9s 59ms/step - loss: 1.0499 - f1_score: 0.2039 - val_loss: 0.9493 - val_f1_score: 0.2131\n",
      "Epoch 30/4000\n",
      "157/157 [==============================] - 9s 59ms/step - loss: 1.0444 - f1_score: 0.2293 - val_loss: 0.9387 - val_f1_score: 0.2429\n",
      "Epoch 31/4000\n",
      "157/157 [==============================] - 9s 59ms/step - loss: 1.0216 - f1_score: 0.2435 - val_loss: 0.9301 - val_f1_score: 0.2455\n",
      "Epoch 32/4000\n",
      "157/157 [==============================] - 9s 59ms/step - loss: 1.0083 - f1_score: 0.2567 - val_loss: 0.9241 - val_f1_score: 0.2580\n",
      "Epoch 33/4000\n",
      "157/157 [==============================] - 9s 59ms/step - loss: 0.9962 - f1_score: 0.2606 - val_loss: 0.9237 - val_f1_score: 0.2635\n",
      "Epoch 34/4000\n",
      "157/157 [==============================] - 9s 59ms/step - loss: 0.9992 - f1_score: 0.2642 - val_loss: 0.9230 - val_f1_score: 0.2597\n",
      "Epoch 35/4000\n",
      "157/157 [==============================] - 9s 59ms/step - loss: 0.9871 - f1_score: 0.2652 - val_loss: 0.9144 - val_f1_score: 0.2642\n",
      "Epoch 36/4000\n",
      "157/157 [==============================] - 9s 59ms/step - loss: 0.9900 - f1_score: 0.2690 - val_loss: 0.9079 - val_f1_score: 0.2641\n",
      "Epoch 37/4000\n",
      "157/157 [==============================] - 9s 60ms/step - loss: 0.9823 - f1_score: 0.2700 - val_loss: 0.9039 - val_f1_score: 0.2628\n",
      "Epoch 38/4000\n",
      "157/157 [==============================] - 10s 61ms/step - loss: 0.9708 - f1_score: 0.2733 - val_loss: 0.9019 - val_f1_score: 0.2687\n",
      "Epoch 39/4000\n",
      "157/157 [==============================] - 9s 60ms/step - loss: 0.9747 - f1_score: 0.2707 - val_loss: 0.8992 - val_f1_score: 0.2671\n",
      "Epoch 40/4000\n",
      "157/157 [==============================] - 9s 60ms/step - loss: 0.9588 - f1_score: 0.2782 - val_loss: 0.9024 - val_f1_score: 0.2754\n",
      "Epoch 41/4000\n",
      "157/157 [==============================] - 9s 59ms/step - loss: 0.9632 - f1_score: 0.2816 - val_loss: 0.9018 - val_f1_score: 0.2755\n",
      "Epoch 42/4000\n",
      "157/157 [==============================] - 9s 59ms/step - loss: 0.9555 - f1_score: 0.2852 - val_loss: 0.8937 - val_f1_score: 0.2664\n",
      "Epoch 43/4000\n",
      "157/157 [==============================] - 9s 60ms/step - loss: 0.9602 - f1_score: 0.2776 - val_loss: 0.8927 - val_f1_score: 0.2661\n",
      "Epoch 44/4000\n",
      "157/157 [==============================] - 9s 59ms/step - loss: 0.9423 - f1_score: 0.2873 - val_loss: 0.8863 - val_f1_score: 0.2760\n",
      "Epoch 45/4000\n",
      "157/157 [==============================] - 9s 59ms/step - loss: 0.9499 - f1_score: 0.2844 - val_loss: 0.8849 - val_f1_score: 0.2713\n",
      "Epoch 46/4000\n",
      "157/157 [==============================] - 9s 59ms/step - loss: 0.9352 - f1_score: 0.2871 - val_loss: 0.8865 - val_f1_score: 0.2752\n",
      "Epoch 47/4000\n",
      "157/157 [==============================] - 9s 59ms/step - loss: 0.9335 - f1_score: 0.2923 - val_loss: 0.8852 - val_f1_score: 0.2850\n",
      "Epoch 48/4000\n",
      "157/157 [==============================] - 9s 59ms/step - loss: 0.9369 - f1_score: 0.2939 - val_loss: 0.8833 - val_f1_score: 0.2747\n",
      "Epoch 49/4000\n",
      "157/157 [==============================] - 9s 59ms/step - loss: 0.9335 - f1_score: 0.2896 - val_loss: 0.8809 - val_f1_score: 0.2806\n",
      "Epoch 50/4000\n",
      "157/157 [==============================] - 9s 59ms/step - loss: 0.9284 - f1_score: 0.2936 - val_loss: 0.8804 - val_f1_score: 0.2767\n",
      "Epoch 51/4000\n",
      "157/157 [==============================] - 9s 59ms/step - loss: 0.9127 - f1_score: 0.2957 - val_loss: 0.8857 - val_f1_score: 0.2860\n",
      "Epoch 52/4000\n",
      "157/157 [==============================] - 9s 60ms/step - loss: 0.9234 - f1_score: 0.2999 - val_loss: 0.8854 - val_f1_score: 0.2813\n",
      "Epoch 53/4000\n",
      "157/157 [==============================] - 9s 59ms/step - loss: 0.9208 - f1_score: 0.2969 - val_loss: 0.8783 - val_f1_score: 0.2850\n",
      "Epoch 54/4000\n",
      "157/157 [==============================] - 9s 59ms/step - loss: 0.9131 - f1_score: 0.3016 - val_loss: 0.8783 - val_f1_score: 0.2865\n",
      "Epoch 55/4000\n",
      "157/157 [==============================] - 9s 59ms/step - loss: 0.9208 - f1_score: 0.3000 - val_loss: 0.8841 - val_f1_score: 0.2849\n",
      "Epoch 56/4000\n",
      "157/157 [==============================] - 9s 59ms/step - loss: 0.9182 - f1_score: 0.2963 - val_loss: 0.8890 - val_f1_score: 0.2859\n",
      "Epoch 57/4000\n"
     ]
    },
    {
     "name": "stdout",
     "output_type": "stream",
     "text": [
      "157/157 [==============================] - 9s 59ms/step - loss: 0.9094 - f1_score: 0.2986 - val_loss: 0.8752 - val_f1_score: 0.2856\n",
      "Epoch 58/4000\n",
      "157/157 [==============================] - 9s 59ms/step - loss: 0.9126 - f1_score: 0.2970 - val_loss: 0.8836 - val_f1_score: 0.2794\n",
      "Epoch 59/4000\n",
      "157/157 [==============================] - 9s 60ms/step - loss: 0.9060 - f1_score: 0.2975 - val_loss: 0.8757 - val_f1_score: 0.2880\n",
      "Epoch 60/4000\n",
      "157/157 [==============================] - 9s 60ms/step - loss: 0.8993 - f1_score: 0.3025 - val_loss: 0.8755 - val_f1_score: 0.2893\n",
      "Epoch 61/4000\n",
      "157/157 [==============================] - 9s 59ms/step - loss: 0.9111 - f1_score: 0.3007 - val_loss: 0.8784 - val_f1_score: 0.2863\n",
      "Epoch 62/4000\n",
      "157/157 [==============================] - 9s 59ms/step - loss: 0.8881 - f1_score: 0.3034 - val_loss: 0.8755 - val_f1_score: 0.2895\n",
      "Epoch 63/4000\n",
      "157/157 [==============================] - 9s 59ms/step - loss: 0.8870 - f1_score: 0.3064 - val_loss: 0.8768 - val_f1_score: 0.2903\n",
      "Epoch 64/4000\n",
      "157/157 [==============================] - 9s 60ms/step - loss: 0.8805 - f1_score: 0.3096 - val_loss: 0.8761 - val_f1_score: 0.2910\n",
      "Epoch 65/4000\n",
      "157/157 [==============================] - 9s 60ms/step - loss: 0.8809 - f1_score: 0.3054 - val_loss: 0.8750 - val_f1_score: 0.2882\n",
      "Epoch 66/4000\n",
      "157/157 [==============================] - 9s 59ms/step - loss: 0.8794 - f1_score: 0.3064 - val_loss: 0.8773 - val_f1_score: 0.2937\n",
      "Epoch 67/4000\n",
      "157/157 [==============================] - 9s 60ms/step - loss: 0.8838 - f1_score: 0.3057 - val_loss: 0.8848 - val_f1_score: 0.2914\n",
      "Epoch 68/4000\n",
      "157/157 [==============================] - 9s 59ms/step - loss: 0.8770 - f1_score: 0.3059 - val_loss: 0.8844 - val_f1_score: 0.2920\n",
      "Epoch 69/4000\n",
      "157/157 [==============================] - 9s 60ms/step - loss: 0.8741 - f1_score: 0.3050 - val_loss: 0.8803 - val_f1_score: 0.2909\n",
      "Epoch 70/4000\n",
      "157/157 [==============================] - 9s 60ms/step - loss: 0.8889 - f1_score: 0.3045 - val_loss: 0.8769 - val_f1_score: 0.2901\n",
      "Epoch 71/4000\n",
      "156/157 [============================>.] - ETA: 0s - loss: 0.8730 - f1_score: 0.3051Restoring model weights from the end of the best epoch: 66.\n",
      "157/157 [==============================] - 9s 60ms/step - loss: 0.8724 - f1_score: 0.3053 - val_loss: 0.8800 - val_f1_score: 0.2906\n",
      "Epoch 00071: early stopping\n"
     ]
    }
   ],
   "source": [
    "# fit model using ealy stopping\n",
    "es = EarlyStopping(monitor='val_f1_score', mode='max', patience=5, restore_best_weights=True, verbose=2)\n",
    "history = model.fit(X_train, y_train,\n",
    "                    validation_data=(X_val, y_val), \n",
    "                    epochs=4000, callbacks=[es], verbose=1)"
   ]
  },
  {
   "cell_type": "code",
   "execution_count": 23,
   "metadata": {
    "ExecuteTime": {
     "end_time": "2022-02-07T18:16:17.606240Z",
     "start_time": "2022-02-07T18:16:16.417923Z"
    }
   },
   "outputs": [
    {
     "data": {
      "image/png": "[encoded data removed]",
      "text/plain": [
       "<Figure size 1296x432 with 2 Axes>"
      ]
     },
     "metadata": {
      "needs_background": "light"
     },
     "output_type": "display_data"
    }
   ],
   "source": [
    "# plot history\n",
    "babysit(history)"
   ]
  },
  {
   "cell_type": "code",
   "execution_count": 24,
   "metadata": {
    "ExecuteTime": {
     "end_time": "2022-02-07T18:16:18.618929Z",
     "start_time": "2022-02-07T18:16:17.739715Z"
    }
   },
   "outputs": [
    {
     "name": "stdout",
     "output_type": "stream",
     "text": [
      "F1: 0.292074\n"
     ]
    }
   ],
   "source": [
    "# Evaluate the model\n",
    "f1.update_state(y_test, model.predict(X_test))\n",
    "print('F1: %f' % (f1.result().numpy()))"
   ]
  },
  {
   "cell_type": "markdown",
   "metadata": {
    "ExecuteTime": {
     "end_time": "2022-02-07T15:12:32.722152Z",
     "start_time": "2022-02-07T15:12:32.722119Z"
    }
   },
   "source": [
    "## Use Attentionnal model"
   ]
  },
  {
   "cell_type": "code",
   "execution_count": 25,
   "metadata": {
    "ExecuteTime": {
     "end_time": "2022-02-07T18:16:18.695327Z",
     "start_time": "2022-02-07T18:16:18.638488Z"
    }
   },
   "outputs": [],
   "source": [
    "# ------------------------------------------------------\n",
    "# GET ATTENTION MODEL\n",
    "# ------------------------------------------------------\n",
    "def get_attention_model(model):\n",
    "    attention_layer_indice = 0\n",
    "    for layer in model.layers:\n",
    "        print(type(layer))\n",
    "        if type(layer) is Activation:\n",
    "            break\n",
    "        else:\n",
    "            attention_layer_indice += 1\n",
    "\n",
    "    # Create an attention model\n",
    "    return Model(inputs=model.layers[0].input, outputs=model.layers[attention_layer_indice].output)"
   ]
  },
  {
   "cell_type": "code",
   "execution_count": 26,
   "metadata": {
    "ExecuteTime": {
     "end_time": "2022-02-07T18:16:19.640503Z",
     "start_time": "2022-02-07T18:16:18.699293Z"
    }
   },
   "outputs": [
    {
     "name": "stdout",
     "output_type": "stream",
     "text": [
      "<class 'keras.engine.input_layer.InputLayer'>\n",
      "<class 'keras.layers.preprocessing.text_vectorization.TextVectorization'>\n",
      "<class 'keras.layers.embeddings.Embedding'>\n",
      "<class 'keras.layers.recurrent_v2.LSTM'>\n",
      "<class 'keras.layers.core.dense.Dense'>\n",
      "<class 'keras.layers.core.flatten.Flatten'>\n",
      "<class 'keras.layers.core.activation.Activation'>\n",
      "('You must install pydot (`pip install pydot`) and install graphviz (see instructions at https://graphviz.gitlab.io/download/) ', 'for plot_model/model_to_dot to work.')\n"
     ]
    }
   ],
   "source": [
    "# PLOT ATTENTION MODEL from classifier model with ATTENTION\n",
    "attention_model = get_attention_model(model)\n",
    "plot_model(attention_model, show_shapes=True, show_layer_names=True, to_file='model_get_attention.png')"
   ]
  },
  {
   "cell_type": "code",
   "execution_count": 27,
   "metadata": {
    "ExecuteTime": {
     "end_time": "2022-02-07T18:16:20.333388Z",
     "start_time": "2022-02-07T18:16:19.650672Z"
    }
   },
   "outputs": [
    {
     "data": {
      "text/plain": [
       "array([[0.01671109, 0.01697292, 0.01591383, 0.01501828, 0.0142739 ,\n",
       "        0.01365849, 0.01315092, 0.01273246, 0.01238716, 0.01210174,\n",
       "        0.01186523, 0.01166867, 0.01150467, 0.0113672 , 0.01125134,\n",
       "        0.01115301, 0.01106887, 0.01099618, 0.01093269, 0.01087652,\n",
       "        0.01082615, 0.01078032, 0.010738  , 0.01069834, 0.01066064,\n",
       "        0.01062435, 0.010589  , 0.01055421, 0.01051968, 0.01048515,\n",
       "        0.01045044, 0.01041537, 0.01037981, 0.01034365, 0.01030682,\n",
       "        0.01026923, 0.01023085, 0.01019164, 0.01015155, 0.01011059,\n",
       "        0.01006874, 0.010026  , 0.00998238, 0.00993791, 0.00989261,\n",
       "        0.00984653, 0.00979969, 0.00975217, 0.00970403, 0.00965534,\n",
       "        0.00960619, 0.00955667, 0.00950688, 0.00945694, 0.00940696,\n",
       "        0.00935707, 0.0093074 , 0.0092581 , 0.0092093 , 0.00916114,\n",
       "        0.00911376, 0.00906731, 0.00902191, 0.00897771, 0.0089348 ,\n",
       "        0.00889332, 0.00885334, 0.00881496, 0.00877823, 0.00874322,\n",
       "        0.00870996, 0.00867846, 0.00864874, 0.00862078, 0.00859456,\n",
       "        0.00857004, 0.00854717, 0.0085259 , 0.00850615, 0.00848785,\n",
       "        0.00847094, 0.00845532, 0.00844092, 0.00842766, 0.00841545,\n",
       "        0.00840423, 0.00839391, 0.00838442, 0.00837569, 0.00836767,\n",
       "        0.00836029, 0.0083535 , 0.00834724, 0.00834147, 0.00833615,\n",
       "        0.00833123, 0.00832669, 0.00832249, 0.0083186 , 0.008315  ]],\n",
       "      dtype=float32)"
      ]
     },
     "execution_count": 27,
     "metadata": {},
     "output_type": "execute_result"
    }
   ],
   "source": [
    "# ------------------------------------------------------\n",
    "# GET ATTENTION\n",
    "# ------------------------------------------------------\n",
    "attentions = attention_model.predict(X_val[0])\n",
    "attentions"
   ]
  },
  {
   "cell_type": "code",
   "execution_count": 28,
   "metadata": {
    "ExecuteTime": {
     "end_time": "2022-02-07T18:16:21.605912Z",
     "start_time": "2022-02-07T18:16:20.352537Z"
    }
   },
   "outputs": [
    {
     "name": "stderr",
     "output_type": "stream",
     "text": [
      "C:\\Users\\hadik\\AppData\\Local\\Temp/ipykernel_9740/2036900014.py:17: DeprecationWarning: np.asscalar(a) is deprecated since NumPy v1.16, use a.item() instead\n",
      "  result_entry[\"original\"] = np.asscalar(X_)\n"
     ]
    },
    {
     "data": {
      "text/plain": [
       "{'prediction': (0, 4),\n",
       " 'original': 'Pretty good',\n",
       " 'sentence': [{'pretty': 0.8423423171043396}, {'good': 0.9214214086532593}]}"
      ]
     },
     "execution_count": 28,
     "metadata": {},
     "output_type": "execute_result"
    }
   ],
   "source": [
    "# ------------------------------------------------------\n",
    "# GET ATTENTION for each WORD\n",
    "# ------------------------------------------------------\n",
    "from sklearn import preprocessing\n",
    "\n",
    "def get_attention(X, y, prediction, attention, N=5):\n",
    "    # normalize attention (without the padding part)\n",
    "    normalized_attention = preprocessing.QuantileTransformer().fit_transform(attention)\n",
    "  \n",
    "    results = []\n",
    "    for i, (X_, y_, p_, a_) in enumerate(zip(X, y, prediction, normalized_attention)):\n",
    "        if i>N:\n",
    "            break\n",
    "        # build result\n",
    "        result_entry = {}\n",
    "        result_entry[\"prediction\"] = (np.argmax(y_), np.argmax(p_))\n",
    "        result_entry[\"original\"] = np.asscalar(X_)\n",
    "        result_entry[\"sentence\"] = []\n",
    "        for j, word in enumerate(vectorize_layer(X_).numpy().flatten().tolist()):\n",
    "            word_obj = {}\n",
    "            if word==0:\n",
    "                break\n",
    "            word_obj[vectorize_layer.get_vocabulary()[word]] = a_[j].item()\n",
    "            result_entry[\"sentence\"].append(word_obj)\n",
    "            \n",
    "        results += [result_entry]\n",
    "    return results\n",
    "\n",
    "sentences_with_attention = get_attention(X_val, y_val,\n",
    "                                         model.predict(X_val),\n",
    "                                         attention_model.predict(X_val),\n",
    "                                         10)   \n",
    "sentences_with_attention[0]"
   ]
  },
  {
   "cell_type": "code",
   "execution_count": 29,
   "metadata": {
    "ExecuteTime": {
     "end_time": "2022-02-07T18:16:21.804500Z",
     "start_time": "2022-02-07T18:16:21.631611Z"
    }
   },
   "outputs": [
    {
     "name": "stdout",
     "output_type": "stream",
     "text": [
      "\u001b[1m\u001b[32mIn green, the most important word\n",
      "\n",
      "\u001b[0m\n",
      "Pretty good\n",
      "\u001b[1m\u001b[32mpretty\u001b[0m \u001b[1m\u001b[32mgood\u001b[0m \n",
      "\n",
      "Excellent,very good Very fast\n",
      "\u001b[1m\u001b[32m[UNK]\u001b[0m \u001b[1m\u001b[32mgood\u001b[0m \u001b[1m\u001b[32mvery\u001b[0m \u001b[1m\u001b[32mfast\u001b[0m \n",
      "\n",
      "This was a replacement. We had a POS Samsung from Cincinnati Bell. That phone was the worst thing we ever owned! This HTC seems to be built to last. It is small. Dont plan on rocking a lot of video. However, it is an Andriod and I think my wife likes it. It feels sturdy too. We bought it unlocked. All we had to do was insert the SIM card. It took about 2min to get it all set up. Very nice! I would give it 4-stars but the internal memory will eventually be an issue.\n",
      "\u001b[1m\u001b[31mthis\u001b[0m \u001b[1m\u001b[31mwas\u001b[0m \u001b[1m\u001b[31ma\u001b[0m \u001b[1m\u001b[31mreplacement\u001b[0m \u001b[1m\u001b[31mwe\u001b[0m \u001b[1m\u001b[31mhad\u001b[0m \u001b[1m\u001b[31ma\u001b[0m \u001b[1m\u001b[31m[UNK]\u001b[0m \u001b[1m\u001b[31msamsung\u001b[0m \u001b[1m\u001b[31mfrom\u001b[0m \u001b[1m\u001b[31m[UNK]\u001b[0m \u001b[1m\u001b[31m[UNK]\u001b[0m \u001b[1m\u001b[31mthat\u001b[0m \u001b[1m\u001b[31mphone\u001b[0m \u001b[1m\u001b[31mwas\u001b[0m \u001b[30mthe\u001b[0m \u001b[30mworst\u001b[0m \u001b[30mthing\u001b[0m \u001b[1m\u001b[31mwe\u001b[0m \u001b[30mever\u001b[0m \u001b[1m\u001b[31mowned\u001b[0m \u001b[30mthis\u001b[0m \u001b[30mhtc\u001b[0m \u001b[1m\u001b[31mseems\u001b[0m \u001b[30mto\u001b[0m \u001b[30mbe\u001b[0m \u001b[30mbuilt\u001b[0m \u001b[30mto\u001b[0m \u001b[30mlast\u001b[0m \u001b[30mit\u001b[0m \u001b[1m\u001b[32mis\u001b[0m \u001b[30msmall\u001b[0m \u001b[1m\u001b[32mdont\u001b[0m \u001b[1m\u001b[32mplan\u001b[0m \u001b[1m\u001b[32mon\u001b[0m \u001b[1m\u001b[32m[UNK]\u001b[0m \u001b[1m\u001b[32ma\u001b[0m \u001b[1m\u001b[32mlot\u001b[0m \u001b[1m\u001b[32mof\u001b[0m \u001b[1m\u001b[32mvideo\u001b[0m \u001b[1m\u001b[32mhowever\u001b[0m \u001b[1m\u001b[32mit\u001b[0m \u001b[1m\u001b[32mis\u001b[0m \u001b[1m\u001b[32man\u001b[0m \u001b[1m\u001b[32m[UNK]\u001b[0m \u001b[1m\u001b[32mand\u001b[0m \u001b[1m\u001b[32mi\u001b[0m \u001b[1m\u001b[32mthink\u001b[0m \u001b[1m\u001b[32mmy\u001b[0m \u001b[1m\u001b[32mwife\u001b[0m \u001b[1m\u001b[32mlikes\u001b[0m \u001b[1m\u001b[32mit\u001b[0m \u001b[1m\u001b[32mit\u001b[0m \u001b[1m\u001b[32mfeels\u001b[0m \u001b[1m\u001b[32msturdy\u001b[0m \u001b[1m\u001b[32mtoo\u001b[0m \u001b[1m\u001b[32mwe\u001b[0m \u001b[1m\u001b[32mbought\u001b[0m \u001b[1m\u001b[32mit\u001b[0m \u001b[1m\u001b[32munlocked\u001b[0m \u001b[1m\u001b[32mall\u001b[0m \u001b[1m\u001b[32mwe\u001b[0m \u001b[1m\u001b[32mhad\u001b[0m \u001b[1m\u001b[32mto\u001b[0m \u001b[1m\u001b[32mdo\u001b[0m \u001b[1m\u001b[32mwas\u001b[0m \u001b[1m\u001b[32minsert\u001b[0m \u001b[1m\u001b[32mthe\u001b[0m \u001b[1m\u001b[32msim\u001b[0m \u001b[1m\u001b[32mcard\u001b[0m \u001b[1m\u001b[32mit\u001b[0m \u001b[1m\u001b[32mtook\u001b[0m \u001b[1m\u001b[32mabout\u001b[0m \u001b[1m\u001b[32m[UNK]\u001b[0m \u001b[1m\u001b[32mto\u001b[0m \u001b[1m\u001b[32mget\u001b[0m \u001b[1m\u001b[32mit\u001b[0m \u001b[1m\u001b[32mall\u001b[0m \u001b[1m\u001b[32mset\u001b[0m \u001b[30mup\u001b[0m \u001b[30mvery\u001b[0m \u001b[30mnice\u001b[0m \u001b[30mi\u001b[0m \u001b[30mwould\u001b[0m \u001b[30mgive\u001b[0m \u001b[1m\u001b[32mit\u001b[0m \u001b[1m\u001b[32m[UNK]\u001b[0m \u001b[1m\u001b[32mbut\u001b[0m \u001b[1m\u001b[32mthe\u001b[0m \u001b[1m\u001b[32minternal\u001b[0m \u001b[1m\u001b[32mmemory\u001b[0m \u001b[1m\u001b[32mwill\u001b[0m \u001b[1m\u001b[32meventually\u001b[0m \u001b[1m\u001b[32mbe\u001b[0m \u001b[1m\u001b[32man\u001b[0m \u001b[1m\u001b[32missue\u001b[0m \n",
      "\n",
      "Was used ! Had to return it\n",
      "\u001b[30mwas\u001b[0m \u001b[30mused\u001b[0m \u001b[30mhad\u001b[0m \u001b[30mto\u001b[0m \u001b[30mreturn\u001b[0m \u001b[30mit\u001b[0m \n",
      "\n",
      "Just loved the item, and it was just as the pictured stated, therefore i'm happy with my purchase, but i feel it being a Nokia it should of been able to do a bit more.\n",
      "\u001b[30mjust\u001b[0m \u001b[30mloved\u001b[0m \u001b[30mthe\u001b[0m \u001b[30mitem\u001b[0m \u001b[30mand\u001b[0m \u001b[30mit\u001b[0m \u001b[1m\u001b[32mwas\u001b[0m \u001b[1m\u001b[32mjust\u001b[0m \u001b[1m\u001b[32mas\u001b[0m \u001b[1m\u001b[32mthe\u001b[0m \u001b[1m\u001b[32m[UNK]\u001b[0m \u001b[1m\u001b[32mstated\u001b[0m \u001b[1m\u001b[32mtherefore\u001b[0m \u001b[1m\u001b[32mim\u001b[0m \u001b[1m\u001b[32mhappy\u001b[0m \u001b[1m\u001b[32mwith\u001b[0m \u001b[1m\u001b[32mmy\u001b[0m \u001b[1m\u001b[32mpurchase\u001b[0m \u001b[1m\u001b[32mbut\u001b[0m \u001b[1m\u001b[32mi\u001b[0m \u001b[1m\u001b[32mfeel\u001b[0m \u001b[1m\u001b[32mit\u001b[0m \u001b[1m\u001b[32mbeing\u001b[0m \u001b[1m\u001b[32ma\u001b[0m \u001b[1m\u001b[32mnokia\u001b[0m \u001b[1m\u001b[32mit\u001b[0m \u001b[1m\u001b[32mshould\u001b[0m \u001b[1m\u001b[32mof\u001b[0m \u001b[1m\u001b[32mbeen\u001b[0m \u001b[1m\u001b[32mable\u001b[0m \u001b[1m\u001b[32mto\u001b[0m \u001b[1m\u001b[32mdo\u001b[0m \u001b[1m\u001b[32ma\u001b[0m \u001b[1m\u001b[32mbit\u001b[0m \u001b[1m\u001b[32mmore\u001b[0m \n",
      "\n",
      "total confianza y satisfacción el un producto de excelente calidad el tiempo de entrega fue muy breve y estoy muy contento\n",
      "\u001b[30mtotal\u001b[0m \u001b[30m[UNK]\u001b[0m \u001b[1m\u001b[32my\u001b[0m \u001b[1m\u001b[32m[UNK]\u001b[0m \u001b[1m\u001b[32mel\u001b[0m \u001b[1m\u001b[32mun\u001b[0m \u001b[1m\u001b[32mproducto\u001b[0m \u001b[1m\u001b[32mde\u001b[0m \u001b[1m\u001b[32mexcelente\u001b[0m \u001b[1m\u001b[32m[UNK]\u001b[0m \u001b[1m\u001b[32mel\u001b[0m \u001b[1m\u001b[32m[UNK]\u001b[0m \u001b[1m\u001b[32mde\u001b[0m \u001b[1m\u001b[32m[UNK]\u001b[0m \u001b[1m\u001b[32m[UNK]\u001b[0m \u001b[1m\u001b[32mmuy\u001b[0m \u001b[1m\u001b[32m[UNK]\u001b[0m \u001b[1m\u001b[32my\u001b[0m \u001b[1m\u001b[32m[UNK]\u001b[0m \u001b[1m\u001b[32mmuy\u001b[0m \u001b[1m\u001b[32m[UNK]\u001b[0m \n",
      "\n",
      "Liberado ? Unlocked??\n",
      "\u001b[30m[UNK]\u001b[0m \u001b[30munlocked\u001b[0m \n",
      "\n",
      "At first there were two problems with the product iPhone 4s unlocked I purchased . The WiFi tab was greyed out dim and I can't connect to Internet even I have a sim card with high speed internet and Wi Fi at home. There is no cellular data network tab on the phone to edit the APN. I called Wireless 2 go They told me they had never had this issue before and they were ready to refund me and sent me a label to return the product. After consideration I decided not to return the product. I reset and erased all the the content and network and started activating the iPhone again. It was a hard time! Finally the Wi Fi tab works and the Internet is connected. However when I browsed Google the Wi Fi stopped working and the screen displayed \"could not activate cellular dater network\" . I had to redo everything again. Totally 3 times. Now it is connected to Wi Fi and Internet but I don't know how long this status can maintain. I even dare not to browse Google website on this iphone. I think the shadow of the former carrier is still there even the phone is unlocked. Is there a way to find out the cellular data network tab and APN to solve this problem?Anyway I have to say that this iPhone 4s has a good look and almost no scratches.\n",
      "\u001b[1m\u001b[31mat\u001b[0m \u001b[1m\u001b[31mfirst\u001b[0m \u001b[1m\u001b[31mthere\u001b[0m \u001b[1m\u001b[31mwere\u001b[0m \u001b[1m\u001b[31mtwo\u001b[0m \u001b[1m\u001b[31mproblems\u001b[0m \u001b[1m\u001b[31mwith\u001b[0m \u001b[1m\u001b[31mthe\u001b[0m \u001b[1m\u001b[31mproduct\u001b[0m \u001b[1m\u001b[31miphone\u001b[0m \u001b[1m\u001b[31m4s\u001b[0m \u001b[1m\u001b[31munlocked\u001b[0m \u001b[1m\u001b[31mi\u001b[0m \u001b[1m\u001b[31mpurchased\u001b[0m \u001b[1m\u001b[31mthe\u001b[0m \u001b[1m\u001b[31mwifi\u001b[0m \u001b[1m\u001b[31m[UNK]\u001b[0m \u001b[1m\u001b[31mwas\u001b[0m \u001b[1m\u001b[31m[UNK]\u001b[0m \u001b[1m\u001b[31mout\u001b[0m \u001b[1m\u001b[31m[UNK]\u001b[0m \u001b[1m\u001b[31mand\u001b[0m \u001b[1m\u001b[31mi\u001b[0m \u001b[1m\u001b[31mcant\u001b[0m \u001b[1m\u001b[31mconnect\u001b[0m \u001b[30mto\u001b[0m \u001b[30minternet\u001b[0m \u001b[30meven\u001b[0m \u001b[30mi\u001b[0m \u001b[30mhave\u001b[0m \u001b[30ma\u001b[0m \u001b[30msim\u001b[0m \u001b[30mcard\u001b[0m \u001b[30mwith\u001b[0m \u001b[30mhigh\u001b[0m \u001b[30mspeed\u001b[0m \u001b[30minternet\u001b[0m \u001b[30mand\u001b[0m \u001b[30m[UNK]\u001b[0m \u001b[30m[UNK]\u001b[0m \u001b[30mat\u001b[0m \u001b[30mhome\u001b[0m \u001b[30mthere\u001b[0m \u001b[1m\u001b[32mis\u001b[0m \u001b[1m\u001b[32mno\u001b[0m \u001b[1m\u001b[32mcellular\u001b[0m \u001b[1m\u001b[32mdata\u001b[0m \u001b[1m\u001b[32mnetwork\u001b[0m \u001b[1m\u001b[32m[UNK]\u001b[0m \u001b[1m\u001b[32mon\u001b[0m \u001b[1m\u001b[32mthe\u001b[0m \u001b[1m\u001b[32mphone\u001b[0m \u001b[1m\u001b[32mto\u001b[0m \u001b[1m\u001b[32m[UNK]\u001b[0m \u001b[1m\u001b[32mthe\u001b[0m \u001b[1m\u001b[32mapn\u001b[0m \u001b[1m\u001b[32mi\u001b[0m \u001b[1m\u001b[32mcalled\u001b[0m \u001b[1m\u001b[32mwireless\u001b[0m \u001b[1m\u001b[32m2\u001b[0m \u001b[1m\u001b[32mgo\u001b[0m \u001b[1m\u001b[32mthey\u001b[0m \u001b[1m\u001b[32mtold\u001b[0m \u001b[1m\u001b[32mme\u001b[0m \u001b[1m\u001b[32mthey\u001b[0m \u001b[1m\u001b[32mhad\u001b[0m \u001b[1m\u001b[32mnever\u001b[0m \u001b[1m\u001b[32mhad\u001b[0m \u001b[1m\u001b[32mthis\u001b[0m \u001b[1m\u001b[32missue\u001b[0m \u001b[1m\u001b[32mbefore\u001b[0m \u001b[1m\u001b[32mand\u001b[0m \u001b[1m\u001b[32mthey\u001b[0m \u001b[1m\u001b[32mwere\u001b[0m \u001b[1m\u001b[32mready\u001b[0m \u001b[1m\u001b[32mto\u001b[0m \u001b[1m\u001b[32mrefund\u001b[0m \u001b[1m\u001b[32mme\u001b[0m \u001b[1m\u001b[32mand\u001b[0m \u001b[1m\u001b[32msent\u001b[0m \u001b[1m\u001b[32mme\u001b[0m \u001b[1m\u001b[32ma\u001b[0m \u001b[1m\u001b[32mlabel\u001b[0m \u001b[1m\u001b[32mto\u001b[0m \u001b[1m\u001b[32mreturn\u001b[0m \u001b[1m\u001b[32mthe\u001b[0m \u001b[1m\u001b[32mproduct\u001b[0m \u001b[1m\u001b[32mafter\u001b[0m \u001b[1m\u001b[32m[UNK]\u001b[0m \u001b[1m\u001b[32mi\u001b[0m \u001b[1m\u001b[32mdecided\u001b[0m \u001b[1m\u001b[32mnot\u001b[0m \u001b[1m\u001b[32mto\u001b[0m \u001b[1m\u001b[32mreturn\u001b[0m \u001b[1m\u001b[32mthe\u001b[0m \u001b[1m\u001b[32mproduct\u001b[0m \u001b[1m\u001b[32mi\u001b[0m \u001b[1m\u001b[32mreset\u001b[0m \u001b[1m\u001b[32mand\u001b[0m \u001b[1m\u001b[32m[UNK]\u001b[0m \n",
      "\n",
      "Its ok\n",
      "\u001b[30mits\u001b[0m \u001b[30mok\u001b[0m \n",
      "\n",
      "nice little phone .had to send it back when it stopped receiving calls.\n",
      "\u001b[1m\u001b[31mnice\u001b[0m \u001b[1m\u001b[31mlittle\u001b[0m \u001b[1m\u001b[31mphone\u001b[0m \u001b[1m\u001b[31mhad\u001b[0m \u001b[1m\u001b[31mto\u001b[0m \u001b[1m\u001b[31msend\u001b[0m \u001b[30mit\u001b[0m \u001b[30mback\u001b[0m \u001b[30mwhen\u001b[0m \u001b[30mit\u001b[0m \u001b[30mstopped\u001b[0m \u001b[1m\u001b[32mreceiving\u001b[0m \u001b[1m\u001b[32mcalls\u001b[0m \n",
      "\n",
      "Very much like my mothers original phone. Just newer! Ease to use was the needed aspect.\n",
      "\u001b[30mvery\u001b[0m \u001b[30mmuch\u001b[0m \u001b[30mlike\u001b[0m \u001b[30mmy\u001b[0m \u001b[30m[UNK]\u001b[0m \u001b[30moriginal\u001b[0m \u001b[1m\u001b[32mphone\u001b[0m \u001b[1m\u001b[32mjust\u001b[0m \u001b[1m\u001b[32mnewer\u001b[0m \u001b[1m\u001b[32mease\u001b[0m \u001b[1m\u001b[32mto\u001b[0m \u001b[1m\u001b[32muse\u001b[0m \u001b[1m\u001b[32mwas\u001b[0m \u001b[1m\u001b[32mthe\u001b[0m \u001b[1m\u001b[32mneeded\u001b[0m \u001b[1m\u001b[32m[UNK]\u001b[0m \n",
      "\n"
     ]
    }
   ],
   "source": [
    "# convert prediction with attention to colored text\n",
    "from termcolor import colored\n",
    "\n",
    "def print_text(sentences_with_attention):\n",
    "    threshold=0.75\n",
    "    classes=[]\n",
    "    print(colored(\"In green, the most important word\\n\\n\", 'green', attrs=['bold']))\n",
    "\n",
    "    for i, sentence in enumerate(sentences_with_attention):\n",
    "        # Retrieve the class of this sentence\n",
    "        #print(sentence)\n",
    "        original_class, predicted_class = sentence['prediction']\n",
    "        #print(original_class, predicted_class)\n",
    "    \n",
    "        # Retrieve all the words and weights of this sentence\n",
    "        words, weights = [], []\n",
    "        #print(\"--\", sentence['sentence'])\n",
    "        for item in sentence['sentence']:\n",
    "            for word, weight in item.items():\n",
    "                words.append(word)\n",
    "                weights.append(float(weight))\n",
    "            \n",
    "        size=0\n",
    "        print(sentence['original'])\n",
    "        for j, word in enumerate(words):\n",
    "            if size!=0 and j!=0 and word!=',' and word!=\".\":\n",
    "                print(' ', end=\"\")\n",
    "            if weights[j]>threshold:\n",
    "                print(colored(word, 'green', attrs=['bold']), end=\" \")\n",
    "            elif weights[j] < (1-threshold):\n",
    "                print(colored(word, 'red', attrs=['bold']), end=\" \")\n",
    "            else:\n",
    "                print(colored(word, 'grey'), end=\" \")\n",
    "            size += len(word)+1\n",
    "            if size>80:\n",
    "                print()\n",
    "            size=0\n",
    "      \n",
    "        print(\"\\n\")\n",
    "    \n",
    "print_text(sentences_with_attention)"
   ]
  },
  {
   "cell_type": "markdown",
   "metadata": {},
   "source": [
    "## Your work\n",
    "\n",
    "<font color='red'>\n",
    "<br>\n",
    "**$TO\\ DO\\ Students$**\n",
    "    \n",
    "1. Before modifying the code, take the time to understand it well. We use here the global attentions mechanism only from an encoder since the network for sentiment analysis has no decoder part, only a classifier 1\n",
    "    \n",
    "1. Improve the f1 score for the **Attentional LSTM** model using BI-LSTM approach, better hyper-parameters and a better preprocessing (the same as in the previous step).\n",
    "    * Take inspiration from the course slides to build an original architecture that you will describe\n",
    "    * Use your Attention part in order to explain the words taken into account by the network to predict the sentiment.\n",
    "    \n",
    "1. **Upload on moodle**\n",
    "    * **a clean, documented notebook** containing **your best LSTM attentional model**. The evaluation metric is the f1 score (macro avg).\n",
    "    * You can build all sorts of architectures but only using the cells seen in class (i.e. in particular: **CNNs are not yet seen so you should not use them**). \n",
    "\n",
    "    * It is of course possible / desirable to use keras tuner to get the best hyper-parameters.\n",
    "\n",
    "    * This notebook will be evaluated and the grade will take into account the editorial quality of your text. \n",
    "\n",
    "    * Any notebook containing more than 1 model will not be evaluated (score = 0 -> **You have to choose the best one**).   \n",
    "</font>"
   ]
  },
  {
   "cell_type": "markdown",
   "metadata": {},
   "source": [
    "<font color='red'>\n",
    "\n"
   ]
  },
  {
   "cell_type": "code",
   "execution_count": 35,
   "metadata": {},
   "outputs": [],
   "source": [
    "# ------------------------------------------------------\n",
    "# MODEL BUILDING\n",
    "# ------------------------------------------------------\n",
    "def build_model():\n",
    "    # Input: a review\n",
    "    input_ = Input(shape=(1, ), name=\"input\", dtype=tf.string)\n",
    "\n",
    "    # Transform the review in a list of tokenID\n",
    "    vect = vectorize_layer(input_)\n",
    "\n",
    "    # Keras embedding\n",
    "    embedding = Embedding(vocab_size,\n",
    "                          embedding_size, \n",
    "                          weights=None,  # Without pre-learning\n",
    "                          trainable=True,# Trainable\n",
    "                          name='embedding'\n",
    "                         )(vect)\n",
    "    \n",
    "    # You can try also a Bidirectionnel cell\n",
    "    rnn1 = Bidirectional(LSTM(recurrent_size, return_sequences=True, \n",
    "               return_state=False,\n",
    "               dropout=dropout_rate, recurrent_dropout=dropout_rate))(embedding) # Add the first hidden layer using Biderectional cell\n",
    "    rnn2 = Bidirectional(LSTM(recurrent_size, return_sequences=True, \n",
    "               return_state=False,\n",
    "               dropout=dropout_rate, recurrent_dropout=dropout_rate))(rnn1) # Add the second hidden layer using Biderectional cell\n",
    "    # In the case of LSTM, there are two internal states \n",
    "    #      the hidden state, usually denoted by h,\n",
    "    #      the cell state usually denoted by c\n",
    "    # The tuple (c, h) is the internal state of a LSTM\n",
    "    # return_sequences=True gives you the hidden state (h) of the LSTM for every timestep\n",
    "    # used in combination with return_state=True, you will only get the tuple (c, h) for the final timestep\n",
    "\n",
    "    # Attention layer\n",
    "    attention = Dense(1, activation='tanh')(rnn2) # dense hidden layer\n",
    "    attention = Flatten()(attention)\n",
    "    attention = Activation('softmax')(attention)\n",
    "  \n",
    "\n",
    "    # Pour pouvoir faire la multiplication (scalair/vecteur KERAS)\n",
    "    attention = RepeatVector(recurrent_size)(attention) # NORMAL RNN\n",
    "    attention = Permute([2, 1])(attention)\n",
    "  \n",
    "    # Application de l'attention sur la sortie du RNN\n",
    "    sent_representation = Dot(axes=1, normalize=False)([rnn2, attention])\n",
    "    \n",
    "    # Flatten pour entrer dans le Dense\n",
    "    flatten = Flatten()(sent_representation)\n",
    "    \n",
    "    # Dense pour la classification avec 1 couche cachee\n",
    "    hidden_dense = Dense(hidden_size, activation=\"relu\")(flatten)\n",
    "    hidden_dense = Dropout(dropout_rate)(hidden_dense)\n",
    "\n",
    "    # Classification et ouput\n",
    "    output_ = Dense(nb_classes, activation='softmax')(hidden_dense)\n",
    "    \n",
    "    # Build  model\n",
    "    model = Model(inputs=input_, outputs=output_)\n",
    "    \n",
    "    return model\n",
    "\n",
    "model = build_model()"
   ]
  },
  {
   "cell_type": "code",
   "execution_count": 36,
   "metadata": {},
   "outputs": [],
   "source": [
    "# Compile the model\n",
    "f1 = F1Score(num_classes=nb_classes, average=\"macro\", threshold=0.5)\n",
    "op = Adam(learning_rate=learning_rate, beta_1=0.9, beta_2=0.999, epsilon=1e-08)\n",
    "model.compile(optimizer=op, loss='categorical_crossentropy', metrics=[f1]) # compile with f1 score"
   ]
  },
  {
   "cell_type": "code",
   "execution_count": 37,
   "metadata": {},
   "outputs": [
    {
     "name": "stdout",
     "output_type": "stream",
     "text": [
      "Epoch 1/4000\n",
      "157/157 [==============================] - 53s 300ms/step - loss: 1.5369 - f1_score: 0.0000e+00 - val_loss: 1.4183 - val_f1_score: 0.0000e+00\n",
      "Epoch 2/4000\n",
      "157/157 [==============================] - 45s 287ms/step - loss: 1.3574 - f1_score: 0.0896 - val_loss: 1.2558 - val_f1_score: 0.1358\n",
      "Epoch 3/4000\n",
      "157/157 [==============================] - 46s 294ms/step - loss: 1.3307 - f1_score: 0.1146 - val_loss: 1.2511 - val_f1_score: 0.1350\n",
      "Epoch 4/4000\n",
      "157/157 [==============================] - 46s 294ms/step - loss: 1.3179 - f1_score: 0.1147 - val_loss: 1.2492 - val_f1_score: 0.1351\n",
      "Epoch 5/4000\n",
      "157/157 [==============================] - 46s 294ms/step - loss: 1.3173 - f1_score: 0.1130 - val_loss: 1.2477 - val_f1_score: 0.1351\n",
      "Epoch 6/4000\n",
      "157/157 [==============================] - 46s 295ms/step - loss: 1.3128 - f1_score: 0.1153 - val_loss: 1.2420 - val_f1_score: 0.1358\n",
      "Epoch 7/4000\n",
      "157/157 [==============================] - 46s 295ms/step - loss: 1.3088 - f1_score: 0.1146 - val_loss: 1.2381 - val_f1_score: 0.1364\n",
      "Epoch 8/4000\n",
      "157/157 [==============================] - 46s 296ms/step - loss: 1.3051 - f1_score: 0.1151 - val_loss: 1.2373 - val_f1_score: 0.1371\n",
      "Epoch 9/4000\n",
      "157/157 [==============================] - 47s 297ms/step - loss: 1.3022 - f1_score: 0.1149 - val_loss: 1.2328 - val_f1_score: 0.1370\n",
      "Epoch 10/4000\n",
      "157/157 [==============================] - 47s 298ms/step - loss: 1.3004 - f1_score: 0.1162 - val_loss: 1.2257 - val_f1_score: 0.1385\n",
      "Epoch 11/4000\n",
      "157/157 [==============================] - 47s 298ms/step - loss: 1.2898 - f1_score: 0.1201 - val_loss: 1.2229 - val_f1_score: 0.1367\n",
      "Epoch 12/4000\n",
      "157/157 [==============================] - 47s 298ms/step - loss: 1.2883 - f1_score: 0.1195 - val_loss: 1.2217 - val_f1_score: 0.1359\n",
      "Epoch 13/4000\n",
      "157/157 [==============================] - 47s 299ms/step - loss: 1.2858 - f1_score: 0.1205 - val_loss: 1.2144 - val_f1_score: 0.1369\n",
      "Epoch 14/4000\n",
      "157/157 [==============================] - 47s 299ms/step - loss: 1.2719 - f1_score: 0.1249 - val_loss: 1.2022 - val_f1_score: 0.1371\n",
      "Epoch 15/4000\n",
      "157/157 [==============================] - 47s 301ms/step - loss: 1.2555 - f1_score: 0.1251 - val_loss: 1.1674 - val_f1_score: 0.1431\n",
      "Epoch 16/4000\n",
      "157/157 [==============================] - 47s 300ms/step - loss: 1.2020 - f1_score: 0.1510 - val_loss: 1.0889 - val_f1_score: 0.1900\n",
      "Epoch 17/4000\n",
      "157/157 [==============================] - 47s 301ms/step - loss: 1.1157 - f1_score: 0.2272 - val_loss: 0.9994 - val_f1_score: 0.2510\n",
      "Epoch 18/4000\n",
      "157/157 [==============================] - 47s 300ms/step - loss: 1.0570 - f1_score: 0.2654 - val_loss: 0.9607 - val_f1_score: 0.2715\n",
      "Epoch 19/4000\n",
      "157/157 [==============================] - 47s 300ms/step - loss: 1.0271 - f1_score: 0.2751 - val_loss: 0.9314 - val_f1_score: 0.2771\n",
      "Epoch 20/4000\n",
      "157/157 [==============================] - 47s 301ms/step - loss: 1.0063 - f1_score: 0.2791 - val_loss: 0.9169 - val_f1_score: 0.2793\n",
      "Epoch 21/4000\n",
      "157/157 [==============================] - 47s 300ms/step - loss: 0.9903 - f1_score: 0.2832 - val_loss: 0.9091 - val_f1_score: 0.2803\n",
      "Epoch 22/4000\n",
      "157/157 [==============================] - 47s 301ms/step - loss: 0.9812 - f1_score: 0.2892 - val_loss: 0.8995 - val_f1_score: 0.2810\n",
      "Epoch 23/4000\n",
      "157/157 [==============================] - 47s 301ms/step - loss: 0.9761 - f1_score: 0.2864 - val_loss: 0.8951 - val_f1_score: 0.2782\n",
      "Epoch 24/4000\n",
      "157/157 [==============================] - 47s 301ms/step - loss: 0.9612 - f1_score: 0.2889 - val_loss: 0.8910 - val_f1_score: 0.2792\n",
      "Epoch 25/4000\n",
      "157/157 [==============================] - 48s 303ms/step - loss: 0.9636 - f1_score: 0.2906 - val_loss: 0.8893 - val_f1_score: 0.2863\n",
      "Epoch 26/4000\n",
      "157/157 [==============================] - 48s 305ms/step - loss: 0.9514 - f1_score: 0.2930 - val_loss: 0.8855 - val_f1_score: 0.2845\n",
      "Epoch 27/4000\n",
      "157/157 [==============================] - 48s 307ms/step - loss: 0.9402 - f1_score: 0.2913 - val_loss: 0.8785 - val_f1_score: 0.2829\n",
      "Epoch 28/4000\n",
      "157/157 [==============================] - 48s 305ms/step - loss: 0.9335 - f1_score: 0.2970 - val_loss: 0.8773 - val_f1_score: 0.2843\n",
      "Epoch 29/4000\n",
      "157/157 [==============================] - 48s 306ms/step - loss: 0.9303 - f1_score: 0.2991 - val_loss: 0.8748 - val_f1_score: 0.2783\n",
      "Epoch 30/4000\n",
      "157/157 [==============================] - 48s 306ms/step - loss: 0.9189 - f1_score: 0.2980 - val_loss: 0.8726 - val_f1_score: 0.2802\n",
      "Epoch 31/4000\n",
      "157/157 [==============================] - 49s 310ms/step - loss: 0.9156 - f1_score: 0.2974 - val_loss: 0.8742 - val_f1_score: 0.2877\n",
      "Epoch 32/4000\n",
      "157/157 [==============================] - 49s 309ms/step - loss: 0.9155 - f1_score: 0.2997 - val_loss: 0.8736 - val_f1_score: 0.2804\n",
      "Epoch 33/4000\n",
      "157/157 [==============================] - 48s 308ms/step - loss: 0.9160 - f1_score: 0.3007 - val_loss: 0.8719 - val_f1_score: 0.2780\n",
      "Epoch 34/4000\n",
      "157/157 [==============================] - 49s 310ms/step - loss: 0.9061 - f1_score: 0.2978 - val_loss: 0.8710 - val_f1_score: 0.2822\n",
      "Epoch 35/4000\n",
      "157/157 [==============================] - 49s 310ms/step - loss: 0.8996 - f1_score: 0.3002 - val_loss: 0.8661 - val_f1_score: 0.2843\n",
      "Epoch 36/4000\n",
      "157/157 [==============================] - 49s 310ms/step - loss: 0.8970 - f1_score: 0.3042 - val_loss: 0.8662 - val_f1_score: 0.2834\n",
      "Epoch 37/4000\n",
      "157/157 [==============================] - 48s 309ms/step - loss: 0.8897 - f1_score: 0.3020 - val_loss: 0.8677 - val_f1_score: 0.2839\n",
      "Epoch 38/4000\n",
      "157/157 [==============================] - 54s 342ms/step - loss: 0.8753 - f1_score: 0.3035 - val_loss: 0.8667 - val_f1_score: 0.2908\n",
      "Epoch 39/4000\n",
      "157/157 [==============================] - 49s 310ms/step - loss: 0.8807 - f1_score: 0.3097 - val_loss: 0.8646 - val_f1_score: 0.2861\n",
      "Epoch 40/4000\n",
      "157/157 [==============================] - 49s 310ms/step - loss: 0.8726 - f1_score: 0.3065 - val_loss: 0.8677 - val_f1_score: 0.2915\n",
      "Epoch 41/4000\n",
      "157/157 [==============================] - 49s 310ms/step - loss: 0.8710 - f1_score: 0.3037 - val_loss: 0.8748 - val_f1_score: 0.2940\n",
      "Epoch 42/4000\n",
      "157/157 [==============================] - 58s 368ms/step - loss: 0.8709 - f1_score: 0.3088 - val_loss: 0.8713 - val_f1_score: 0.2935\n",
      "Epoch 43/4000\n",
      "157/157 [==============================] - 49s 311ms/step - loss: 0.8580 - f1_score: 0.3118 - val_loss: 0.8815 - val_f1_score: 0.2797\n",
      "Epoch 44/4000\n",
      "157/157 [==============================] - 49s 311ms/step - loss: 0.8643 - f1_score: 0.3067 - val_loss: 0.8738 - val_f1_score: 0.2909\n",
      "Epoch 45/4000\n",
      "157/157 [==============================] - 48s 308ms/step - loss: 0.8573 - f1_score: 0.3119 - val_loss: 0.8747 - val_f1_score: 0.2894\n",
      "Epoch 46/4000\n",
      "157/157 [==============================] - 49s 311ms/step - loss: 0.8541 - f1_score: 0.3128 - val_loss: 0.8756 - val_f1_score: 0.2940\n",
      "Epoch 47/4000\n",
      "157/157 [==============================] - 51s 325ms/step - loss: 0.8600 - f1_score: 0.3107 - val_loss: 0.8762 - val_f1_score: 0.2861\n",
      "Epoch 48/4000\n",
      "157/157 [==============================] - 59s 378ms/step - loss: 0.8598 - f1_score: 0.3118 - val_loss: 0.8826 - val_f1_score: 0.2898\n",
      "Epoch 49/4000\n",
      "157/157 [==============================] - 60s 379ms/step - loss: 0.8451 - f1_score: 0.3106 - val_loss: 0.8769 - val_f1_score: 0.2966\n",
      "Epoch 50/4000\n",
      "157/157 [==============================] - 59s 379ms/step - loss: 0.8415 - f1_score: 0.3119 - val_loss: 0.8798 - val_f1_score: 0.2929\n",
      "Epoch 51/4000\n",
      "157/157 [==============================] - 59s 377ms/step - loss: 0.8420 - f1_score: 0.3158 - val_loss: 0.8806 - val_f1_score: 0.2968\n",
      "Epoch 52/4000\n",
      "157/157 [==============================] - 49s 314ms/step - loss: 0.8240 - f1_score: 0.3145 - val_loss: 0.8916 - val_f1_score: 0.2954\n",
      "Epoch 53/4000\n",
      "157/157 [==============================] - 49s 312ms/step - loss: 0.8341 - f1_score: 0.3170 - val_loss: 0.8854 - val_f1_score: 0.2900\n",
      "Epoch 54/4000\n",
      "157/157 [==============================] - 49s 313ms/step - loss: 0.8394 - f1_score: 0.3177 - val_loss: 0.8925 - val_f1_score: 0.2940\n",
      "Epoch 55/4000\n",
      "157/157 [==============================] - 49s 314ms/step - loss: 0.8248 - f1_score: 0.3196 - val_loss: 0.8939 - val_f1_score: 0.2975\n",
      "Epoch 56/4000\n",
      "157/157 [==============================] - 59s 377ms/step - loss: 0.8246 - f1_score: 0.3179 - val_loss: 0.8964 - val_f1_score: 0.2943\n",
      "Epoch 57/4000\n",
      "157/157 [==============================] - 59s 378ms/step - loss: 0.8130 - f1_score: 0.3266 - val_loss: 0.9023 - val_f1_score: 0.2956\n",
      "Epoch 58/4000\n",
      "157/157 [==============================] - 60s 380ms/step - loss: 0.8253 - f1_score: 0.3211 - val_loss: 0.8956 - val_f1_score: 0.2961\n",
      "Epoch 59/4000\n",
      "157/157 [==============================] - 59s 379ms/step - loss: 0.8019 - f1_score: 0.3245 - val_loss: 0.9074 - val_f1_score: 0.2943\n",
      "Epoch 60/4000\n",
      "157/157 [==============================] - 60s 380ms/step - loss: 0.8174 - f1_score: 0.3267 - val_loss: 0.8970 - val_f1_score: 0.2971\n",
      "Epoch 61/4000\n",
      "157/157 [==============================] - 60s 380ms/step - loss: 0.8144 - f1_score: 0.3201 - val_loss: 0.8975 - val_f1_score: 0.2953\n",
      "Epoch 62/4000\n",
      "157/157 [==============================] - 59s 379ms/step - loss: 0.8093 - f1_score: 0.3260 - val_loss: 0.9007 - val_f1_score: 0.2974\n",
      "Epoch 63/4000\n",
      "157/157 [==============================] - 60s 381ms/step - loss: 0.8011 - f1_score: 0.3243 - val_loss: 0.9059 - val_f1_score: 0.2960\n",
      "Epoch 64/4000\n",
      "157/157 [==============================] - 60s 380ms/step - loss: 0.8043 - f1_score: 0.3247 - val_loss: 0.9061 - val_f1_score: 0.2965\n",
      "Epoch 65/4000\n",
      "157/157 [==============================] - ETA: 0s - loss: 0.7977 - f1_score: 0.3293Restoring model weights from the end of the best epoch: 55.\n",
      "157/157 [==============================] - 60s 381ms/step - loss: 0.7977 - f1_score: 0.3293 - val_loss: 0.9170 - val_f1_score: 0.2904\n",
      "Epoch 00065: early stopping\n"
     ]
    }
   ],
   "source": [
    "# fit model using ealy stopping\n",
    "es = EarlyStopping(monitor='val_f1_score', mode='max', patience=10, restore_best_weights=True, verbose=2)\n",
    "# fit the model\n",
    "history = model.fit(X_train, y_train,\n",
    "                    validation_data=(X_val, y_val), \n",
    "                    epochs=4000, callbacks=[es], verbose=1)"
   ]
  },
  {
   "cell_type": "code",
   "execution_count": 38,
   "metadata": {},
   "outputs": [
    {
     "data": {
      "image/png": "[encoded data removed]",
      "text/plain": [
       "<Figure size 1296x432 with 2 Axes>"
      ]
     },
     "metadata": {
      "needs_background": "light"
     },
     "output_type": "display_data"
    }
   ],
   "source": [
    "# plot history\n",
    "babysit(history)"
   ]
  },
  {
   "cell_type": "code",
   "execution_count": 39,
   "metadata": {},
   "outputs": [
    {
     "name": "stdout",
     "output_type": "stream",
     "text": [
      "F1: 0.295344\n"
     ]
    }
   ],
   "source": [
    "# Evaluate the model\n",
    "f1.update_state(y_test, model.predict(X_test))\n",
    "print('F1: %f' % (f1.result().numpy()))"
   ]
  },
  {
   "cell_type": "code",
   "execution_count": null,
   "metadata": {},
   "outputs": [],
   "source": [
    "# The best model is when I used biderectional layers, with vocab size of 2000 and learning rate of 0.00001. It is clear that \n",
    "# the biderectional improve the model metrics."
   ]
  }
 ],
 "metadata": {
  "colab": {
   "collapsed_sections": [],
   "name": "notebook-NLP-sentiment-analysis-with-MLP-Keras embedding.ipynb",
   "provenance": []
  },
  "kernelspec": {
   "display_name": "Python 3 (ipykernel)",
   "language": "python",
   "name": "python3"
  },
  "language_info": {
   "codemirror_mode": {
    "name": "ipython",
    "version": 3
   },
   "file_extension": ".py",
   "mimetype": "text/x-python",
   "name": "python",
   "nbconvert_exporter": "python",
   "pygments_lexer": "ipython3",
   "version": "3.9.7"
  },
  "latex_envs": {
   "LaTeX_envs_menu_present": true,
   "autoclose": true,
   "autocomplete": true,
   "bibliofile": "biblio.bib",
   "cite_by": "apalike",
   "current_citInitial": 1,
   "eqLabelWithNumbers": true,
   "eqNumInitial": 1,
   "hotkeys": {
    "equation": "Ctrl-E",
    "itemize": "Ctrl-I"
   },
   "labels_anchors": false,
   "latex_user_defs": false,
   "report_style_numbering": false,
   "user_envs_cfg": false
  },
  "nbTranslate": {
   "displayLangs": [
    "*"
   ],
   "hotkey": "alt-t",
   "langInMainMenu": true,
   "sourceLang": "en",
   "targetLang": "fr",
   "useGoogleTranslate": true
  },
  "toc": {
   "base_numbering": 1,
   "nav_menu": {},
   "number_sections": true,
   "sideBar": true,
   "skip_h1_title": true,
   "title_cell": "Table of Contents",
   "title_sidebar": "Contents",
   "toc_cell": true,
   "toc_position": {},
   "toc_section_display": true,
   "toc_window_display": false
  }
 },
 "nbformat": 4,
 "nbformat_minor": 1
}
