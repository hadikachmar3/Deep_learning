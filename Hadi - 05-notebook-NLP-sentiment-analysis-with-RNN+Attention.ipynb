{
 "cells": [
  {
   "cell_type": "markdown",
   "metadata": {
    "id": "7Zc0WsSkoWK0"
   },
   "source": [
    "# Attention mechanism for sentiment analysis"
   ]
  },
  {
   "cell_type": "markdown",
   "metadata": {
    "id": "VSuNR5g2oUqH"
   },
   "source": [
    "In this lab we use part of the 'Amazon_Unlocked_Mobile.csv' dataset published by Kaggle. The dataset contain the following information:\n",
    "* Product Name\n",
    "* Brand Name\n",
    "* Price\n",
    "* Rating\n",
    "* Reviews\n",
    "* Review Votes\n",
    "\n",
    "We are mainly interested by the 'Reviews' (X) and by the 'Rating' (y)\n",
    "\n",
    "\n",
    "The goal is to try to predict the 'Rating' after reading the 'Reviews'. I've prepared for you TRAIN and TEST set.\n",
    "The work to be done is as follows:\n",
    "\n",
    "1. Feature extraction and baseline\n",
    "    * read the dataset and understand it\n",
    "    * put it in a format so that you can use `CountVectorizer` or`Tf-IDF` to extract the desired features\n",
    "    * perform on the desired dates and preprocessing\n",
    "    * use one of the classifiers you know to predict the polarity of different sentences\n",
    "1. My first neural network\n",
    "    * reuse the features already extracted \n",
    "    * proposed a neural network built with Keras\n",
    "1. Hyper-parameter fitting\n",
    "    * for the base line: adjust min_df, max_df, ngram, max_features + model's hyper-parameter\n",
    "    * for the neural network: adjust batch size, number of layers and number of neuron by layers, use earlystop\n",
    "1. <span style=\"color:red\">Word embedding\n",
    "    * stage 1 build a network that uses Keras' embedding which is not language sensitive.\n",
    "    * stage 2 build a network that simultaneously uses Keras' embedding and the features extracted in the first weeks.\n",
    "    * stage 3 try to use an existing embedding (https://github.com/facebookresearch/MUSE)\n",
    "    </span>\n",
    "\n",
    "**WARNING:** the dataset is voluminous, I can only encourage you to work first on a small part of it and only at the end, when the code is well debugged and that it is necessary to build the \"final model\", to use the whole dataset."
   ]
  },
  {
   "cell_type": "code",
   "execution_count": 1,
   "metadata": {
    "ExecuteTime": {
     "end_time": "2022-02-07T18:09:56.208198Z",
     "start_time": "2022-02-07T18:09:56.080331Z"
    }
   },
   "outputs": [
    {
     "data": {
      "text/html": [
       "<div id=\"my_id_menu_nb\">run previous cell, wait for 2 seconds</div>\n",
       "<script>\n",
       "function repeat_indent_string(n){\n",
       "    var a = \"\" ;\n",
       "    for ( ; n > 0 ; --n)\n",
       "        a += \"    \";\n",
       "    return a;\n",
       "}\n",
       "// look up into all sections and builds an automated menu //\n",
       "var update_menu_string = function(begin, lfirst, llast, sformat, send, keep_item, begin_format, end_format) {\n",
       "    var anchors = document.getElementsByClassName(\"section\");\n",
       "    if (anchors.length == 0) {\n",
       "        anchors = document.getElementsByClassName(\"text_cell_render rendered_html\");\n",
       "    }\n",
       "    var i,t;\n",
       "    var text_menu = begin;\n",
       "    var text_memo = \"<pre>\\nlength:\" + anchors.length + \"\\n\";\n",
       "    var ind = \"\";\n",
       "    var memo_level = 1;\n",
       "    var href;\n",
       "    var tags = [];\n",
       "    var main_item = 0;\n",
       "    var format_open = 0;\n",
       "    for (i = 0; i <= llast; i++)\n",
       "        tags.push(\"h\" + i);\n",
       "\n",
       "    for (i = 0; i < anchors.length; i++) {\n",
       "        text_memo += \"**\" + anchors[i].id + \"--\\n\";\n",
       "\n",
       "        var child = null;\n",
       "        for(t = 0; t < tags.length; t++) {\n",
       "            var r = anchors[i].getElementsByTagName(tags[t]);\n",
       "            if (r.length > 0) {\n",
       "child = r[0];\n",
       "break;\n",
       "            }\n",
       "        }\n",
       "        if (child == null) {\n",
       "            text_memo += \"null\\n\";\n",
       "            continue;\n",
       "        }\n",
       "        if (anchors[i].hasAttribute(\"id\")) {\n",
       "            // when converted in RST\n",
       "            href = anchors[i].id;\n",
       "            text_memo += \"#1-\" + href;\n",
       "            // passer à child suivant (le chercher)\n",
       "        }\n",
       "        else if (child.hasAttribute(\"id\")) {\n",
       "            // in a notebook\n",
       "            href = child.id;\n",
       "            text_memo += \"#2-\" + href;\n",
       "        }\n",
       "        else {\n",
       "            text_memo += \"#3-\" + \"*\" + \"\\n\";\n",
       "            continue;\n",
       "        }\n",
       "        var title = child.textContent;\n",
       "        var level = parseInt(child.tagName.substring(1,2));\n",
       "\n",
       "        text_memo += \"--\" + level + \"?\" + lfirst + \"--\" + title + \"\\n\";\n",
       "\n",
       "        if ((level < lfirst) || (level > llast)) {\n",
       "            continue ;\n",
       "        }\n",
       "        if (title.endsWith('¶')) {\n",
       "            title = title.substring(0,title.length-1).replace(\"<\", \"&lt;\")\n",
       "         .replace(\">\", \"&gt;\").replace(\"&\", \"&amp;\");\n",
       "        }\n",
       "        if (title.length == 0) {\n",
       "            continue;\n",
       "        }\n",
       "\n",
       "        while (level < memo_level) {\n",
       "            text_menu += end_format + \"</ul>\\n\";\n",
       "            format_open -= 1;\n",
       "            memo_level -= 1;\n",
       "        }\n",
       "        if (level == lfirst) {\n",
       "            main_item += 1;\n",
       "        }\n",
       "        if (keep_item != -1 && main_item != keep_item + 1) {\n",
       "            // alert(main_item + \" - \" + level + \" - \" + keep_item);\n",
       "            continue;\n",
       "        }\n",
       "        while (level > memo_level) {\n",
       "            text_menu += \"<ul>\\n\";\n",
       "            memo_level += 1;\n",
       "        }\n",
       "        text_menu += repeat_indent_string(level-2);\n",
       "        text_menu += begin_format + sformat.replace(\"__HREF__\", href).replace(\"__TITLE__\", title);\n",
       "        format_open += 1;\n",
       "    }\n",
       "    while (1 < memo_level) {\n",
       "        text_menu += end_format + \"</ul>\\n\";\n",
       "        memo_level -= 1;\n",
       "        format_open -= 1;\n",
       "    }\n",
       "    text_menu += send;\n",
       "    //text_menu += \"\\n\" + text_memo;\n",
       "\n",
       "    while (format_open > 0) {\n",
       "        text_menu += end_format;\n",
       "        format_open -= 1;\n",
       "    }\n",
       "    return text_menu;\n",
       "};\n",
       "var update_menu = function() {\n",
       "    var sbegin = \"\";\n",
       "    var sformat = '<a href=\"#__HREF__\">__TITLE__</a>';\n",
       "    var send = \"\";\n",
       "    var begin_format = '<li>';\n",
       "    var end_format = '</li>';\n",
       "    var keep_item = -1;\n",
       "    var text_menu = update_menu_string(sbegin, 2, 4, sformat, send, keep_item,\n",
       "       begin_format, end_format);\n",
       "    var menu = document.getElementById(\"my_id_menu_nb\");\n",
       "    menu.innerHTML=text_menu;\n",
       "};\n",
       "window.setTimeout(update_menu,2000);\n",
       "            </script>"
      ],
      "text/plain": [
       "<IPython.core.display.HTML object>"
      ]
     },
     "execution_count": 1,
     "metadata": {},
     "output_type": "execute_result"
    }
   ],
   "source": [
    "\"\"\"\n",
    "(Practical tip) Table of contents can be compiled directly in jupyter notebooks using the following code:\n",
    "I set an exception: if the package is in your installation you can import it otherwise you download it \n",
    "then import it.\n",
    "\"\"\"\n",
    "try:\n",
    "    from jyquickhelper import add_notebook_menu \n",
    "except:\n",
    "    !pip install jyquickhelper\n",
    "    from jyquickhelper import add_notebook_menu\n",
    "    \n",
    "\"\"\"\n",
    "Output Table of contents to navigate easily in the notebook. \n",
    "For interested readers, the package also includes Ipython magic commands to go back to this cell\n",
    "wherever you are in the notebook to look for cells faster\n",
    "\"\"\"\n",
    "add_notebook_menu()"
   ]
  },
  {
   "cell_type": "markdown",
   "metadata": {},
   "source": [
    "## Imports"
   ]
  },
  {
   "cell_type": "code",
   "execution_count": 2,
   "metadata": {
    "ExecuteTime": {
     "end_time": "2022-02-07T18:09:58.381036Z",
     "start_time": "2022-02-07T18:09:56.211901Z"
    }
   },
   "outputs": [],
   "source": [
    "import os\n",
    "import pandas as pd\n",
    "import numpy as np\n",
    "import matplotlib.pyplot as plt"
   ]
  },
  {
   "cell_type": "code",
   "execution_count": 3,
   "metadata": {
    "ExecuteTime": {
     "end_time": "2022-02-07T18:09:59.606973Z",
     "start_time": "2022-02-07T18:09:58.385335Z"
    }
   },
   "outputs": [],
   "source": [
    "from sklearn.preprocessing import OneHotEncoder"
   ]
  },
  {
   "cell_type": "code",
   "execution_count": 4,
   "metadata": {
    "ExecuteTime": {
     "end_time": "2022-02-07T18:10:05.865655Z",
     "start_time": "2022-02-07T18:09:59.611230Z"
    }
   },
   "outputs": [],
   "source": [
    "import tensorflow as tf\n",
    "from tensorflow.keras.preprocessing.text import one_hot\n",
    "from tensorflow.keras.preprocessing.sequence import pad_sequences\n",
    "from tensorflow.keras.models import Model, load_model\n",
    "from tensorflow.keras.layers import Input, TextVectorization, Embedding, Dense, Dropout, Activation\n",
    "from tensorflow.keras.layers import TimeDistributed, LSTM\n",
    "from tensorflow.keras.layers import Flatten, RepeatVector, Dot, Permute, AveragePooling1D\n",
    "from tensorflow.keras.layers import Input, Dense, Embedding, Flatten, LSTM, Bidirectional, AveragePooling1D, RepeatVector\n",
    "from tensorflow.keras.callbacks import EarlyStopping\n",
    "from tensorflow.keras.optimizers import Adam\n",
    "from tensorflow.keras.utils import plot_model"
   ]
  },
  {
   "cell_type": "code",
   "execution_count": 5,
   "metadata": {
    "ExecuteTime": {
     "end_time": "2022-02-07T18:10:06.117193Z",
     "start_time": "2022-02-07T18:10:05.867777Z"
    }
   },
   "outputs": [],
   "source": [
    "import tensorflow_addons as tfa\n",
    "from tensorflow_addons.metrics import F1Score"
   ]
  },
  {
   "cell_type": "markdown",
   "metadata": {
    "id": "lLrXoRQ5oUqI"
   },
   "source": [
    "## Read the dataset\n",
    "\n",
    "Could you find below a proposal. You can complete them."
   ]
  },
  {
   "cell_type": "code",
   "execution_count": 6,
   "metadata": {
    "ExecuteTime": {
     "end_time": "2022-02-07T18:10:07.668520Z",
     "start_time": "2022-02-07T18:10:06.120178Z"
    },
    "colab": {
     "base_uri": "https://localhost:8080/",
     "height": 204
    },
    "id": "gIXGN8IzoUqJ",
    "outputId": "f9cbed6e-5c8c-45cb-e083-4a9194f12157"
   },
   "outputs": [
    {
     "data": {
      "text/html": [
       "<div>\n",
       "<style scoped>\n",
       "    .dataframe tbody tr th:only-of-type {\n",
       "        vertical-align: middle;\n",
       "    }\n",
       "\n",
       "    .dataframe tbody tr th {\n",
       "        vertical-align: top;\n",
       "    }\n",
       "\n",
       "    .dataframe thead th {\n",
       "        text-align: right;\n",
       "    }\n",
       "</style>\n",
       "<table border=\"1\" class=\"dataframe\">\n",
       "  <thead>\n",
       "    <tr style=\"text-align: right;\">\n",
       "      <th></th>\n",
       "      <th>Product Name</th>\n",
       "      <th>Brand Name</th>\n",
       "      <th>Price</th>\n",
       "      <th>Rating</th>\n",
       "      <th>Reviews</th>\n",
       "      <th>Review Votes</th>\n",
       "    </tr>\n",
       "  </thead>\n",
       "  <tbody>\n",
       "    <tr>\n",
       "      <th>0</th>\n",
       "      <td>Samsung Galaxy Note 4 N910C Unlocked Cellphone...</td>\n",
       "      <td>Samsung</td>\n",
       "      <td>449.99</td>\n",
       "      <td>4</td>\n",
       "      <td>I love it!!! I absolutely love it!! 👌👍</td>\n",
       "      <td>0.0</td>\n",
       "    </tr>\n",
       "    <tr>\n",
       "      <th>1</th>\n",
       "      <td>BLU Energy X Plus Smartphone - With 4000 mAh S...</td>\n",
       "      <td>BLU</td>\n",
       "      <td>139.0</td>\n",
       "      <td>5</td>\n",
       "      <td>I love the BLU phones! This is my second one t...</td>\n",
       "      <td>4.0</td>\n",
       "    </tr>\n",
       "    <tr>\n",
       "      <th>2</th>\n",
       "      <td>Apple iPhone 6 128GB Silver AT&amp;T</td>\n",
       "      <td>Apple</td>\n",
       "      <td>599.95</td>\n",
       "      <td>5</td>\n",
       "      <td>Great phone</td>\n",
       "      <td>1.0</td>\n",
       "    </tr>\n",
       "    <tr>\n",
       "      <th>3</th>\n",
       "      <td>BLU Advance 4.0L Unlocked Smartphone -US GSM -...</td>\n",
       "      <td>BLU</td>\n",
       "      <td>51.99</td>\n",
       "      <td>4</td>\n",
       "      <td>Very happy with the performance. The apps work...</td>\n",
       "      <td>2.0</td>\n",
       "    </tr>\n",
       "    <tr>\n",
       "      <th>4</th>\n",
       "      <td>Huawei P8 Lite US Version- 5 Unlocked Android ...</td>\n",
       "      <td>Huawei</td>\n",
       "      <td>198.99</td>\n",
       "      <td>5</td>\n",
       "      <td>Easy to use great price</td>\n",
       "      <td>0.0</td>\n",
       "    </tr>\n",
       "  </tbody>\n",
       "</table>\n",
       "</div>"
      ],
      "text/plain": [
       "                                        Product Name Brand Name   Price  \\\n",
       "0  Samsung Galaxy Note 4 N910C Unlocked Cellphone...    Samsung  449.99   \n",
       "1  BLU Energy X Plus Smartphone - With 4000 mAh S...        BLU   139.0   \n",
       "2                   Apple iPhone 6 128GB Silver AT&T      Apple  599.95   \n",
       "3  BLU Advance 4.0L Unlocked Smartphone -US GSM -...        BLU   51.99   \n",
       "4  Huawei P8 Lite US Version- 5 Unlocked Android ...     Huawei  198.99   \n",
       "\n",
       "   Rating                                            Reviews Review Votes  \n",
       "0       4             I love it!!! I absolutely love it!! 👌👍          0.0  \n",
       "1       5  I love the BLU phones! This is my second one t...          4.0  \n",
       "2       5                                        Great phone          1.0  \n",
       "3       4  Very happy with the performance. The apps work...          2.0  \n",
       "4       5                            Easy to use great price          0.0  "
      ]
     },
     "execution_count": 6,
     "metadata": {},
     "output_type": "execute_result"
    }
   ],
   "source": [
    "TRAIN = pd.read_csv(\"http://www.i3s.unice.fr/~riveill/dataset/Amazon_Unlocked_Mobile/train.csv.gz\").fillna(value=\"\")\n",
    "VAL = pd.read_csv(\"http://www.i3s.unice.fr/~riveill/dataset/Amazon_Unlocked_Mobile/val.csv.gz\").fillna(value=\"\")\n",
    "TEST = pd.read_csv(\"http://www.i3s.unice.fr/~riveill/dataset/Amazon_Unlocked_Mobile/test.csv.gz\").fillna(value=\"\")\n",
    "\n",
    "TRAIN.head()"
   ]
  },
  {
   "cell_type": "code",
   "execution_count": 7,
   "metadata": {
    "ExecuteTime": {
     "end_time": "2022-02-07T18:10:07.713765Z",
     "start_time": "2022-02-07T18:10:07.672004Z"
    },
    "colab": {
     "base_uri": "https://localhost:8080/"
    },
    "id": "WdeAXW40oUqJ",
    "outputId": "d99ac22b-c7e5-4c4a-f817-d8e25ff2a28c"
   },
   "outputs": [
    {
     "data": {
      "text/plain": [
       "((5000, 1), (5000, 5))"
      ]
     },
     "execution_count": 7,
     "metadata": {},
     "output_type": "execute_result"
    }
   ],
   "source": [
    "''' Construct X_train and y_train '''\n",
    "X_train = np.array(TRAIN['Reviews']).reshape(-1,1)\n",
    "\n",
    "ohe = OneHotEncoder(sparse=False, handle_unknown='ignore')\n",
    "y_train = ohe.fit_transform(np.array(TRAIN['Rating']).reshape(-1,1))\n",
    "\n",
    "X_train.shape, y_train.shape"
   ]
  },
  {
   "cell_type": "code",
   "execution_count": 8,
   "metadata": {
    "ExecuteTime": {
     "end_time": "2022-02-07T18:10:07.780117Z",
     "start_time": "2022-02-07T18:10:07.723204Z"
    }
   },
   "outputs": [],
   "source": [
    "''' Do the same for val '''\n",
    "X_val = np.array(VAL['Reviews']).reshape(-1,1)\n",
    "y_val = ohe.transform(np.array(VAL['Rating']).reshape(-1,1))\n",
    "\n",
    "''' Do the same for test '''\n",
    "X_test = np.array(TEST['Reviews']).reshape(-1,1)\n",
    "y_test = ohe.transform(np.array(TEST['Rating']).reshape(-1,1))"
   ]
  },
  {
   "cell_type": "markdown",
   "metadata": {
    "id": "N4BohkzOoUqO"
   },
   "source": [
    "## Build an a neural network with vectorized embedding and RNN cells.\n",
    "\n",
    "The task is to predict the sentiment according to the content of the review. We can treat this kind of task by a Many-to-one model.\n",
    "\n",
    "![LSTM for sentiment analysis](https://www.programmerall.com/images/679/8c/8c66e6ee3b9418358a791b363572bedf.jpeg)\n",
    "\n",
    "Implement such a network with :\n",
    "- a first layer of type LSTM\n",
    "- a second layer of type LSTM, each cell of this layer will be fed by the corresponding output of the first layer (see figure above).\n",
    "\n"
   ]
  },
  {
   "cell_type": "code",
   "execution_count": 9,
   "metadata": {
    "ExecuteTime": {
     "end_time": "2022-02-07T18:10:07.818887Z",
     "start_time": "2022-02-07T18:10:07.808634Z"
    },
    "colab": {
     "base_uri": "https://localhost:8080/"
    },
    "id": "B4BPv2OGoUqO",
    "outputId": "4cbf391a-81b9-447d-a0af-d6b469f85e2b"
   },
   "outputs": [],
   "source": [
    "# Constants\n",
    "## Part one \n",
    "nb_classes = y_train.shape[1]\n",
    "vocab_size = 2000    # Maximum vocab size -- adjust with the size of the vocabulary 2000 is a good metric since the voc size is 13000\n",
    "embedding_size = 300 # Embedding size - increase it to 300\n",
    "recurrent_size = 64 # Recurrent size - keep ot\n",
    "hidden_size = recurrent_size//4    # Hidden layer\n",
    "dropout_rate = 0.2   # Dropout rate for regularization # usually 0.2 is the best\n",
    "max_len = 100         # Sequence length to pad the outputs to -- adjust with the distribution of the reviews length\n",
    "learning_rate=0.00001 # decrease it takes more time and lead to heavy calculation but ensure to get good results."
   ]
  },
  {
   "cell_type": "code",
   "execution_count": 10,
   "metadata": {
    "ExecuteTime": {
     "end_time": "2022-02-07T18:10:07.870187Z",
     "start_time": "2022-02-07T18:10:07.822260Z"
    },
    "colab": {
     "base_uri": "https://localhost:8080/"
    },
    "id": "C7oN2bZkoUqP",
    "outputId": "8d7d5b26-b925-4e79-ad97-7aecd8980243"
   },
   "outputs": [],
   "source": [
    "# Create the vectorized layer.\n",
    "vectorize_layer = TextVectorization(max_tokens=vocab_size,\n",
    "                                    standardize=\"lower_and_strip_punctuation\",\n",
    "                                    # it is possible to build your own function\n",
    "                                    # to transform emoji into text\n",
    "                                    # to transform foreign reviews in english one\n",
    "                                    # etc.\n",
    "                                    output_mode='int',\n",
    "                                    output_sequence_length=max_len)"
   ]
  },
  {
   "cell_type": "code",
   "execution_count": 11,
   "metadata": {
    "ExecuteTime": {
     "end_time": "2022-02-07T18:10:08.397950Z",
     "start_time": "2022-02-07T18:10:07.872995Z"
    },
    "colab": {
     "base_uri": "https://localhost:8080/"
    },
    "id": "1XWqf1QKoUqQ",
    "outputId": "3c73908b-3066-4c32-92f8-df458dc7f8cb"
   },
   "outputs": [],
   "source": [
    "# Fit vectorized layer on train\n",
    "vectorize_layer.adapt(X_train)"
   ]
  },
  {
   "cell_type": "markdown",
   "metadata": {},
   "source": [
    "<font color='red'>\n",
    "$To\\ do\\ student$\n",
    "\n",
    "1. Understand the code\n",
    "1. Play with LSTM model for sentiment analysis\n",
    "    * Replace LSTM by BI-LSTM\n",
    "    * Use stacked LSTM or BI-LSTM\n",
    "    * Use all hidden state and average it\n",
    "</font>"
   ]
  },
  {
   "cell_type": "markdown",
   "metadata": {},
   "source": [
    "<font color='green'>\n",
    "$If\\ you\\ want\\ to\\ go\\ further$\n",
    "\n",
    "If you are interested in the subject, current networks for sentiment prediction combine a part with recurrent networks (LTSM) to capture long dependencies and a part with convolution (CNN) to capture short dependencies. [This resarch paper](https://arxiv.org/pdf/1904.04206.pdf) or [this one](https://hal.archives-ouvertes.fr/hal-03052803/document) describe some accurate networks for sentiment analysis.\n",
    "\n",
    "Here, another paper that gives you some indications to go further: [Attention, CNN and what not for Text Classification](https://mlwhiz.com/blog/2019/03/09/deeplearning_architectures_text_classification/)\n",
    "\n",
    "You will see next week the CNN with Diane. So there is no need to use them today.\n",
    "</font>"
   ]
  },
  {
   "cell_type": "markdown",
   "metadata": {
    "ExecuteTime": {
     "end_time": "2022-02-02T09:36:27.789409Z",
     "start_time": "2022-02-02T09:36:27.737880Z"
    },
    "id": "Odn9rE6toUqR"
   },
   "source": [
    "## Attention with LSTM network\n",
    "\n"
   ]
  },
  {
   "cell_type": "markdown",
   "metadata": {},
   "source": [
    "## Your work\n",
    "\n",
    "<font color='red'>\n",
    "<br>\n",
    "**$TO\\ DO\\ Students$**\n",
    "    \n",
    "1. Before modifying the code, take the time to understand it well. We use here the global attentions mechanism only from an encoder since the network for sentiment analysis has no decoder part, only a classifier 1\n",
    "    \n",
    "1. Improve the f1 score for the **Attentional LSTM** model using BI-LSTM approach, better hyper-parameters and a better preprocessing (the same as in the previous step).\n",
    "    * Take inspiration from the course slides to build an original architecture that you will describe\n",
    "    * Use your Attention part in order to explain the words taken into account by the network to predict the sentiment.\n",
    "    \n",
    "1. **Upload on moodle**\n",
    "    * **a clean, documented notebook** containing **your best LSTM attentional model**. The evaluation metric is the f1 score (macro avg).\n",
    "    * You can build all sorts of architectures but only using the cells seen in class (i.e. in particular: **CNNs are not yet seen so you should not use them**). \n",
    "\n",
    "    * It is of course possible / desirable to use keras tuner to get the best hyper-parameters.\n",
    "\n",
    "    * This notebook will be evaluated and the grade will take into account the editorial quality of your text. \n",
    "\n",
    "    * Any notebook containing more than 1 model will not be evaluated (score = 0 -> **You have to choose the best one**).   \n",
    "</font>"
   ]
  },
  {
   "cell_type": "markdown",
   "metadata": {},
   "source": [
    "<font color='red'>\n",
    "\n"
   ]
  },
  {
   "cell_type": "code",
   "execution_count": 35,
   "metadata": {},
   "outputs": [],
   "source": [
    "# ------------------------------------------------------\n",
    "# MODEL BUILDING\n",
    "# ------------------------------------------------------\n",
    "def build_model():\n",
    "    # Input: a review\n",
    "    input_ = Input(shape=(1, ), name=\"input\", dtype=tf.string)\n",
    "\n",
    "    # Transform the review in a list of tokenID\n",
    "    vect = vectorize_layer(input_)\n",
    "\n",
    "    # Keras embedding\n",
    "    embedding = Embedding(vocab_size,\n",
    "                          embedding_size, \n",
    "                          weights=None,  # Without pre-learning\n",
    "                          trainable=True,# Trainable\n",
    "                          name='embedding'\n",
    "                         )(vect)\n",
    "    \n",
    "    # You can try also a Bidirectionnel cell\n",
    "    rnn1 = Bidirectional(LSTM(recurrent_size, return_sequences=True, \n",
    "               return_state=False,\n",
    "               dropout=dropout_rate, recurrent_dropout=dropout_rate))(embedding) # Add the first hidden layer using Biderectional cell\n",
    "    rnn2 = Bidirectional(LSTM(recurrent_size, return_sequences=True, \n",
    "               return_state=False,\n",
    "               dropout=dropout_rate, recurrent_dropout=dropout_rate))(rnn1) # Add the second hidden layer using Biderectional cell\n",
    "    # In the case of LSTM, there are two internal states \n",
    "    #      the hidden state, usually denoted by h,\n",
    "    #      the cell state usually denoted by c\n",
    "    # The tuple (c, h) is the internal state of a LSTM\n",
    "    # return_sequences=True gives you the hidden state (h) of the LSTM for every timestep\n",
    "    # used in combination with return_state=True, you will only get the tuple (c, h) for the final timestep\n",
    "\n",
    "    # Attention layer\n",
    "    attention = Dense(1, activation='tanh')(rnn2) # dense hidden layer\n",
    "    attention = Flatten()(attention)\n",
    "    attention = Activation('softmax')(attention)\n",
    "  \n",
    "\n",
    "    # Pour pouvoir faire la multiplication (scalair/vecteur KERAS)\n",
    "    attention = RepeatVector(recurrent_size)(attention) # NORMAL RNN\n",
    "    attention = Permute([2, 1])(attention)\n",
    "  \n",
    "    # Application de l'attention sur la sortie du RNN\n",
    "    sent_representation = Dot(axes=1, normalize=False)([rnn2, attention])\n",
    "    \n",
    "    # Flatten pour entrer dans le Dense\n",
    "    flatten = Flatten()(sent_representation)\n",
    "    \n",
    "    # Dense pour la classification avec 1 couche cachee\n",
    "    hidden_dense = Dense(hidden_size, activation=\"relu\")(flatten)\n",
    "    hidden_dense = Dropout(dropout_rate)(hidden_dense)\n",
    "\n",
    "    # Classification et ouput\n",
    "    output_ = Dense(nb_classes, activation='softmax')(hidden_dense)\n",
    "    \n",
    "    # Build  model\n",
    "    model = Model(inputs=input_, outputs=output_)\n",
    "    \n",
    "    return model\n",
    "\n",
    "model = build_model()"
   ]
  },
  {
   "cell_type": "code",
   "execution_count": 36,
   "metadata": {},
   "outputs": [],
   "source": [
    "# Compile the model\n",
    "f1 = F1Score(num_classes=nb_classes, average=\"macro\", threshold=0.5)\n",
    "op = Adam(learning_rate=learning_rate, beta_1=0.9, beta_2=0.999, epsilon=1e-08)\n",
    "model.compile(optimizer=op, loss='categorical_crossentropy', metrics=[f1]) # compile with f1 score"
   ]
  },
  {
   "cell_type": "code",
   "execution_count": 37,
   "metadata": {},
   "outputs": [
    {
     "name": "stdout",
     "output_type": "stream",
     "text": [
      "Epoch 1/4000\n",
      "157/157 [==============================] - 53s 300ms/step - loss: 1.5369 - f1_score: 0.0000e+00 - val_loss: 1.4183 - val_f1_score: 0.0000e+00\n",
      "Epoch 2/4000\n",
      "157/157 [==============================] - 45s 287ms/step - loss: 1.3574 - f1_score: 0.0896 - val_loss: 1.2558 - val_f1_score: 0.1358\n",
      "Epoch 3/4000\n",
      "157/157 [==============================] - 46s 294ms/step - loss: 1.3307 - f1_score: 0.1146 - val_loss: 1.2511 - val_f1_score: 0.1350\n",
      "Epoch 4/4000\n",
      "157/157 [==============================] - 46s 294ms/step - loss: 1.3179 - f1_score: 0.1147 - val_loss: 1.2492 - val_f1_score: 0.1351\n",
      "Epoch 5/4000\n",
      "157/157 [==============================] - 46s 294ms/step - loss: 1.3173 - f1_score: 0.1130 - val_loss: 1.2477 - val_f1_score: 0.1351\n",
      "Epoch 6/4000\n",
      "157/157 [==============================] - 46s 295ms/step - loss: 1.3128 - f1_score: 0.1153 - val_loss: 1.2420 - val_f1_score: 0.1358\n",
      "Epoch 7/4000\n",
      "157/157 [==============================] - 46s 295ms/step - loss: 1.3088 - f1_score: 0.1146 - val_loss: 1.2381 - val_f1_score: 0.1364\n",
      "Epoch 8/4000\n",
      "157/157 [==============================] - 46s 296ms/step - loss: 1.3051 - f1_score: 0.1151 - val_loss: 1.2373 - val_f1_score: 0.1371\n",
      "Epoch 9/4000\n",
      "157/157 [==============================] - 47s 297ms/step - loss: 1.3022 - f1_score: 0.1149 - val_loss: 1.2328 - val_f1_score: 0.1370\n",
      "Epoch 10/4000\n",
      "157/157 [==============================] - 47s 298ms/step - loss: 1.3004 - f1_score: 0.1162 - val_loss: 1.2257 - val_f1_score: 0.1385\n",
      "Epoch 11/4000\n",
      "157/157 [==============================] - 47s 298ms/step - loss: 1.2898 - f1_score: 0.1201 - val_loss: 1.2229 - val_f1_score: 0.1367\n",
      "Epoch 12/4000\n",
      "157/157 [==============================] - 47s 298ms/step - loss: 1.2883 - f1_score: 0.1195 - val_loss: 1.2217 - val_f1_score: 0.1359\n",
      "Epoch 13/4000\n",
      "157/157 [==============================] - 47s 299ms/step - loss: 1.2858 - f1_score: 0.1205 - val_loss: 1.2144 - val_f1_score: 0.1369\n",
      "Epoch 14/4000\n",
      "157/157 [==============================] - 47s 299ms/step - loss: 1.2719 - f1_score: 0.1249 - val_loss: 1.2022 - val_f1_score: 0.1371\n",
      "Epoch 15/4000\n",
      "157/157 [==============================] - 47s 301ms/step - loss: 1.2555 - f1_score: 0.1251 - val_loss: 1.1674 - val_f1_score: 0.1431\n",
      "Epoch 16/4000\n",
      "157/157 [==============================] - 47s 300ms/step - loss: 1.2020 - f1_score: 0.1510 - val_loss: 1.0889 - val_f1_score: 0.1900\n",
      "Epoch 17/4000\n",
      "157/157 [==============================] - 47s 301ms/step - loss: 1.1157 - f1_score: 0.2272 - val_loss: 0.9994 - val_f1_score: 0.2510\n",
      "Epoch 18/4000\n",
      "157/157 [==============================] - 47s 300ms/step - loss: 1.0570 - f1_score: 0.2654 - val_loss: 0.9607 - val_f1_score: 0.2715\n",
      "Epoch 19/4000\n",
      "157/157 [==============================] - 47s 300ms/step - loss: 1.0271 - f1_score: 0.2751 - val_loss: 0.9314 - val_f1_score: 0.2771\n",
      "Epoch 20/4000\n",
      "157/157 [==============================] - 47s 301ms/step - loss: 1.0063 - f1_score: 0.2791 - val_loss: 0.9169 - val_f1_score: 0.2793\n",
      "Epoch 21/4000\n",
      "157/157 [==============================] - 47s 300ms/step - loss: 0.9903 - f1_score: 0.2832 - val_loss: 0.9091 - val_f1_score: 0.2803\n",
      "Epoch 22/4000\n",
      "157/157 [==============================] - 47s 301ms/step - loss: 0.9812 - f1_score: 0.2892 - val_loss: 0.8995 - val_f1_score: 0.2810\n",
      "Epoch 23/4000\n",
      "157/157 [==============================] - 47s 301ms/step - loss: 0.9761 - f1_score: 0.2864 - val_loss: 0.8951 - val_f1_score: 0.2782\n",
      "Epoch 24/4000\n",
      "157/157 [==============================] - 47s 301ms/step - loss: 0.9612 - f1_score: 0.2889 - val_loss: 0.8910 - val_f1_score: 0.2792\n",
      "Epoch 25/4000\n",
      "157/157 [==============================] - 48s 303ms/step - loss: 0.9636 - f1_score: 0.2906 - val_loss: 0.8893 - val_f1_score: 0.2863\n",
      "Epoch 26/4000\n",
      "157/157 [==============================] - 48s 305ms/step - loss: 0.9514 - f1_score: 0.2930 - val_loss: 0.8855 - val_f1_score: 0.2845\n",
      "Epoch 27/4000\n",
      "157/157 [==============================] - 48s 307ms/step - loss: 0.9402 - f1_score: 0.2913 - val_loss: 0.8785 - val_f1_score: 0.2829\n",
      "Epoch 28/4000\n",
      "157/157 [==============================] - 48s 305ms/step - loss: 0.9335 - f1_score: 0.2970 - val_loss: 0.8773 - val_f1_score: 0.2843\n",
      "Epoch 29/4000\n",
      "157/157 [==============================] - 48s 306ms/step - loss: 0.9303 - f1_score: 0.2991 - val_loss: 0.8748 - val_f1_score: 0.2783\n",
      "Epoch 30/4000\n",
      "157/157 [==============================] - 48s 306ms/step - loss: 0.9189 - f1_score: 0.2980 - val_loss: 0.8726 - val_f1_score: 0.2802\n",
      "Epoch 31/4000\n",
      "157/157 [==============================] - 49s 310ms/step - loss: 0.9156 - f1_score: 0.2974 - val_loss: 0.8742 - val_f1_score: 0.2877\n",
      "Epoch 32/4000\n",
      "157/157 [==============================] - 49s 309ms/step - loss: 0.9155 - f1_score: 0.2997 - val_loss: 0.8736 - val_f1_score: 0.2804\n",
      "Epoch 33/4000\n",
      "157/157 [==============================] - 48s 308ms/step - loss: 0.9160 - f1_score: 0.3007 - val_loss: 0.8719 - val_f1_score: 0.2780\n",
      "Epoch 34/4000\n",
      "157/157 [==============================] - 49s 310ms/step - loss: 0.9061 - f1_score: 0.2978 - val_loss: 0.8710 - val_f1_score: 0.2822\n",
      "Epoch 35/4000\n",
      "157/157 [==============================] - 49s 310ms/step - loss: 0.8996 - f1_score: 0.3002 - val_loss: 0.8661 - val_f1_score: 0.2843\n",
      "Epoch 36/4000\n",
      "157/157 [==============================] - 49s 310ms/step - loss: 0.8970 - f1_score: 0.3042 - val_loss: 0.8662 - val_f1_score: 0.2834\n",
      "Epoch 37/4000\n",
      "157/157 [==============================] - 48s 309ms/step - loss: 0.8897 - f1_score: 0.3020 - val_loss: 0.8677 - val_f1_score: 0.2839\n",
      "Epoch 38/4000\n",
      "157/157 [==============================] - 54s 342ms/step - loss: 0.8753 - f1_score: 0.3035 - val_loss: 0.8667 - val_f1_score: 0.2908\n",
      "Epoch 39/4000\n",
      "157/157 [==============================] - 49s 310ms/step - loss: 0.8807 - f1_score: 0.3097 - val_loss: 0.8646 - val_f1_score: 0.2861\n",
      "Epoch 40/4000\n",
      "157/157 [==============================] - 49s 310ms/step - loss: 0.8726 - f1_score: 0.3065 - val_loss: 0.8677 - val_f1_score: 0.2915\n",
      "Epoch 41/4000\n",
      "157/157 [==============================] - 49s 310ms/step - loss: 0.8710 - f1_score: 0.3037 - val_loss: 0.8748 - val_f1_score: 0.2940\n",
      "Epoch 42/4000\n",
      "157/157 [==============================] - 58s 368ms/step - loss: 0.8709 - f1_score: 0.3088 - val_loss: 0.8713 - val_f1_score: 0.2935\n",
      "Epoch 43/4000\n",
      "157/157 [==============================] - 49s 311ms/step - loss: 0.8580 - f1_score: 0.3118 - val_loss: 0.8815 - val_f1_score: 0.2797\n",
      "Epoch 44/4000\n",
      "157/157 [==============================] - 49s 311ms/step - loss: 0.8643 - f1_score: 0.3067 - val_loss: 0.8738 - val_f1_score: 0.2909\n",
      "Epoch 45/4000\n",
      "157/157 [==============================] - 48s 308ms/step - loss: 0.8573 - f1_score: 0.3119 - val_loss: 0.8747 - val_f1_score: 0.2894\n",
      "Epoch 46/4000\n",
      "157/157 [==============================] - 49s 311ms/step - loss: 0.8541 - f1_score: 0.3128 - val_loss: 0.8756 - val_f1_score: 0.2940\n",
      "Epoch 47/4000\n",
      "157/157 [==============================] - 51s 325ms/step - loss: 0.8600 - f1_score: 0.3107 - val_loss: 0.8762 - val_f1_score: 0.2861\n",
      "Epoch 48/4000\n",
      "157/157 [==============================] - 59s 378ms/step - loss: 0.8598 - f1_score: 0.3118 - val_loss: 0.8826 - val_f1_score: 0.2898\n",
      "Epoch 49/4000\n",
      "157/157 [==============================] - 60s 379ms/step - loss: 0.8451 - f1_score: 0.3106 - val_loss: 0.8769 - val_f1_score: 0.2966\n",
      "Epoch 50/4000\n",
      "157/157 [==============================] - 59s 379ms/step - loss: 0.8415 - f1_score: 0.3119 - val_loss: 0.8798 - val_f1_score: 0.2929\n",
      "Epoch 51/4000\n",
      "157/157 [==============================] - 59s 377ms/step - loss: 0.8420 - f1_score: 0.3158 - val_loss: 0.8806 - val_f1_score: 0.2968\n",
      "Epoch 52/4000\n",
      "157/157 [==============================] - 49s 314ms/step - loss: 0.8240 - f1_score: 0.3145 - val_loss: 0.8916 - val_f1_score: 0.2954\n",
      "Epoch 53/4000\n",
      "157/157 [==============================] - 49s 312ms/step - loss: 0.8341 - f1_score: 0.3170 - val_loss: 0.8854 - val_f1_score: 0.2900\n",
      "Epoch 54/4000\n",
      "157/157 [==============================] - 49s 313ms/step - loss: 0.8394 - f1_score: 0.3177 - val_loss: 0.8925 - val_f1_score: 0.2940\n",
      "Epoch 55/4000\n",
      "157/157 [==============================] - 49s 314ms/step - loss: 0.8248 - f1_score: 0.3196 - val_loss: 0.8939 - val_f1_score: 0.2975\n",
      "Epoch 56/4000\n",
      "157/157 [==============================] - 59s 377ms/step - loss: 0.8246 - f1_score: 0.3179 - val_loss: 0.8964 - val_f1_score: 0.2943\n",
      "Epoch 57/4000\n",
      "157/157 [==============================] - 59s 378ms/step - loss: 0.8130 - f1_score: 0.3266 - val_loss: 0.9023 - val_f1_score: 0.2956\n",
      "Epoch 58/4000\n",
      "157/157 [==============================] - 60s 380ms/step - loss: 0.8253 - f1_score: 0.3211 - val_loss: 0.8956 - val_f1_score: 0.2961\n",
      "Epoch 59/4000\n",
      "157/157 [==============================] - 59s 379ms/step - loss: 0.8019 - f1_score: 0.3245 - val_loss: 0.9074 - val_f1_score: 0.2943\n",
      "Epoch 60/4000\n",
      "157/157 [==============================] - 60s 380ms/step - loss: 0.8174 - f1_score: 0.3267 - val_loss: 0.8970 - val_f1_score: 0.2971\n",
      "Epoch 61/4000\n",
      "157/157 [==============================] - 60s 380ms/step - loss: 0.8144 - f1_score: 0.3201 - val_loss: 0.8975 - val_f1_score: 0.2953\n",
      "Epoch 62/4000\n",
      "157/157 [==============================] - 59s 379ms/step - loss: 0.8093 - f1_score: 0.3260 - val_loss: 0.9007 - val_f1_score: 0.2974\n",
      "Epoch 63/4000\n",
      "157/157 [==============================] - 60s 381ms/step - loss: 0.8011 - f1_score: 0.3243 - val_loss: 0.9059 - val_f1_score: 0.2960\n",
      "Epoch 64/4000\n",
      "157/157 [==============================] - 60s 380ms/step - loss: 0.8043 - f1_score: 0.3247 - val_loss: 0.9061 - val_f1_score: 0.2965\n",
      "Epoch 65/4000\n",
      "157/157 [==============================] - ETA: 0s - loss: 0.7977 - f1_score: 0.3293Restoring model weights from the end of the best epoch: 55.\n",
      "157/157 [==============================] - 60s 381ms/step - loss: 0.7977 - f1_score: 0.3293 - val_loss: 0.9170 - val_f1_score: 0.2904\n",
      "Epoch 00065: early stopping\n"
     ]
    }
   ],
   "source": [
    "# fit model using ealy stopping\n",
    "es = EarlyStopping(monitor='val_f1_score', mode='max', patience=10, restore_best_weights=True, verbose=2)\n",
    "# fit the model\n",
    "history = model.fit(X_train, y_train,\n",
    "                    validation_data=(X_val, y_val), \n",
    "                    epochs=4000, callbacks=[es], verbose=1)"
   ]
  },
  {
   "cell_type": "code",
   "execution_count": 38,
   "metadata": {},
   "outputs": [
    {
     "data": {
      "image/png": "[encoded data removed]",
      "text/plain": [
       "<Figure size 1296x432 with 2 Axes>"
      ]
     },
     "metadata": {
      "needs_background": "light"
     },
     "output_type": "display_data"
    }
   ],
   "source": [
    "# plot history\n",
    "babysit(history)"
   ]
  },
  {
   "cell_type": "code",
   "execution_count": 39,
   "metadata": {},
   "outputs": [
    {
     "name": "stdout",
     "output_type": "stream",
     "text": [
      "F1: 0.295344\n"
     ]
    }
   ],
   "source": [
    "# Evaluate the model\n",
    "f1.update_state(y_test, model.predict(X_test))\n",
    "print('F1: %f' % (f1.result().numpy()))"
   ]
  },
  {
   "cell_type": "code",
   "execution_count": null,
   "metadata": {},
   "outputs": [],
   "source": [
    "# The best model is when I used biderectional layers, with vocab size of 2000 and learning rate of 0.00001. It is clear that \n",
    "# the biderectional improve the model metrics."
   ]
  }
 ],
 "metadata": {
  "colab": {
   "collapsed_sections": [],
   "name": "notebook-NLP-sentiment-analysis-with-MLP-Keras embedding.ipynb",
   "provenance": []
  },
  "kernelspec": {
   "display_name": "Python 3 (ipykernel)",
   "language": "python",
   "name": "python3"
  },
  "language_info": {
   "codemirror_mode": {
    "name": "ipython",
    "version": 3
   },
   "file_extension": ".py",
   "mimetype": "text/x-python",
   "name": "python",
   "nbconvert_exporter": "python",
   "pygments_lexer": "ipython3",
   "version": "3.9.7"
  },
  "latex_envs": {
   "LaTeX_envs_menu_present": true,
   "autoclose": true,
   "autocomplete": true,
   "bibliofile": "biblio.bib",
   "cite_by": "apalike",
   "current_citInitial": 1,
   "eqLabelWithNumbers": true,
   "eqNumInitial": 1,
   "hotkeys": {
    "equation": "Ctrl-E",
    "itemize": "Ctrl-I"
   },
   "labels_anchors": false,
   "latex_user_defs": false,
   "report_style_numbering": false,
   "user_envs_cfg": false
  },
  "nbTranslate": {
   "displayLangs": [
    "*"
   ],
   "hotkey": "alt-t",
   "langInMainMenu": true,
   "sourceLang": "en",
   "targetLang": "fr",
   "useGoogleTranslate": true
  },
  "toc": {
   "base_numbering": 1,
   "nav_menu": {},
   "number_sections": true,
   "sideBar": true,
   "skip_h1_title": true,
   "title_cell": "Table of Contents",
   "title_sidebar": "Contents",
   "toc_cell": true,
   "toc_position": {},
   "toc_section_display": true,
   "toc_window_display": false
  }
 },
 "nbformat": 4,
 "nbformat_minor": 1
}
