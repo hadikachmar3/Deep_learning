{
 "cells": [
  {
   "cell_type": "markdown",
   "metadata": {
    "id": "o22rTSh_5HE_"
   },
   "source": [
    "# Sentiment analysis with BOW representation\n",
    "\n",
    "Text classification is a machine learning technique that assigns a set of predefined categories to open-ended text. Text classifiers can be used to organize, structure, and categorize pretty much any kind of text – from documents, medical studies and files, and all over the web.\n",
    "\n",
    "For example, new articles can be organized by topics; support tickets can be organized by urgency; chat conversations can be organized by language; brand mentions can be organized by sentiment; and so on.\n",
    "\n",
    "Text classification is one of the fundamental tasks in natural language processing with broad applications such as **sentiment analysis**, topic labeling, spam detection, and intent detection.\n",
    "\n",
    "**Why is Text Classification Important?**\n",
    "\n",
    "It’s estimated that around 80% of all information is unstructured, with text being one of the most common types of unstructured data. Because of the messy nature of text, analyzing, understanding, organizing, and sorting through text data is hard and time-consuming, so most companies fail to use it to its full potential.\n",
    "\n",
    "This is where text classification with machine learning comes in. Using text classifiers, companies can automatically structure all manner of relevant text, from emails, legal documents, social media, chatbots, surveys, and more in a fast and cost-effective way. This allows companies to save time analyzing text data, automate business processes, and make data-driven business decisions.\n",
    "\n",
    "**How Does Text Classification Work?**\n",
    "\n",
    "Instead of relying on manually crafted rules, machine learning text classification learns to make classifications based on past observations. By using pre-labeled examples as training data, machine learning algorithms can learn the different associations between pieces of text, and that a particular output (i.e., tags) is expected for a particular input (i.e., text). A “tag” is the pre-determined classification or category that any given text could fall into.\n",
    "\n",
    "The first step towards training a machine learning NLP classifier is feature extraction: a method is used to transform each text into a numerical representation in the form of a vector. One of the most frequently used approaches is bag of words, where a vector represents the frequency of a word in a predefined dictionary of words.\n",
    "\n",
    "Then, the machine learning algorithm is fed with training data that consists of pairs of feature sets (vectors for each text example) and tags (e.g. sports, politics) to produce a classification model:\n",
    "\n",
    "![training](https://monkeylearn.com/static/507a7b5d0557f416857a038f553865d1/2ed04/text_process_training.webp)\n",
    "\n",
    "Once it’s trained with enough training samples, the machine learning model can begin to make accurate predictions. The same feature extractor is used to transform unseen text to feature sets, which can be fed into the classification model to get predictions on tags (e.g., sports, politics):\n",
    "\n",
    "![prediction](https://monkeylearn.com/static/afa7e0536886ee7152dfa4c628fe59f0/2b924/text_process_prediction.webp)\n",
    "\n",
    "Text classification with machine learning is usually much more accurate than human-crafted rule systems, especially on complex NLP classification tasks. Also, classifiers with machine learning are easier to maintain and you can always tag new examples to learn new tasks."
   ]
  },
  {
   "cell_type": "markdown",
   "metadata": {
    "id": "UgzggwPnvq_o"
   },
   "source": [
    "## Today lab\n",
    "\n",
    "In this lab we use part of the 'Amazon_Unlocked_Mobile.csv' dataset published by Kaggle. The dataset contain the following information:\n",
    "* Product Name\n",
    "* Brand Name\n",
    "* Price\n",
    "* Rating\n",
    "* Reviews\n",
    "* Review Votes\n",
    "\n",
    "We are mainly interested by the 'Reviews' (X) and by the 'Rating' (y)\n",
    "\n",
    "The goal is to try to predict the 'Rating' after reading the 'Reviews'. I've prepared for you TRAIN and TEST set."
   ]
  },
  {
   "cell_type": "markdown",
   "metadata": {
    "id": "AmQlCKQVvq_p",
    "toc": true
   },
   "source": [
    "<h1>Table of Contents<span class=\"tocSkip\"></span></h1>\n",
    "<div class=\"toc\"><ul class=\"toc-item\"><li><span><a href=\"#Today-lab\" data-toc-modified-id=\"Today-lab-1\"><span class=\"toc-item-num\">1&nbsp;&nbsp;</span>Today lab</a></span></li><li><span><a href=\"#Load-dataset\" data-toc-modified-id=\"Load-dataset-2\"><span class=\"toc-item-num\">2&nbsp;&nbsp;</span>Load dataset</a></span><ul class=\"toc-item\"><li><span><a href=\"#About-Train,-validation-and-test-sets\" data-toc-modified-id=\"About-Train,-validation-and-test-sets-2.1\"><span class=\"toc-item-num\">2.1&nbsp;&nbsp;</span><a href=\"https://towardsdatascience.com/train-validation-and-test-sets-72cb40cba9e7\" rel=\"nofollow\" target=\"_blank\">About Train, validation and test sets</a></a></span></li><li><span><a href=\"#Undestand-the-dataset\" data-toc-modified-id=\"Undestand-the-dataset-2.2\"><span class=\"toc-item-num\">2.2&nbsp;&nbsp;</span>Undestand the dataset</a></span></li></ul></li><li><span><a href=\"#Build-X-(features-vectors)-and-y-(labels)\" data-toc-modified-id=\"Build-X-(features-vectors)-and-y-(labels)-3\"><span class=\"toc-item-num\">3&nbsp;&nbsp;</span>Build X (features vectors) and y (labels)</a></span></li><li><span><a href=\"#Our-previous-baseline\" data-toc-modified-id=\"Our-previous-baseline-4\"><span class=\"toc-item-num\">4&nbsp;&nbsp;</span>Our previous baseline</a></span></li><li><span><a href=\"#Build-an-MLP-Classifier\" data-toc-modified-id=\"Build-an-MLP-Classifier-5\"><span class=\"toc-item-num\">5&nbsp;&nbsp;</span>Build an MLP Classifier</a></span></li></ul></div>"
   ]
  },
  {
   "cell_type": "markdown",
   "metadata": {
    "id": "PZg2dPXvvq_q"
   },
   "source": [
    "## Load dataset"
   ]
  },
  {
   "cell_type": "code",
   "execution_count": 1,
   "metadata": {
    "ExecuteTime": {
     "end_time": "2022-01-19T13:17:55.195443Z",
     "start_time": "2022-01-19T13:17:52.018950Z"
    },
    "id": "8wxTLStrvq_r"
   },
   "outputs": [
    {
     "name": "stderr",
     "output_type": "stream",
     "text": [
      "[nltk_data] Downloading collection 'popular'\n",
      "[nltk_data]    | \n",
      "[nltk_data]    | Downloading package cmudict to\n",
      "[nltk_data]    |     C:\\Users\\hadik\\AppData\\Roaming\\nltk_data...\n",
      "[nltk_data]    |   Package cmudict is already up-to-date!\n",
      "[nltk_data]    | Downloading package gazetteers to\n",
      "[nltk_data]    |     C:\\Users\\hadik\\AppData\\Roaming\\nltk_data...\n",
      "[nltk_data]    |   Package gazetteers is already up-to-date!\n",
      "[nltk_data]    | Downloading package genesis to\n",
      "[nltk_data]    |     C:\\Users\\hadik\\AppData\\Roaming\\nltk_data...\n",
      "[nltk_data]    |   Package genesis is already up-to-date!\n",
      "[nltk_data]    | Downloading package gutenberg to\n",
      "[nltk_data]    |     C:\\Users\\hadik\\AppData\\Roaming\\nltk_data...\n",
      "[nltk_data]    |   Package gutenberg is already up-to-date!\n",
      "[nltk_data]    | Downloading package inaugural to\n",
      "[nltk_data]    |     C:\\Users\\hadik\\AppData\\Roaming\\nltk_data...\n",
      "[nltk_data]    |   Package inaugural is already up-to-date!\n",
      "[nltk_data]    | Downloading package movie_reviews to\n",
      "[nltk_data]    |     C:\\Users\\hadik\\AppData\\Roaming\\nltk_data...\n",
      "[nltk_data]    |   Package movie_reviews is already up-to-date!\n",
      "[nltk_data]    | Downloading package names to\n",
      "[nltk_data]    |     C:\\Users\\hadik\\AppData\\Roaming\\nltk_data...\n",
      "[nltk_data]    |   Package names is already up-to-date!\n",
      "[nltk_data]    | Downloading package shakespeare to\n",
      "[nltk_data]    |     C:\\Users\\hadik\\AppData\\Roaming\\nltk_data...\n",
      "[nltk_data]    |   Package shakespeare is already up-to-date!\n",
      "[nltk_data]    | Downloading package stopwords to\n",
      "[nltk_data]    |     C:\\Users\\hadik\\AppData\\Roaming\\nltk_data...\n",
      "[nltk_data]    |   Package stopwords is already up-to-date!\n",
      "[nltk_data]    | Downloading package treebank to\n",
      "[nltk_data]    |     C:\\Users\\hadik\\AppData\\Roaming\\nltk_data...\n",
      "[nltk_data]    |   Package treebank is already up-to-date!\n",
      "[nltk_data]    | Downloading package twitter_samples to\n",
      "[nltk_data]    |     C:\\Users\\hadik\\AppData\\Roaming\\nltk_data...\n",
      "[nltk_data]    |   Package twitter_samples is already up-to-date!\n",
      "[nltk_data]    | Downloading package omw to\n",
      "[nltk_data]    |     C:\\Users\\hadik\\AppData\\Roaming\\nltk_data...\n",
      "[nltk_data]    |   Package omw is already up-to-date!\n",
      "[nltk_data]    | Downloading package omw-1.4 to\n",
      "[nltk_data]    |     C:\\Users\\hadik\\AppData\\Roaming\\nltk_data...\n",
      "[nltk_data]    |   Package omw-1.4 is already up-to-date!\n",
      "[nltk_data]    | Downloading package wordnet to\n",
      "[nltk_data]    |     C:\\Users\\hadik\\AppData\\Roaming\\nltk_data...\n",
      "[nltk_data]    |   Package wordnet is already up-to-date!\n",
      "[nltk_data]    | Downloading package wordnet2021 to\n",
      "[nltk_data]    |     C:\\Users\\hadik\\AppData\\Roaming\\nltk_data...\n",
      "[nltk_data]    |   Package wordnet2021 is already up-to-date!\n",
      "[nltk_data]    | Downloading package wordnet31 to\n",
      "[nltk_data]    |     C:\\Users\\hadik\\AppData\\Roaming\\nltk_data...\n",
      "[nltk_data]    |   Package wordnet31 is already up-to-date!\n",
      "[nltk_data]    | Downloading package wordnet_ic to\n",
      "[nltk_data]    |     C:\\Users\\hadik\\AppData\\Roaming\\nltk_data...\n",
      "[nltk_data]    |   Package wordnet_ic is already up-to-date!\n",
      "[nltk_data]    | Downloading package words to\n",
      "[nltk_data]    |     C:\\Users\\hadik\\AppData\\Roaming\\nltk_data...\n",
      "[nltk_data]    |   Package words is already up-to-date!\n",
      "[nltk_data]    | Downloading package maxent_ne_chunker to\n",
      "[nltk_data]    |     C:\\Users\\hadik\\AppData\\Roaming\\nltk_data...\n",
      "[nltk_data]    |   Package maxent_ne_chunker is already up-to-date!\n",
      "[nltk_data]    | Downloading package punkt to\n",
      "[nltk_data]    |     C:\\Users\\hadik\\AppData\\Roaming\\nltk_data...\n",
      "[nltk_data]    |   Package punkt is already up-to-date!\n",
      "[nltk_data]    | Downloading package snowball_data to\n",
      "[nltk_data]    |     C:\\Users\\hadik\\AppData\\Roaming\\nltk_data...\n",
      "[nltk_data]    |   Package snowball_data is already up-to-date!\n",
      "[nltk_data]    | Downloading package averaged_perceptron_tagger to\n",
      "[nltk_data]    |     C:\\Users\\hadik\\AppData\\Roaming\\nltk_data...\n",
      "[nltk_data]    |   Package averaged_perceptron_tagger is already up-\n",
      "[nltk_data]    |       to-date!\n",
      "[nltk_data]    | \n",
      "[nltk_data]  Done downloading collection popular\n"
     ]
    },
    {
     "data": {
      "text/plain": [
       "True"
      ]
     },
     "execution_count": 1,
     "metadata": {},
     "output_type": "execute_result"
    }
   ],
   "source": [
    "import pandas as pd\n",
    "import numpy as np\n",
    "import nltk\n",
    "nltk.download('popular')"
   ]
  },
  {
   "cell_type": "code",
   "execution_count": 2,
   "metadata": {
    "ExecuteTime": {
     "end_time": "2022-01-19T13:17:55.977676Z",
     "start_time": "2022-01-19T13:17:55.239096Z"
    },
    "colab": {
     "base_uri": "https://localhost:8080/",
     "height": 204
    },
    "executionInfo": {
     "elapsed": 2638,
     "status": "ok",
     "timestamp": 1634734106855,
     "user": {
      "displayName": "Antoine Collin",
      "photoUrl": "https://lh3.googleusercontent.com/a/default-user=s64",
      "userId": "01107865217976062482"
     },
     "user_tz": -120
    },
    "id": "MLWzp9CAvq_t",
    "outputId": "abb836f6-8137-43a7-decb-f1d7a8a981be"
   },
   "outputs": [
    {
     "data": {
      "text/html": [
       "<div>\n",
       "<style scoped>\n",
       "    .dataframe tbody tr th:only-of-type {\n",
       "        vertical-align: middle;\n",
       "    }\n",
       "\n",
       "    .dataframe tbody tr th {\n",
       "        vertical-align: top;\n",
       "    }\n",
       "\n",
       "    .dataframe thead th {\n",
       "        text-align: right;\n",
       "    }\n",
       "</style>\n",
       "<table border=\"1\" class=\"dataframe\">\n",
       "  <thead>\n",
       "    <tr style=\"text-align: right;\">\n",
       "      <th></th>\n",
       "      <th>Product Name</th>\n",
       "      <th>Brand Name</th>\n",
       "      <th>Price</th>\n",
       "      <th>Rating</th>\n",
       "      <th>Reviews</th>\n",
       "      <th>Review Votes</th>\n",
       "    </tr>\n",
       "  </thead>\n",
       "  <tbody>\n",
       "    <tr>\n",
       "      <th>0</th>\n",
       "      <td>Samsung Galaxy Note 4 N910C Unlocked Cellphone...</td>\n",
       "      <td>Samsung</td>\n",
       "      <td>449.99</td>\n",
       "      <td>4</td>\n",
       "      <td>I love it!!! I absolutely love it!! 👌👍</td>\n",
       "      <td>0.0</td>\n",
       "    </tr>\n",
       "    <tr>\n",
       "      <th>1</th>\n",
       "      <td>BLU Energy X Plus Smartphone - With 4000 mAh S...</td>\n",
       "      <td>BLU</td>\n",
       "      <td>139.00</td>\n",
       "      <td>5</td>\n",
       "      <td>I love the BLU phones! This is my second one t...</td>\n",
       "      <td>4.0</td>\n",
       "    </tr>\n",
       "    <tr>\n",
       "      <th>2</th>\n",
       "      <td>Apple iPhone 6 128GB Silver AT&amp;T</td>\n",
       "      <td>Apple</td>\n",
       "      <td>599.95</td>\n",
       "      <td>5</td>\n",
       "      <td>Great phone</td>\n",
       "      <td>1.0</td>\n",
       "    </tr>\n",
       "    <tr>\n",
       "      <th>3</th>\n",
       "      <td>BLU Advance 4.0L Unlocked Smartphone -US GSM -...</td>\n",
       "      <td>BLU</td>\n",
       "      <td>51.99</td>\n",
       "      <td>4</td>\n",
       "      <td>Very happy with the performance. The apps work...</td>\n",
       "      <td>2.0</td>\n",
       "    </tr>\n",
       "    <tr>\n",
       "      <th>4</th>\n",
       "      <td>Huawei P8 Lite US Version- 5 Unlocked Android ...</td>\n",
       "      <td>Huawei</td>\n",
       "      <td>198.99</td>\n",
       "      <td>5</td>\n",
       "      <td>Easy to use great price</td>\n",
       "      <td>0.0</td>\n",
       "    </tr>\n",
       "  </tbody>\n",
       "</table>\n",
       "</div>"
      ],
      "text/plain": [
       "                                        Product Name Brand Name   Price  \\\n",
       "0  Samsung Galaxy Note 4 N910C Unlocked Cellphone...    Samsung  449.99   \n",
       "1  BLU Energy X Plus Smartphone - With 4000 mAh S...        BLU  139.00   \n",
       "2                   Apple iPhone 6 128GB Silver AT&T      Apple  599.95   \n",
       "3  BLU Advance 4.0L Unlocked Smartphone -US GSM -...        BLU   51.99   \n",
       "4  Huawei P8 Lite US Version- 5 Unlocked Android ...     Huawei  198.99   \n",
       "\n",
       "   Rating                                            Reviews  Review Votes  \n",
       "0       4             I love it!!! I absolutely love it!! 👌👍           0.0  \n",
       "1       5  I love the BLU phones! This is my second one t...           4.0  \n",
       "2       5                                        Great phone           1.0  \n",
       "3       4  Very happy with the performance. The apps work...           2.0  \n",
       "4       5                            Easy to use great price           0.0  "
      ]
     },
     "execution_count": 2,
     "metadata": {},
     "output_type": "execute_result"
    }
   ],
   "source": [
    "TRAIN = pd.read_csv(\"http://www.i3s.unice.fr/~riveill/dataset/Amazon_Unlocked_Mobile/train.csv.gz\")\n",
    "TEST = pd.read_csv(\"http://www.i3s.unice.fr/~riveill/dataset/Amazon_Unlocked_Mobile/test.csv.gz\")\n",
    "\n",
    "TRAIN.head()"
   ]
  },
  {
   "cell_type": "markdown",
   "metadata": {
    "id": "o2eC1L4fvq_0"
   },
   "source": [
    "## Build X (features vectors) and y (labels)"
   ]
  },
  {
   "cell_type": "code",
   "execution_count": 3,
   "metadata": {
    "ExecuteTime": {
     "end_time": "2022-01-19T13:17:56.008775Z",
     "start_time": "2022-01-19T13:17:55.985761Z"
    },
    "colab": {
     "base_uri": "https://localhost:8080/"
    },
    "executionInfo": {
     "elapsed": 284,
     "status": "ok",
     "timestamp": 1634738820951,
     "user": {
      "displayName": "Antoine Collin",
      "photoUrl": "https://lh3.googleusercontent.com/a/default-user=s64",
      "userId": "01107865217976062482"
     },
     "user_tz": -120
    },
    "id": "dOnscXEBvq_0",
    "outputId": "4364f457-545c-49d3-c2fe-5540d52b0f58"
   },
   "outputs": [
    {
     "data": {
      "text/plain": [
       "((5000,), (5000,))"
      ]
     },
     "execution_count": 3,
     "metadata": {},
     "output_type": "execute_result"
    }
   ],
   "source": [
    "# Construct X_train and y_train\n",
    "X_train = TRAIN['Reviews'].fillna(\"\")\n",
    "y_train = TRAIN['Rating']\n",
    "X_train.shape, y_train.shape"
   ]
  },
  {
   "cell_type": "code",
   "execution_count": 4,
   "metadata": {
    "ExecuteTime": {
     "end_time": "2022-01-19T13:17:56.063136Z",
     "start_time": "2022-01-19T13:17:56.021507Z"
    },
    "colab": {
     "base_uri": "https://localhost:8080/"
    },
    "executionInfo": {
     "elapsed": 6,
     "status": "ok",
     "timestamp": 1634738821203,
     "user": {
      "displayName": "Antoine Collin",
      "photoUrl": "https://lh3.googleusercontent.com/a/default-user=s64",
      "userId": "01107865217976062482"
     },
     "user_tz": -120
    },
    "id": "338OMkmHvq_1",
    "outputId": "aea649ad-4a81-4aa7-976f-4b97c3461644"
   },
   "outputs": [
    {
     "data": {
      "text/plain": [
       "((1000,), (1000,))"
      ]
     },
     "execution_count": 4,
     "metadata": {},
     "output_type": "execute_result"
    }
   ],
   "source": [
    "# Construct X_test and y_test\n",
    "X_test = TEST['Reviews'].fillna(\"\")\n",
    "y_test = TEST['Rating']\n",
    "X_test.shape, y_test.shape"
   ]
  },
  {
   "cell_type": "markdown",
   "metadata": {
    "id": "2L3YiNzWvq_1"
   },
   "source": [
    "## Features extraction\n",
    "\n",
    "A bag-of-words model is a way of extracting features from text so the text input can be used with machine learning algorithms or neural networks.\n",
    "\n",
    "Each document, in this case a review, is converted into a vector representation. The number of items in the vector representing a document corresponds to the number of words in the vocabulary. The larger the vocabulary, the longer the vector representation, hence the preference for smaller vocabularies in the previous section.\n",
    "\n",
    "Words in a document are scored and the scores are placed in the corresponding location in the representation.\n",
    "\n",
    "In order to extract feature, you can use `CountVectorizer` or `TfidfVectorizer` and you can perform the desired text cleaning."
   ]
  },
  {
   "cell_type": "markdown",
   "metadata": {
    "id": "UbTccrE7B2JX"
   },
   "source": [
    "$$[TODO - Students]$$ \n",
    "> * Quickly remind what are `CountVectorizer`, `TfidfVectorizer` and how they work.\n",
    "> * Build the BOW representation for train and test set"
   ]
  },
  {
   "cell_type": "code",
   "execution_count": 5,
   "metadata": {
    "ExecuteTime": {
     "end_time": "2022-01-19T13:17:56.091783Z",
     "start_time": "2022-01-19T13:17:56.075456Z"
    }
   },
   "outputs": [
    {
     "data": {
      "text/plain": [
       "((5000, 8991), (1000, 8991))"
      ]
     },
     "execution_count": 5,
     "metadata": {},
     "output_type": "execute_result"
    }
   ],
   "source": [
    "# Extract features\n",
    "# Import the CountVectorizer\n",
    "from sklearn.feature_extraction.text import CountVectorizer\n",
    "# Create a Vectorizer Object\n",
    "vectorizer = CountVectorizer()\n",
    "# Fit the model\n",
    "vectorizer.fit(X_train)\n",
    "# Printing the identified Unique words along with their indices\n",
    "# print(\"Vocabulary: \", vectorizer.vocabulary_)\n",
    "\n",
    "# Get the X_train and X_test train by using the vectorizer based on the X_train and X_test\n",
    "X_train_vect = vectorizer.transform(X_train)\n",
    "X_test_vect = vectorizer.transform(X_test)\n",
    "X_train_vect.shape,X_test_vect.shape"
   ]
  },
  {
   "cell_type": "markdown",
   "metadata": {
    "colab": {
     "base_uri": "https://localhost:8080/"
    },
    "executionInfo": {
     "elapsed": 8234,
     "status": "ok",
     "timestamp": 1634739073199,
     "user": {
      "displayName": "Antoine Collin",
      "photoUrl": "https://lh3.googleusercontent.com/a/default-user=s64",
      "userId": "01107865217976062482"
     },
     "user_tz": -120
    },
    "id": "aErFvDg6vq_2",
    "outputId": "1caadb43-483e-4be7-920a-ed3d45dc265d"
   },
   "source": [
    "## Build a baseline with logistic regression.\n",
    "\n",
    "Using the previous BOW representation, fit a logistic regression model and evaluate it."
   ]
  },
  {
   "cell_type": "markdown",
   "metadata": {},
   "source": [
    "$$[TODO - Students]$$ \n",
    "> * Quickly remind what are `LogisticRegression` and how they work.\n",
    "> * hat are the possible metrics. Choose one and justify your choice."
   ]
  },
  {
   "cell_type": "code",
   "execution_count": 6,
   "metadata": {
    "ExecuteTime": {
     "end_time": "2022-01-19T13:17:56.129136Z",
     "start_time": "2022-01-19T13:17:56.105750Z"
    }
   },
   "outputs": [
    {
     "name": "stderr",
     "output_type": "stream",
     "text": [
      "C:\\Users\\hadik\\anaconda3\\lib\\site-packages\\sklearn\\linear_model\\_logistic.py:763: ConvergenceWarning: lbfgs failed to converge (status=1):\n",
      "STOP: TOTAL NO. of ITERATIONS REACHED LIMIT.\n",
      "\n",
      "Increase the number of iterations (max_iter) or scale the data as shown in:\n",
      "    https://scikit-learn.org/stable/modules/preprocessing.html\n",
      "Please also refer to the documentation for alternative solver options:\n",
      "    https://scikit-learn.org/stable/modules/linear_model.html#logistic-regression\n",
      "  n_iter_i = _check_optimize_result(\n"
     ]
    },
    {
     "data": {
      "text/plain": [
       "LogisticRegression()"
      ]
     },
     "execution_count": 6,
     "metadata": {},
     "output_type": "execute_result"
    }
   ],
   "source": [
    "# Build your model\n",
    "from sklearn.linear_model import LogisticRegression # Import logistic regression model\n",
    "\n",
    "logisticRegr = LogisticRegression() # define the model\n",
    "logisticRegr.fit(X_train_vect, y_train) # fit the model"
   ]
  },
  {
   "cell_type": "code",
   "execution_count": 7,
   "metadata": {},
   "outputs": [],
   "source": [
    "predictions = logisticRegr.predict(X_test_vect)"
   ]
  },
  {
   "cell_type": "code",
   "execution_count": 8,
   "metadata": {
    "ExecuteTime": {
     "end_time": "2022-01-19T13:17:56.167207Z",
     "start_time": "2022-01-19T13:17:56.137072Z"
    }
   },
   "outputs": [
    {
     "name": "stdout",
     "output_type": "stream",
     "text": [
      "0.666\n"
     ]
    }
   ],
   "source": [
    "# Evaluate your model\n",
    "# Use score method to get accuracy of model\n",
    "score = logisticRegr.score(X_test_vect, y_test)\n",
    "print(score)"
   ]
  },
  {
   "cell_type": "markdown",
   "metadata": {
    "id": "mdEeQY2Hvq_2"
   },
   "source": [
    "## Build an MLP Classifier\n"
   ]
  },
  {
   "cell_type": "code",
   "execution_count": 9,
   "metadata": {},
   "outputs": [],
   "source": [
    "# !pip install tensorflow"
   ]
  },
  {
   "cell_type": "code",
   "execution_count": 10,
   "metadata": {
    "ExecuteTime": {
     "end_time": "2022-01-19T13:18:02.502107Z",
     "start_time": "2022-01-19T13:17:56.178741Z"
    },
    "id": "Z_XKcRR9vq_3"
   },
   "outputs": [],
   "source": [
    "import tensorflow as tf\n",
    "from tensorflow.keras.models import Model\n",
    "from tensorflow.keras.layers import Input, Dense\n",
    "from tensorflow.keras.callbacks import EarlyStopping"
   ]
  },
  {
   "cell_type": "code",
   "execution_count": 11,
   "metadata": {
    "ExecuteTime": {
     "end_time": "2022-01-19T13:18:02.511769Z",
     "start_time": "2022-01-19T13:18:02.503798Z"
    }
   },
   "outputs": [],
   "source": [
    "# $$[TODO - Students]$$ \n",
    "# > * Quickly remind what are `Multi Layer Perceptron` and how they work.\n",
    "# > * If necessary, One hot encode the output vectors"
   ]
  },
  {
   "cell_type": "raw",
   "metadata": {},
   "source": [
    "Feedforward: No loops, input à hidden layers à output \n",
    "A multilayer perceptron (MLP) is based on Feedforward.\n",
    "A multilayer perceptron (MLP) is strictly refer to networks composed of multiple layers of perceptrons.\n",
    "An MLP consists of at least three layers of nodes: an input layer, a hidden layer and an output layer. \n",
    "MLP utilizes a supervised learning technique called backpropagation for training."
   ]
  },
  {
   "cell_type": "code",
   "execution_count": 12,
   "metadata": {
    "ExecuteTime": {
     "end_time": "2022-01-19T13:18:02.515293Z",
     "start_time": "2022-01-19T13:18:02.515272Z"
    },
    "id": "m0jx2omzvq_3"
   },
   "outputs": [],
   "source": [
    "# Encode output vector if necessary..\n",
    "from sklearn.preprocessing import OneHotEncoder\n",
    "enc = OneHotEncoder(handle_unknown='ignore') # OneHotEncoder initialization\n",
    "# fit_transform to fit and transform the training data.\n",
    "y_train_hencoded = enc.fit_transform(y_train.values.reshape(-1, 1)).toarray()\n",
    "# fit_transform to fit and transform the test data.\n",
    "y_test_hencoded = enc.transform(y_test.values.reshape(-1, 1)).toarray()"
   ]
  },
  {
   "cell_type": "code",
   "execution_count": 13,
   "metadata": {},
   "outputs": [
    {
     "data": {
      "text/plain": [
       "(5000, 5)"
      ]
     },
     "execution_count": 13,
     "metadata": {},
     "output_type": "execute_result"
    }
   ],
   "source": [
    "# Get the training data new shape\n",
    "y_train_hencoded.shape"
   ]
  },
  {
   "cell_type": "markdown",
   "metadata": {
    "id": "vLoZRWAkC2Qw"
   },
   "source": [
    "$$[TODO - Students]$$ \n",
    "> * What is the size of the input vector and the output vector?"
   ]
  },
  {
   "cell_type": "markdown",
   "metadata": {},
   "source": [
    "Input layer\n",
    "Size: depends on the number of features\n",
    "ouput:\n",
    "Number of neurons: depends on the number of variables to predict"
   ]
  },
  {
   "cell_type": "code",
   "execution_count": 14,
   "metadata": {
    "ExecuteTime": {
     "end_time": "2022-01-19T13:18:02.520539Z",
     "start_time": "2022-01-19T13:18:02.520496Z"
    },
    "id": "HuUkAgdxvq_4"
   },
   "outputs": [],
   "source": [
    "# Define constant\n",
    "input_dim = 8991\n",
    "output_dim = 5"
   ]
  },
  {
   "cell_type": "markdown",
   "metadata": {
    "id": "wGUO66DRDQDY"
   },
   "source": [
    "$$[TODO - Students]$$ \n",
    "\n",
    "> * Build a simple network to predict the star rating of a review using the functional API. It should have the following characteristic : one hidden layer with 256 nodes and relu activation.\n",
    "> * What is the activation function of the output layer?"
   ]
  },
  {
   "cell_type": "code",
   "execution_count": 15,
   "metadata": {
    "ExecuteTime": {
     "end_time": "2022-01-19T13:18:02.524493Z",
     "start_time": "2022-01-19T13:18:02.524459Z"
    },
    "executionInfo": {
     "elapsed": 217,
     "status": "ok",
     "timestamp": 1634741548737,
     "user": {
      "displayName": "Antoine Collin",
      "photoUrl": "https://lh3.googleusercontent.com/a/default-user=s64",
      "userId": "01107865217976062482"
     },
     "user_tz": -120
    },
    "id": "LiuynQmZMFy7"
   },
   "outputs": [
    {
     "name": "stdout",
     "output_type": "stream",
     "text": [
      "Model: \"amazon_r_classifier\"\n",
      "_________________________________________________________________\n",
      " Layer (type)                Output Shape              Param #   \n",
      "=================================================================\n",
      " input (InputLayer)          [(None, 8991)]            0         \n",
      "                                                                 \n",
      " layer_0 (Dense)             (None, 256)               2301952   \n",
      "                                                                 \n",
      " output (Dense)              (None, 5)                 1285      \n",
      "                                                                 \n",
      "=================================================================\n",
      "Total params: 2,303,237\n",
      "Trainable params: 2,303,237\n",
      "Non-trainable params: 0\n",
      "_________________________________________________________________\n"
     ]
    }
   ],
   "source": [
    "# Build your MLP\n",
    "from sklearn.neural_network import MLPClassifier\n",
    "\n",
    "# Buid MLP model\n",
    "# You can use the following function\n",
    "def build_MLP(input_shape, activation, layers, nb_class):\n",
    "    input = Input(shape=(input_shape,), name='input')\n",
    "\n",
    "    for i, hidden_size in enumerate(layers):\n",
    "        if i == 0:\n",
    "            x = Dense(input_shape=(input_shape,), units=hidden_size, activation=activation, name='layer_'+str(i))(input)\n",
    "        else:\n",
    "            x = Dense(units=hidden_size, activation=activation, name='layer_'+str(i))(x)\n",
    "\n",
    "    output = Dense(nb_class, activation='softmax', name='output')(x)\n",
    "    model = Model(input, output, name = 'amazon_r_classifier')\n",
    "    model.summary()\n",
    "    return model\n",
    "\n",
    "# Define the model\n",
    "model = build_MLP(input_shape = 8991 , activation= 'relu' ,layers = [256] , nb_class=5)"
   ]
  },
  {
   "cell_type": "markdown",
   "metadata": {
    "id": "axBVvIHCD4_h"
   },
   "source": [
    "$$[TODO - Students]$$ \n",
    "\n",
    "We are now compiling and training the model.\n",
    "> * Using the tensorflow documentation, explain the purpose the EarlyStopping callback and detail its arguments.\n",
    "> * Compile the model\n",
    "> * Fit the model"
   ]
  },
  {
   "cell_type": "code",
   "execution_count": 23,
   "metadata": {
    "ExecuteTime": {
     "end_time": "2022-01-19T13:18:02.528750Z",
     "start_time": "2022-01-19T13:18:02.528721Z"
    },
    "colab": {
     "base_uri": "https://localhost:8080/"
    },
    "executionInfo": {
     "elapsed": 29782,
     "status": "ok",
     "timestamp": 1634740224894,
     "user": {
      "displayName": "Antoine Collin",
      "photoUrl": "https://lh3.googleusercontent.com/a/default-user=s64",
      "userId": "01107865217976062482"
     },
     "user_tz": -120
    },
    "id": "C4zg06r3vq_6",
    "outputId": "0f308061-087c-4724-e163-c3649c762f07"
   },
   "outputs": [
    {
     "name": "stdout",
     "output_type": "stream",
     "text": [
      "Epoch 1/20\n"
     ]
    },
    {
     "name": "stderr",
     "output_type": "stream",
     "text": [
      "C:\\Users\\hadik\\anaconda3\\lib\\site-packages\\tensorflow\\python\\framework\\indexed_slices.py:448: UserWarning: Converting sparse IndexedSlices(IndexedSlices(indices=Tensor(\"gradient_tape/amazon_r_classifier/layer_0/embedding_lookup_sparse/Reshape_1:0\", shape=(None,), dtype=int32), values=Tensor(\"gradient_tape/amazon_r_classifier/layer_0/embedding_lookup_sparse/Reshape:0\", shape=(None, 256), dtype=float32), dense_shape=Tensor(\"gradient_tape/amazon_r_classifier/layer_0/embedding_lookup_sparse/Cast:0\", shape=(2,), dtype=int32))) to a dense Tensor of unknown shape. This may consume a large amount of memory.\n",
      "  warnings.warn(\n"
     ]
    },
    {
     "name": "stdout",
     "output_type": "stream",
     "text": [
      "157/157 [==============================] - 5s 29ms/step - loss: 0.0842 - accuracy: 0.9726 - val_loss: 2.4270 - val_accuracy: 0.6390\n",
      "Epoch 2/20\n",
      "157/157 [==============================] - 4s 28ms/step - loss: 0.0668 - accuracy: 0.9778 - val_loss: 2.5895 - val_accuracy: 0.6390\n",
      "Epoch 3/20\n",
      "157/157 [==============================] - 4s 27ms/step - loss: 0.0630 - accuracy: 0.9782 - val_loss: 2.6967 - val_accuracy: 0.6270\n",
      "Epoch 4/20\n",
      "157/157 [==============================] - 4s 28ms/step - loss: 0.0644 - accuracy: 0.9784 - val_loss: 2.8630 - val_accuracy: 0.6440\n",
      "Epoch 5/20\n",
      "157/157 [==============================] - 4s 27ms/step - loss: 0.0602 - accuracy: 0.9800 - val_loss: 3.0259 - val_accuracy: 0.6440\n",
      "Epoch 6/20\n",
      "157/157 [==============================] - 4s 28ms/step - loss: 0.0583 - accuracy: 0.9802 - val_loss: 3.0484 - val_accuracy: 0.6360\n",
      "Epoch 7/20\n",
      "157/157 [==============================] - 4s 27ms/step - loss: 0.0586 - accuracy: 0.9782 - val_loss: 3.0942 - val_accuracy: 0.6240\n",
      "Epoch 8/20\n",
      "157/157 [==============================] - 4s 28ms/step - loss: 0.0574 - accuracy: 0.9798 - val_loss: 3.2927 - val_accuracy: 0.6440\n",
      "Epoch 9/20\n",
      "157/157 [==============================] - 5s 31ms/step - loss: 0.0558 - accuracy: 0.9810 - val_loss: 3.3459 - val_accuracy: 0.6300\n",
      "Epoch 10/20\n",
      "157/157 [==============================] - 4s 28ms/step - loss: 0.0549 - accuracy: 0.9798 - val_loss: 3.3576 - val_accuracy: 0.6260\n",
      "Epoch 11/20\n",
      "157/157 [==============================] - 4s 28ms/step - loss: 0.0560 - accuracy: 0.9794 - val_loss: 3.5014 - val_accuracy: 0.6260\n",
      "Epoch 12/20\n",
      "157/157 [==============================] - 5s 29ms/step - loss: 0.0542 - accuracy: 0.9796 - val_loss: 3.5202 - val_accuracy: 0.6050\n",
      "Epoch 13/20\n",
      "157/157 [==============================] - 4s 28ms/step - loss: 0.0546 - accuracy: 0.9794 - val_loss: 3.6380 - val_accuracy: 0.6170\n",
      "Epoch 14/20\n",
      "157/157 [==============================] - 4s 27ms/step - loss: 0.0526 - accuracy: 0.9812 - val_loss: 3.7181 - val_accuracy: 0.6150\n",
      "Epoch 15/20\n",
      "157/157 [==============================] - 4s 28ms/step - loss: 0.0529 - accuracy: 0.9788 - val_loss: 3.8570 - val_accuracy: 0.6290\n",
      "Epoch 16/20\n",
      "157/157 [==============================] - 4s 25ms/step - loss: 0.0528 - accuracy: 0.9804 - val_loss: 3.9409 - val_accuracy: 0.6260\n",
      "Epoch 17/20\n",
      "157/157 [==============================] - 4s 25ms/step - loss: 0.0518 - accuracy: 0.9812 - val_loss: 3.9394 - val_accuracy: 0.6200\n",
      "Epoch 18/20\n",
      "157/157 [==============================] - 4s 27ms/step - loss: 0.0517 - accuracy: 0.9800 - val_loss: 4.0367 - val_accuracy: 0.6100\n",
      "Epoch 19/20\n",
      "157/157 [==============================] - 4s 28ms/step - loss: 0.0514 - accuracy: 0.9798 - val_loss: 4.0877 - val_accuracy: 0.6260\n",
      "Epoch 20/20\n",
      "157/157 [==============================] - 4s 27ms/step - loss: 0.0515 - accuracy: 0.9810 - val_loss: 4.1176 - val_accuracy: 0.6230\n"
     ]
    }
   ],
   "source": [
    "# Compile the model and start training\n",
    "# Stop training with early stopping with patience of 20\n",
    "\n",
    "# Patience is the number to identify the early stopping.\n",
    "callbacks_list = [EarlyStopping(monitor='val_accuracy', min_delta=0.005, patience=20,\n",
    "                                verbose=2, mode='min', restore_best_weights=True)\n",
    "                 ]\n",
    "# Compile the model with cross_entropy loss, use accuracy as metrics and 'adam' as optimizer\n",
    "model.compile(loss='categorical_crossentropy', metrics=[\"accuracy\"], optimizer='adam')\n",
    "history = model.fit(X_train_vect, y_train_hencoded, validation_data= (X_test_vect, y_test_hencoded), callbacks=callbacks_list,\n",
    "                    batch_size=32, epochs=20)\n"
   ]
  },
  {
   "cell_type": "markdown",
   "metadata": {
    "ExecuteTime": {
     "end_time": "2022-01-19T13:14:16.701866Z",
     "start_time": "2022-01-19T13:14:16.693977Z"
    }
   },
   "source": [
    "$$[TODO - Students]$$ \n",
    "\n",
    "> * Babysit your model: plot learning curves"
   ]
  },
  {
   "cell_type": "code",
   "execution_count": 17,
   "metadata": {
    "ExecuteTime": {
     "end_time": "2022-01-19T13:18:02.532757Z",
     "start_time": "2022-01-19T13:18:02.532717Z"
    },
    "colab": {
     "base_uri": "https://localhost:8080/",
     "height": 320
    },
    "executionInfo": {
     "elapsed": 593,
     "status": "ok",
     "timestamp": 1634739502335,
     "user": {
      "displayName": "Antoine Collin",
      "photoUrl": "https://lh3.googleusercontent.com/a/default-user=s64",
      "userId": "01107865217976062482"
     },
     "user_tz": -120
    },
    "id": "UAGMeWF_vq_7",
    "outputId": "08483bc2-2034-4535-cc6d-0363246d974b"
   },
   "outputs": [
    {
     "data": {
      "text/plain": [
       "<AxesSubplot:>"
      ]
     },
     "execution_count": 17,
     "metadata": {},
     "output_type": "execute_result"
    },
    {
     "data": {
      "image/png": "[encoded data removed]",
      "text/plain": [
       "<Figure size 576x360 with 1 Axes>"
      ]
     },
     "metadata": {
      "needs_background": "light"
     },
     "output_type": "display_data"
    }
   ],
   "source": [
    "# Plot the learning curves and analyze them\n",
    "# It's possible to plot them very easily using: \n",
    "pd.DataFrame(history.history).plot(figsize=(8,5))"
   ]
  },
  {
   "cell_type": "code",
   "execution_count": 18,
   "metadata": {},
   "outputs": [
    {
     "data": {
      "image/png": "[encoded data removed]",
      "text/plain": [
       "<Figure size 1872x576 with 2 Axes>"
      ]
     },
     "metadata": {
      "needs_background": "light"
     },
     "output_type": "display_data"
    }
   ],
   "source": [
    "# Babysit your model\n",
    "import matplotlib.pyplot as plt\n",
    "fig, (ax1, ax2) = plt.subplots(1, 2, figsize=(26,8))\n",
    "\n",
    "ax1.plot(history.history['loss'], label=\"loss\")\n",
    "ax1.plot(history.history['val_loss'], label=\"val_loss\")\n",
    "ax1.legend()\n",
    "ax2.plot(history.history['accuracy'], label=\"accuracy\")\n",
    "ax2.plot(history.history['val_accuracy'], label=\"val_accuracy\")\n",
    "ax2.legend()\n",
    "plt.show()"
   ]
  },
  {
   "cell_type": "markdown",
   "metadata": {
    "id": "Uvu-O2JJHNrA"
   },
   "source": [
    "$$[TODO - Students]$$ \n",
    "\n",
    "> * How do you interpret those learning curves ?\n",
    "\n",
    "The model appears to overfit the training data. Various strategies could reduce the overfitting but for this lab we will just change the number and size of layers. We will do that a little later.\n",
    "\n",
    "> * Evaluate the model (on test part) and plot confusion matrix.\n",
    "> * Are you doing better or worse than with our first attempt with Logistic regression."
   ]
  },
  {
   "cell_type": "code",
   "execution_count": 19,
   "metadata": {
    "ExecuteTime": {
     "end_time": "2022-01-19T13:18:02.536063Z",
     "start_time": "2022-01-19T13:18:02.536032Z"
    },
    "colab": {
     "base_uri": "https://localhost:8080/"
    },
    "executionInfo": {
     "elapsed": 255,
     "status": "ok",
     "timestamp": 1634741041810,
     "user": {
      "displayName": "Antoine Collin",
      "photoUrl": "https://lh3.googleusercontent.com/a/default-user=s64",
      "userId": "01107865217976062482"
     },
     "user_tz": -120
    },
    "id": "zS8fi1z3vq_8",
    "outputId": "fd7a327b-b3fb-4e59-c44b-f081a25499da"
   },
   "outputs": [
    {
     "name": "stdout",
     "output_type": "stream",
     "text": [
      "32/32 [==============================] - 0s 2ms/step - loss: 2.0365 - accuracy: 0.6490\n",
      "Test loss: 2.0365493297576904\n",
      "Test accuracy 0.6489999890327454\n"
     ]
    }
   ],
   "source": [
    "# Evaluate the model\n",
    "score = model.evaluate(X_test_vect, y_test_hencoded)\n",
    "print('Test loss:', score[0])\n",
    "print('Test accuracy', score[1])"
   ]
  },
  {
   "cell_type": "code",
   "execution_count": 26,
   "metadata": {
    "ExecuteTime": {
     "end_time": "2022-01-19T13:18:02.541220Z",
     "start_time": "2022-01-19T13:18:02.541076Z"
    },
    "colab": {
     "base_uri": "https://localhost:8080/",
     "height": 282
    },
    "executionInfo": {
     "elapsed": 752,
     "status": "ok",
     "timestamp": 1634741048104,
     "user": {
      "displayName": "Antoine Collin",
      "photoUrl": "https://lh3.googleusercontent.com/a/default-user=s64",
      "userId": "01107865217976062482"
     },
     "user_tz": -120
    },
    "id": "_gSjyTEMH2nQ",
    "outputId": "1c052541-d573-48ad-b4e8-95061f705763"
   },
   "outputs": [],
   "source": [
    "# # Print/plot the confusion matrix\n",
    "# from sklearn.metrics import confusion_matrix\n",
    "# y_pred = model.predict(X_test_vect)\n",
    "# confusion_matrix(np.argmax(y_test_hencoded, axis=1), y_pred)"
   ]
  },
  {
   "cell_type": "code",
   "execution_count": 29,
   "metadata": {},
   "outputs": [
    {
     "data": {
      "text/plain": [
       "((1000, 5), (1000, 5))"
      ]
     },
     "execution_count": 29,
     "metadata": {},
     "output_type": "execute_result"
    }
   ],
   "source": [
    "y_pred.shape, y_test_hencoded.shape"
   ]
  },
  {
   "cell_type": "markdown",
   "metadata": {
    "id": "DCfHu2EtKWtC"
   },
   "source": [
    "## Hyper-parameters search\n",
    "\n",
    "Using [KerasTuner] (https://www.tensorflow.org/tutorials/keras/keras_tuner) and modifying various hyper-parameters, improve your model. Change in particular the number of layers, the number of neurons per layer, the dropout, the regularization."
   ]
  },
  {
   "cell_type": "code",
   "execution_count": null,
   "metadata": {
    "id": "jtJUkEx6xGL2"
   },
   "outputs": [],
   "source": [
    "# !pip install keras-tuner"
   ]
  },
  {
   "cell_type": "code",
   "execution_count": null,
   "metadata": {},
   "outputs": [],
   "source": [
    "from tensorflow import keras # importing keras\n",
    "import tensorflow as tf\n",
    "import kerastuner as kt"
   ]
  },
  {
   "cell_type": "code",
   "execution_count": null,
   "metadata": {},
   "outputs": [],
   "source": [
    "model1 = build_MLP(input_shape = 8991 , activation= 'relu' ,layers = [256] , nb_class=5)"
   ]
  },
  {
   "cell_type": "code",
   "execution_count": null,
   "metadata": {},
   "outputs": [],
   "source": [
    "# Compile the model and start training\n",
    "# Stop training with early stopping with patience of 20\n",
    "\n",
    "# Patience is the number to identify the early stopping.\n",
    "callbacks_list = [EarlyStopping(monitor='val_accuracy', min_delta=0.005, patience=20,\n",
    "                                verbose=2, mode='min', restore_best_weights=True)\n",
    "                 ]\n",
    "\n",
    "model1.compile(loss='categorical_crossentropy', metrics=[\"accuracy\"], optimizer='adam')\n",
    "history = model1.fit(X_train_vect, y_train_hencoded, validation_data= (X_test_vect, y_test_hencoded), callbacks=callbacks_list,\n",
    "                    batch_size=32, epochs=20)\n"
   ]
  },
  {
   "cell_type": "code",
   "execution_count": null,
   "metadata": {},
   "outputs": [],
   "source": [
    "def model_builder(hp):\n",
    "  '''\n",
    "  Args:\n",
    "    hp - Keras tuner object\n",
    "  '''\n",
    "  # Initialize the Sequential API and start stacking the layers\n",
    "  model = keras.Sequential()\n",
    "\n",
    "  model.add(keras.layers.Flatten(input_shape= [8991]))\n",
    "  # Tune the number of units in the first Dense layer\n",
    "  # Choose an optimal value between 32-256\n",
    "  hp_units = hp.Int('units', min_value=32, max_value=8991, step=32)\n",
    "  model.add(keras.layers.Dense(units=hp_units, activation='relu', name='dense_1'))\n",
    "  # Add next layers\n",
    "  model.add(keras.layers.Dropout(0.2))\n",
    "\n",
    "# output\n",
    "  model.add(keras.layers.Dense(5, activation='softmax'))\n",
    "  # Tune the learning rate for the optimizer\n",
    "  # Choose an optimal value from 0.01, 0.001, or 0.0001\n",
    "  hp_learning_rate = hp.Choice('learning_rate', values=[1e-2, 1e-3, 1e-4])\n",
    "  model.compile(optimizer=keras.optimizers.Adam(learning_rate=hp_learning_rate),\n",
    "                loss=keras.losses.SparseCategoricalCrossentropy(),\n",
    "                metrics=['accuracy'])\n",
    "  return model"
   ]
  },
  {
   "cell_type": "code",
   "execution_count": null,
   "metadata": {},
   "outputs": [],
   "source": [
    "# Instantiate the tuner\n",
    "tuner = kt.Hyperband(model_builder, # the hypermodel\n",
    "                     objective='val_accuracy', # objective to optimize\n",
    "max_epochs=10,\n",
    "factor=3, # factor which you have seen above \n",
    "directory='dir', # directory to save logs \n",
    "project_name='khyperband')"
   ]
  },
  {
   "cell_type": "code",
   "execution_count": null,
   "metadata": {},
   "outputs": [],
   "source": [
    "# hypertuning settings\n",
    "tuner.search_space_summary() \n"
   ]
  },
  {
   "cell_type": "code",
   "execution_count": null,
   "metadata": {},
   "outputs": [],
   "source": [
    "# stop_early = tf.keras.callbacks.EarlyStopping(monitor='val_loss', patience=5)\n",
    "\n",
    "# callbacks_list = [EarlyStopping(monitor='val_accuracy', min_delta=0.005, patience=20,\n",
    "#                                 verbose=2, mode='min', restore_best_weights=True)\n",
    "#                  ]\n",
    "\n",
    "# # Perform hypertuning\n",
    "# tuner.search(X_train_vect, y_train_hencoded, epochs=10,validation_data= (X_test_vect, y_test_hencoded), callbacks = callbacks_list)"
   ]
  },
  {
   "cell_type": "code",
   "execution_count": null,
   "metadata": {},
   "outputs": [],
   "source": []
  }
 ],
 "metadata": {
  "colab": {
   "collapsed_sections": [],
   "name": "Copie de 02-notebook-NLP-sentiment-analysis-with-MLP-AC-Students.ipynb",
   "provenance": [],
   "toc_visible": true
  },
  "kernelspec": {
   "display_name": "Python 3 (ipykernel)",
   "language": "python",
   "name": "python3"
  },
  "language_info": {
   "codemirror_mode": {
    "name": "ipython",
    "version": 3
   },
   "file_extension": ".py",
   "mimetype": "text/x-python",
   "name": "python",
   "nbconvert_exporter": "python",
   "pygments_lexer": "ipython3",
   "version": "3.9.7"
  },
  "latex_envs": {
   "LaTeX_envs_menu_present": true,
   "autoclose": true,
   "autocomplete": true,
   "bibliofile": "biblio.bib",
   "cite_by": "apalike",
   "current_citInitial": 1,
   "eqLabelWithNumbers": true,
   "eqNumInitial": 1,
   "hotkeys": {
    "equation": "Ctrl-E",
    "itemize": "Ctrl-I"
   },
   "labels_anchors": false,
   "latex_user_defs": false,
   "report_style_numbering": false,
   "user_envs_cfg": false
  },
  "nbTranslate": {
   "displayLangs": [
    "*"
   ],
   "hotkey": "alt-t",
   "langInMainMenu": true,
   "sourceLang": "en",
   "targetLang": "fr",
   "useGoogleTranslate": true
  },
  "toc": {
   "base_numbering": 1,
   "nav_menu": {},
   "number_sections": true,
   "sideBar": true,
   "skip_h1_title": true,
   "title_cell": "Table of Contents",
   "title_sidebar": "Contents",
   "toc_cell": true,
   "toc_position": {},
   "toc_section_display": true,
   "toc_window_display": false
  }
 },
 "nbformat": 4,
 "nbformat_minor": 1
}
