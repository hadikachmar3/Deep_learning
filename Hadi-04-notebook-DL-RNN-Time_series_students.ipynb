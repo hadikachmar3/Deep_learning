{
 "cells": [
  {
   "cell_type": "markdown",
   "metadata": {},
   "source": [
    "# Time series prediction with LSTM (student notebook)\n",
    "\n",
    "Neural networks like Long Short-Term Memory (LSTM) recurrent neural networks are able to almost seamlessly model problems with multiple input variables.\n",
    "\n",
    "This is a great benefit in time series forecasting, where classical linear methods can be difficult to adapt to multivariate or multiple input forecasting problems.\n",
    "\n",
    "In this lab, you will discover how you can develop an LSTM model for multivariate time series forecasting with the Keras deep learning library."
   ]
  },
  {
   "cell_type": "code",
   "execution_count": 1,
   "metadata": {
    "ExecuteTime": {
     "end_time": "2022-01-29T14:25:22.175838Z",
     "start_time": "2022-01-29T14:25:22.074091Z"
    }
   },
   "outputs": [
    {
     "data": {
      "text/html": [
       "<div id=\"my_id_menu_nb\">run previous cell, wait for 2 seconds</div>\n",
       "<script>\n",
       "function repeat_indent_string(n){\n",
       "    var a = \"\" ;\n",
       "    for ( ; n > 0 ; --n)\n",
       "        a += \"    \";\n",
       "    return a;\n",
       "}\n",
       "// look up into all sections and builds an automated menu //\n",
       "var update_menu_string = function(begin, lfirst, llast, sformat, send, keep_item, begin_format, end_format) {\n",
       "    var anchors = document.getElementsByClassName(\"section\");\n",
       "    if (anchors.length == 0) {\n",
       "        anchors = document.getElementsByClassName(\"text_cell_render rendered_html\");\n",
       "    }\n",
       "    var i,t;\n",
       "    var text_menu = begin;\n",
       "    var text_memo = \"<pre>\\nlength:\" + anchors.length + \"\\n\";\n",
       "    var ind = \"\";\n",
       "    var memo_level = 1;\n",
       "    var href;\n",
       "    var tags = [];\n",
       "    var main_item = 0;\n",
       "    var format_open = 0;\n",
       "    for (i = 0; i <= llast; i++)\n",
       "        tags.push(\"h\" + i);\n",
       "\n",
       "    for (i = 0; i < anchors.length; i++) {\n",
       "        text_memo += \"**\" + anchors[i].id + \"--\\n\";\n",
       "\n",
       "        var child = null;\n",
       "        for(t = 0; t < tags.length; t++) {\n",
       "            var r = anchors[i].getElementsByTagName(tags[t]);\n",
       "            if (r.length > 0) {\n",
       "child = r[0];\n",
       "break;\n",
       "            }\n",
       "        }\n",
       "        if (child == null) {\n",
       "            text_memo += \"null\\n\";\n",
       "            continue;\n",
       "        }\n",
       "        if (anchors[i].hasAttribute(\"id\")) {\n",
       "            // when converted in RST\n",
       "            href = anchors[i].id;\n",
       "            text_memo += \"#1-\" + href;\n",
       "            // passer à child suivant (le chercher)\n",
       "        }\n",
       "        else if (child.hasAttribute(\"id\")) {\n",
       "            // in a notebook\n",
       "            href = child.id;\n",
       "            text_memo += \"#2-\" + href;\n",
       "        }\n",
       "        else {\n",
       "            text_memo += \"#3-\" + \"*\" + \"\\n\";\n",
       "            continue;\n",
       "        }\n",
       "        var title = child.textContent;\n",
       "        var level = parseInt(child.tagName.substring(1,2));\n",
       "\n",
       "        text_memo += \"--\" + level + \"?\" + lfirst + \"--\" + title + \"\\n\";\n",
       "\n",
       "        if ((level < lfirst) || (level > llast)) {\n",
       "            continue ;\n",
       "        }\n",
       "        if (title.endsWith('¶')) {\n",
       "            title = title.substring(0,title.length-1).replace(\"<\", \"&lt;\")\n",
       "         .replace(\">\", \"&gt;\").replace(\"&\", \"&amp;\");\n",
       "        }\n",
       "        if (title.length == 0) {\n",
       "            continue;\n",
       "        }\n",
       "\n",
       "        while (level < memo_level) {\n",
       "            text_menu += end_format + \"</ul>\\n\";\n",
       "            format_open -= 1;\n",
       "            memo_level -= 1;\n",
       "        }\n",
       "        if (level == lfirst) {\n",
       "            main_item += 1;\n",
       "        }\n",
       "        if (keep_item != -1 && main_item != keep_item + 1) {\n",
       "            // alert(main_item + \" - \" + level + \" - \" + keep_item);\n",
       "            continue;\n",
       "        }\n",
       "        while (level > memo_level) {\n",
       "            text_menu += \"<ul>\\n\";\n",
       "            memo_level += 1;\n",
       "        }\n",
       "        text_menu += repeat_indent_string(level-2);\n",
       "        text_menu += begin_format + sformat.replace(\"__HREF__\", href).replace(\"__TITLE__\", title);\n",
       "        format_open += 1;\n",
       "    }\n",
       "    while (1 < memo_level) {\n",
       "        text_menu += end_format + \"</ul>\\n\";\n",
       "        memo_level -= 1;\n",
       "        format_open -= 1;\n",
       "    }\n",
       "    text_menu += send;\n",
       "    //text_menu += \"\\n\" + text_memo;\n",
       "\n",
       "    while (format_open > 0) {\n",
       "        text_menu += end_format;\n",
       "        format_open -= 1;\n",
       "    }\n",
       "    return text_menu;\n",
       "};\n",
       "var update_menu = function() {\n",
       "    var sbegin = \"\";\n",
       "    var sformat = '<a href=\"#__HREF__\">__TITLE__</a>';\n",
       "    var send = \"\";\n",
       "    var begin_format = '<li>';\n",
       "    var end_format = '</li>';\n",
       "    var keep_item = -1;\n",
       "    var text_menu = update_menu_string(sbegin, 2, 4, sformat, send, keep_item,\n",
       "       begin_format, end_format);\n",
       "    var menu = document.getElementById(\"my_id_menu_nb\");\n",
       "    menu.innerHTML=text_menu;\n",
       "};\n",
       "window.setTimeout(update_menu,2000);\n",
       "            </script>"
      ],
      "text/plain": [
       "<IPython.core.display.HTML object>"
      ]
     },
     "execution_count": 1,
     "metadata": {},
     "output_type": "execute_result"
    }
   ],
   "source": [
    "\"\"\"\n",
    "(Practical tip) Table of contents can be compiled directly in jupyter notebooks using the following code:\n",
    "I set an exception: if the package is in your installation you can import it otherwise you download it \n",
    "then import it.\n",
    "\"\"\"\n",
    "try:\n",
    "    from jyquickhelper import add_notebook_menu \n",
    "except:\n",
    "    !pip install jyquickhelper\n",
    "    from jyquickhelper import add_notebook_menu\n",
    "    \n",
    "\"\"\"\n",
    "Output Table of contents to navigate easily in the notebook. \n",
    "For interested readers, the package also includes Ipython magic commands to go back to this cell\n",
    "wherever you are in the notebook to look for cells faster\n",
    "\"\"\"\n",
    "add_notebook_menu()"
   ]
  },
  {
   "cell_type": "markdown",
   "metadata": {},
   "source": [
    "## Imports"
   ]
  },
  {
   "cell_type": "code",
   "execution_count": 2,
   "metadata": {},
   "outputs": [],
   "source": [
    "import ssl\n",
    "\n",
    "ssl._create_default_https_context = ssl._create_unverified_context"
   ]
  },
  {
   "cell_type": "code",
   "execution_count": 3,
   "metadata": {},
   "outputs": [],
   "source": [
    "import matplotlib.pyplot as plt\n",
    "\n",
    "import math\n",
    "import numpy as np \n",
    "import pandas as pd"
   ]
  },
  {
   "cell_type": "code",
   "execution_count": 4,
   "metadata": {},
   "outputs": [],
   "source": [
    "from sklearn.compose import ColumnTransformer\n",
    "from sklearn.pipeline import Pipeline, FeatureUnion\n",
    "from sklearn.impute import SimpleImputer\n",
    "from sklearn.preprocessing import StandardScaler, OneHotEncoder, MinMaxScaler\n",
    "from sklearn.metrics import mean_squared_error"
   ]
  },
  {
   "cell_type": "code",
   "execution_count": 5,
   "metadata": {
    "ExecuteTime": {
     "end_time": "2021-10-05T11:20:34.597080Z",
     "start_time": "2021-10-05T11:20:30.132002Z"
    }
   },
   "outputs": [],
   "source": [
    "import tensorflow as tf\n",
    "from tensorflow.keras.callbacks import EarlyStopping, ModelCheckpoint\n",
    "from tensorflow.keras.models import Model, load_model\n",
    "from tensorflow.keras.layers import Input, Dense, Embedding, Flatten, LSTM, Bidirectional, AveragePooling1D, RepeatVector\n",
    "from tensorflow.keras import utils"
   ]
  },
  {
   "cell_type": "markdown",
   "metadata": {},
   "source": [
    "## LSTM network for uni-variate time series\n",
    "\n",
    "LSTM can be used to model univariate time series forecasting problems.\n",
    "\n",
    "These problems consist of a single set of observations and a model is needed to learn from the past set of observations in order to forecast the next value in the sequence.\n",
    "\n",
    "We will demonstrate a number of variations of the LSTM model for univariate time series forecasting.\n",
    "\n",
    "Be careful not to draw hasty conclusions about the relative performance of the models. The number of layers or neurons are highly variable between models."
   ]
  },
  {
   "cell_type": "markdown",
   "metadata": {},
   "source": [
    "### Data preparation\n",
    "\n",
    "#### A first example\n",
    "\n",
    "Consider a given univariate sequence: `[10, 20, 30, 40, 50, 60, 70, 80, 90]`\n",
    "\n",
    "We can divide the sequence into multiple input/output patterns called samples, where three time steps are used as input and one time step is used as output for the one-step prediction that is being learned.\n",
    "\n",
    "`X,\t\t\t\ty\n",
    "10, 20, 30\t\t40\n",
    "20, 30, 40\t\t50\n",
    "30, 40, 50\t\t60\n",
    "...`\n",
    "\n",
    "The `series_to_supervised()` function below implements this behavior and will split a given univariate sequence into multiple samples where each sample has a specified number of time steps (`n_in, by default 3`) and the output has also a specified number of time steps (`n_out, by default 1`).\n",
    "\n",
    "By default, the data to predict is the last columns."
   ]
  },
  {
   "cell_type": "code",
   "execution_count": 6,
   "metadata": {
    "ExecuteTime": {
     "end_time": "2022-01-29T14:26:15.251343Z",
     "start_time": "2022-01-29T14:26:15.241331Z"
    }
   },
   "outputs": [],
   "source": [
    "def series_to_supervised(data, n_in=3, n_out=1, output=None, dropnan=True):\n",
    "    output =  [data.columns[-1]] if output is None else output\n",
    "    df = pd.DataFrame(data)\n",
    "    cols, names = list(), list()\n",
    "    \n",
    "    # input sequence (t-n, ... t-1)\n",
    "    for i in range(n_in, 0, -1):\n",
    "        cols += [df.shift(i)]\n",
    "        names += [('%s(t-%d)' % (j, i)) for j in data.columns]\n",
    "    \n",
    "    # forecast sequence (t, t+1, ... t+n)\n",
    "    for i in range(0, n_out):\n",
    "        cols += [df[output].shift(-i)]\n",
    "        if i == 0:\n",
    "            names += [('%s(t)' % (j)) for j in output]\n",
    "        else:\n",
    "            names += [('%s(t+%d)' % (j, i)) for j in output]\n",
    "    \n",
    "    # put it all together\n",
    "    agg = pd.concat(cols, axis=1)\n",
    "    agg.columns = names\n",
    "    \n",
    "    # drop rows with NaN values\n",
    "    if dropnan:\n",
    "        agg.dropna(inplace=True)\n",
    "    return agg"
   ]
  },
  {
   "cell_type": "markdown",
   "metadata": {
    "ExecuteTime": {
     "end_time": "2022-01-29T14:26:44.037802Z",
     "start_time": "2022-01-29T14:26:44.021395Z"
    }
   },
   "source": [
    "<font color='red'>\n",
    "$TO DO - Students$\n",
    "\n",
    "* create the time series mentioned in the first exemple.\n",
    "</font>"
   ]
  },
  {
   "cell_type": "code",
   "execution_count": 7,
   "metadata": {
    "ExecuteTime": {
     "end_time": "2022-02-02T08:05:05.695951Z",
     "start_time": "2022-02-02T08:05:05.687809Z"
    }
   },
   "outputs": [],
   "source": [
    "# my_time_series =  pd.DataFrame(data = [10, 20, 30, 40, 50, 60, 70, 80, 90])\n",
    "# first convert the list to a dataframe..\n",
    "my_time_series = pd.DataFrame(data=[int(10*i) for i in range(10)])"
   ]
  },
  {
   "cell_type": "code",
   "execution_count": 8,
   "metadata": {
    "ExecuteTime": {
     "end_time": "2022-02-02T08:05:06.447611Z",
     "start_time": "2022-02-02T08:05:06.306492Z"
    }
   },
   "outputs": [
    {
     "data": {
      "text/html": [
       "<div>\n",
       "<style scoped>\n",
       "    .dataframe tbody tr th:only-of-type {\n",
       "        vertical-align: middle;\n",
       "    }\n",
       "\n",
       "    .dataframe tbody tr th {\n",
       "        vertical-align: top;\n",
       "    }\n",
       "\n",
       "    .dataframe thead th {\n",
       "        text-align: right;\n",
       "    }\n",
       "</style>\n",
       "<table border=\"1\" class=\"dataframe\">\n",
       "  <thead>\n",
       "    <tr style=\"text-align: right;\">\n",
       "      <th></th>\n",
       "      <th>0(t-3)</th>\n",
       "      <th>0(t-2)</th>\n",
       "      <th>0(t-1)</th>\n",
       "      <th>0(t)</th>\n",
       "    </tr>\n",
       "  </thead>\n",
       "  <tbody>\n",
       "    <tr>\n",
       "      <th>3</th>\n",
       "      <td>0.0</td>\n",
       "      <td>10.0</td>\n",
       "      <td>20.0</td>\n",
       "      <td>30</td>\n",
       "    </tr>\n",
       "    <tr>\n",
       "      <th>4</th>\n",
       "      <td>10.0</td>\n",
       "      <td>20.0</td>\n",
       "      <td>30.0</td>\n",
       "      <td>40</td>\n",
       "    </tr>\n",
       "    <tr>\n",
       "      <th>5</th>\n",
       "      <td>20.0</td>\n",
       "      <td>30.0</td>\n",
       "      <td>40.0</td>\n",
       "      <td>50</td>\n",
       "    </tr>\n",
       "    <tr>\n",
       "      <th>6</th>\n",
       "      <td>30.0</td>\n",
       "      <td>40.0</td>\n",
       "      <td>50.0</td>\n",
       "      <td>60</td>\n",
       "    </tr>\n",
       "    <tr>\n",
       "      <th>7</th>\n",
       "      <td>40.0</td>\n",
       "      <td>50.0</td>\n",
       "      <td>60.0</td>\n",
       "      <td>70</td>\n",
       "    </tr>\n",
       "  </tbody>\n",
       "</table>\n",
       "</div>"
      ],
      "text/plain": [
       "   0(t-3)  0(t-2)  0(t-1)  0(t)\n",
       "3     0.0    10.0    20.0    30\n",
       "4    10.0    20.0    30.0    40\n",
       "5    20.0    30.0    40.0    50\n",
       "6    30.0    40.0    50.0    60\n",
       "7    40.0    50.0    60.0    70"
      ]
     },
     "execution_count": 8,
     "metadata": {},
     "output_type": "execute_result"
    }
   ],
   "source": [
    "data = series_to_supervised(my_time_series, n_in = 3, n_out= 1) # create the dataframe \n",
    "data.head() # show the first 5 rows of the dataframe"
   ]
  },
  {
   "cell_type": "markdown",
   "metadata": {
    "ExecuteTime": {
     "end_time": "2022-02-02T08:04:26.423558Z",
     "start_time": "2022-02-02T08:04:26.413885Z"
    }
   },
   "source": [
    "<font color='blue'>\n",
    "    <bold>Head of the previous dataset</bold>\n",
    "\n",
    "`\t0(t-3)\t0(t-2)\t0(t-1)\t0(t)\n",
    "3\t0.0\t10.0\t20.0\t30\n",
    "4\t10.0\t20.0\t30.0\t40\n",
    "5\t20.0\t30.0\t40.0\t50\n",
    "6\t30.0\t40.0\t50.0\t60\n",
    "7\t40.0\t50.0\t60.0\t70\n",
    "`\n",
    "</font>"
   ]
  },
  {
   "cell_type": "markdown",
   "metadata": {},
   "source": [
    "#### Do the same for a more sophisticated series"
   ]
  },
  {
   "cell_type": "code",
   "execution_count": 9,
   "metadata": {
    "ExecuteTime": {
     "end_time": "2022-01-29T14:29:34.174411Z",
     "start_time": "2022-01-29T14:29:33.942263Z"
    }
   },
   "outputs": [],
   "source": [
    "SIZE = 250\n",
    "time_stamps = range(SIZE)\n",
    "\n",
    "fct = lambda x: x*math.sin(x)\n",
    "time_series = pd.DataFrame(data={\"data\":[fct(x) for x in range(SIZE)]})\n",
    "n_features = my_time_series.shape[1] # for univariate time series"
   ]
  },
  {
   "cell_type": "markdown",
   "metadata": {},
   "source": [
    "<font color='red'>\n",
    "$TO DO - Students$\n",
    "\n",
    "* Plot the time series generated thanks to x --> x*sin(x) with 250 timestamps\n",
    "* label x and y axis\n",
    "</font>"
   ]
  },
  {
   "cell_type": "code",
   "execution_count": 10,
   "metadata": {},
   "outputs": [
    {
     "data": {
      "image/png": "[encoded data removed]",
      "text/plain": [
       "<Figure size 576x360 with 1 Axes>"
      ]
     },
     "metadata": {
      "needs_background": "light"
     },
     "output_type": "display_data"
    }
   ],
   "source": [
    "\"\"\" FILL \"\"\"\n",
    "# plot the timeStamp according to the time series\n",
    "import matplotlib.pyplot as plt\n",
    "fig, (ax1) = plt.subplots(1, 1, figsize=(8,5))\n",
    "\n",
    "ax1.plot(time_series, label=\"Time series\")\n",
    "plt.xlabel('Time stamp') # x label\n",
    "plt.ylabel('Time series') # Y label\n",
    "plt.show()"
   ]
  },
  {
   "cell_type": "markdown",
   "metadata": {},
   "source": [
    "<font color='red'>\n",
    "$TO DO - Students$\n",
    "\n",
    "* Using `series_to_supervise` split data into samples with n_in = 6 and n_out = 1\n",
    "* Put the result in variable data\n",
    "</font>"
   ]
  },
  {
   "cell_type": "code",
   "execution_count": 11,
   "metadata": {
    "ExecuteTime": {
     "end_time": "2021-10-05T11:20:40.151621Z",
     "start_time": "2021-10-05T11:20:40.129102Z"
    }
   },
   "outputs": [
    {
     "data": {
      "text/html": [
       "<div>\n",
       "<style scoped>\n",
       "    .dataframe tbody tr th:only-of-type {\n",
       "        vertical-align: middle;\n",
       "    }\n",
       "\n",
       "    .dataframe tbody tr th {\n",
       "        vertical-align: top;\n",
       "    }\n",
       "\n",
       "    .dataframe thead th {\n",
       "        text-align: right;\n",
       "    }\n",
       "</style>\n",
       "<table border=\"1\" class=\"dataframe\">\n",
       "  <thead>\n",
       "    <tr style=\"text-align: right;\">\n",
       "      <th></th>\n",
       "      <th>data(t-6)</th>\n",
       "      <th>data(t-5)</th>\n",
       "      <th>data(t-4)</th>\n",
       "      <th>data(t-3)</th>\n",
       "      <th>data(t-2)</th>\n",
       "      <th>data(t-1)</th>\n",
       "      <th>data(t)</th>\n",
       "    </tr>\n",
       "  </thead>\n",
       "  <tbody>\n",
       "    <tr>\n",
       "      <th>6</th>\n",
       "      <td>0.000000</td>\n",
       "      <td>0.841471</td>\n",
       "      <td>1.818595</td>\n",
       "      <td>0.423360</td>\n",
       "      <td>-3.027210</td>\n",
       "      <td>-4.794621</td>\n",
       "      <td>-1.676493</td>\n",
       "    </tr>\n",
       "    <tr>\n",
       "      <th>7</th>\n",
       "      <td>0.841471</td>\n",
       "      <td>1.818595</td>\n",
       "      <td>0.423360</td>\n",
       "      <td>-3.027210</td>\n",
       "      <td>-4.794621</td>\n",
       "      <td>-1.676493</td>\n",
       "      <td>4.598906</td>\n",
       "    </tr>\n",
       "    <tr>\n",
       "      <th>8</th>\n",
       "      <td>1.818595</td>\n",
       "      <td>0.423360</td>\n",
       "      <td>-3.027210</td>\n",
       "      <td>-4.794621</td>\n",
       "      <td>-1.676493</td>\n",
       "      <td>4.598906</td>\n",
       "      <td>7.914866</td>\n",
       "    </tr>\n",
       "    <tr>\n",
       "      <th>9</th>\n",
       "      <td>0.423360</td>\n",
       "      <td>-3.027210</td>\n",
       "      <td>-4.794621</td>\n",
       "      <td>-1.676493</td>\n",
       "      <td>4.598906</td>\n",
       "      <td>7.914866</td>\n",
       "      <td>3.709066</td>\n",
       "    </tr>\n",
       "    <tr>\n",
       "      <th>10</th>\n",
       "      <td>-3.027210</td>\n",
       "      <td>-4.794621</td>\n",
       "      <td>-1.676493</td>\n",
       "      <td>4.598906</td>\n",
       "      <td>7.914866</td>\n",
       "      <td>3.709066</td>\n",
       "      <td>-5.440211</td>\n",
       "    </tr>\n",
       "  </tbody>\n",
       "</table>\n",
       "</div>"
      ],
      "text/plain": [
       "    data(t-6)  data(t-5)  data(t-4)  data(t-3)  data(t-2)  data(t-1)   data(t)\n",
       "6    0.000000   0.841471   1.818595   0.423360  -3.027210  -4.794621 -1.676493\n",
       "7    0.841471   1.818595   0.423360  -3.027210  -4.794621  -1.676493  4.598906\n",
       "8    1.818595   0.423360  -3.027210  -4.794621  -1.676493   4.598906  7.914866\n",
       "9    0.423360  -3.027210  -4.794621  -1.676493   4.598906   7.914866  3.709066\n",
       "10  -3.027210  -4.794621  -1.676493   4.598906   7.914866   3.709066 -5.440211"
      ]
     },
     "execution_count": 11,
     "metadata": {},
     "output_type": "execute_result"
    }
   ],
   "source": [
    "\"\"\" FILL \"\"\"\n",
    "n_in = 6 \n",
    "n_out = 1\n",
    "data = series_to_supervised(time_series, n_in, n_out) # build the dataframe using another in and out \n",
    "data.head()"
   ]
  },
  {
   "cell_type": "markdown",
   "metadata": {
    "ExecuteTime": {
     "end_time": "2022-02-02T08:08:28.888096Z",
     "start_time": "2022-02-02T08:08:28.865976Z"
    }
   },
   "source": [
    "<font color='blue'>\n",
    "    <bold>Head of the previous dataset</bold>\n",
    "\n",
    "`data(t-6)\tdata(t-5)\tdata(t-4)\tdata(t-3)\tdata(t-2)\tdata(t-1)\tdata(t)\n",
    "6\t0.000000\t0.841471\t1.818595\t0.423360\t-3.027210\t-4.794621\t-1.676493\n",
    "7\t0.841471\t1.818595\t0.423360\t-3.027210\t-4.794621\t-1.676493\t4.598906\n",
    "8\t1.818595\t0.423360\t-3.027210\t-4.794621\t-1.676493\t4.598906\t7.914866\n",
    "9\t0.423360\t-3.027210\t-4.794621\t-1.676493\t4.598906\t7.914866\t3.709066\n",
    "10\t-3.027210\t-4.794621\t-1.676493\t4.598906\t7.914866\t3.709066\t-5.440211\n",
    "`\n",
    "</font>"
   ]
  },
  {
   "cell_type": "markdown",
   "metadata": {},
   "source": [
    "Contrary to the approaches used so far, we cannot separate the data into TRAIN, VALID and TEST in a random way, since we are dealing with time series where the order is important.\n",
    "\n",
    "The TRAIN data will therefore necessarily be at the beginning, then we will find the VALIDATION data and finally the TEST data.\n",
    "\n",
    "Here are the chosen indices."
   ]
  },
  {
   "cell_type": "code",
   "execution_count": 12,
   "metadata": {
    "ExecuteTime": {
     "end_time": "2021-10-05T11:20:41.520790Z",
     "start_time": "2021-10-05T11:20:41.514078Z"
    }
   },
   "outputs": [
    {
     "name": "stdout",
     "output_type": "stream",
     "text": [
      "TRAIN=time_series[:196]\n",
      "VALID=time_series[196:220]\n",
      "TEST=time_series[220:]\n"
     ]
    }
   ],
   "source": [
    "testAndValid = 0.1\n",
    "\n",
    "SPLIT = int(testAndValid*len(data))\n",
    "idx_train = len(data)-2*SPLIT\n",
    "idx_test = len(data)-SPLIT\n",
    "\n",
    "print(\"TRAIN=time_series[:\"+str(idx_train)+\"]\")\n",
    "print(\"VALID=time_series[\"+str(idx_train)+\":\"+str(idx_test)+\"]\")\n",
    "print(\"TEST=time_series[\"+str(idx_test)+\":]\")\n",
    "\n",
    "TRAIN=data[:idx_train]\n",
    "VAL=data[idx_train:idx_test]\n",
    "TEST=data[idx_test:]"
   ]
  },
  {
   "cell_type": "code",
   "execution_count": 13,
   "metadata": {
    "ExecuteTime": {
     "end_time": "2021-10-05T11:20:42.334185Z",
     "start_time": "2021-10-05T11:20:42.030549Z"
    }
   },
   "outputs": [
    {
     "data": {
      "image/png": "[encoded data removed]",
      "text/plain": [
       "<Figure size 720x288 with 1 Axes>"
      ]
     },
     "metadata": {
      "needs_background": "light"
     },
     "output_type": "display_data"
    }
   ],
   "source": [
    "# access the data data(t) column\n",
    "plt.figure(figsize=(10, 4))\n",
    "plt.plot(TRAIN['data(t)'], label=\"train\") # add the training data to the plot with train label \n",
    "plt.plot(VAL['data(t)'], label=\"val\") # add the validation data to the plot with val label\n",
    "plt.plot(TEST['data(t)'], label=\"test\") # add the test data to the plot with test label\n",
    "plt.legend() # Add the legend to the plot\n",
    "plt.xlabel(\"time stamps\");\n",
    "plt.ylabel(\"time series\");"
   ]
  },
  {
   "cell_type": "markdown",
   "metadata": {},
   "source": [
    "<font color='red'>\n",
    "$TO DO - Students$\n",
    "\n",
    "* complete the code for preprocessing your train/validation/test datasets.\n",
    "</font>"
   ]
  },
  {
   "cell_type": "code",
   "execution_count": 14,
   "metadata": {
    "ExecuteTime": {
     "end_time": "2021-10-05T11:20:42.720955Z",
     "start_time": "2021-10-05T11:20:42.693316Z"
    }
   },
   "outputs": [
    {
     "data": {
      "text/plain": [
       "((196, 6, 1), (196,))"
      ]
     },
     "execution_count": 14,
     "metadata": {},
     "output_type": "execute_result"
    }
   ],
   "source": [
    "# split into input and outputs\n",
    "train_X, train_y = TRAIN.values[:, :-n_out], TRAIN.values[:, -n_out] # get x and y train\n",
    "val_X, val_y = VAL.values[:, :-n_out], VAL.values[:, -n_out] # get x and y val\n",
    "test_X, test_y = TEST.values[:, :-n_out], TEST.values[:, -n_out] # get x and y test\n",
    "\n",
    "# reshape input to be 3D [samples, timesteps, features]\n",
    "train_X = train_X.reshape((-1, n_in, n_features)) # reshape the x train\n",
    "val_X = val_X.reshape((-1, n_in, n_features)) # reshape the x val\n",
    "test_X = test_X.reshape((-1, n_in, n_features)) # reshape the x test\n",
    "\n",
    "train_X.shape, train_y.shape"
   ]
  },
  {
   "cell_type": "markdown",
   "metadata": {
    "ExecuteTime": {
     "end_time": "2022-02-02T08:10:29.453097Z",
     "start_time": "2022-02-02T08:10:29.443677Z"
    }
   },
   "source": [
    "<font color='blue'>\n",
    "<bold>\n",
    "train_X.shape = (196, 6, 1)\n",
    "\n",
    "train_y.shape = (196,)\n",
    "</font>"
   ]
  },
  {
   "cell_type": "markdown",
   "metadata": {},
   "source": [
    "### Build a first network using LSTM cells\n",
    "<br>\n",
    "<font color='red'>\n",
    "$TO DO - Students$\n",
    "\n",
    "* Look carefully at the following cell\n",
    "* What is the impact of the `return_sequences` parameter of the LSTM cell? (change the value: False or True and observe the shape of the output).\n",
    "</font>"
   ]
  },
  {
   "cell_type": "code",
   "execution_count": 15,
   "metadata": {
    "ExecuteTime": {
     "end_time": "2021-10-05T11:20:43.941277Z",
     "start_time": "2021-10-05T11:20:43.705510Z"
    }
   },
   "outputs": [
    {
     "name": "stdout",
     "output_type": "stream",
     "text": [
      "Model: \"model\"\n",
      "_________________________________________________________________\n",
      " Layer (type)                Output Shape              Param #   \n",
      "=================================================================\n",
      " input_1 (InputLayer)        [(None, 6, 1)]            0         \n",
      "                                                                 \n",
      " lstm (LSTM)                 (None, 16)                1152      \n",
      "                                                                 \n",
      " dense (Dense)               (None, 1)                 17        \n",
      "                                                                 \n",
      "=================================================================\n",
      "Total params: 1,169\n",
      "Trainable params: 1,169\n",
      "Non-trainable params: 0\n",
      "_________________________________________________________________\n"
     ]
    }
   ],
   "source": [
    "LSTM_SIZE = 16\n",
    "\n",
    "inputs = Input(shape=(n_in, n_features)) # define the input\n",
    "hidden = LSTM(LSTM_SIZE, return_sequences=False, activation='relu')(inputs) # last hidden layer the return sequence ,must be false\n",
    "outputs = Dense(n_out, activation='linear')(hidden) # define the output\n",
    "model = Model(inputs=inputs, outputs=outputs) # define the model\n",
    "model.summary() # model summary"
   ]
  },
  {
   "cell_type": "markdown",
   "metadata": {},
   "source": [
    "<font color='red'>\n",
    "$TO DO - Students$\n",
    "\n",
    "* Complete the function build_and_fit used to train your RNN model.\n",
    "* compile : as usual\n",
    "* fit : as usual but...\n",
    "    * Be careful, you have to set the shuffle parameter to false in order to take the data in order.\n",
    "    * Use the validation set to control the overfitting in the earlystopping callback\n",
    "</font>"
   ]
  },
  {
   "cell_type": "code",
   "execution_count": 16,
   "metadata": {
    "ExecuteTime": {
     "end_time": "2021-10-05T11:20:44.132605Z",
     "start_time": "2021-10-05T11:20:44.121509Z"
    }
   },
   "outputs": [],
   "source": [
    "def build_and_fit(model, X_train, y_train, X_val, y_val, X_test, y_test):\n",
    "    # compile the model with mae loss and adam optimizer \n",
    "    model.compile(loss='mae', metrics=[\"mae\"], optimizer='adam')\n",
    "    # define early stopping with patience of 20, code taken from previous lab\n",
    "    es = EarlyStopping(monitor='val_mae', min_delta=0.005, patience=20,\n",
    "                                verbose=2, mode='min', restore_best_weights=True) \n",
    "    # fit the model and save it to an history \n",
    "    history = model.fit(X_train, y_train, validation_data = (X_val,y_val), callbacks=[es],\n",
    "                    batch_size=32, epochs=20) \n",
    "    y_pred = model.predict(X_test) # ypred by predicting x_test \n",
    "    # plot history\n",
    "    plt.figure(figsize=(20,8))\n",
    "    plt.subplot(331)\n",
    "    plt.plot(history.history['loss'][3:], label='loss')\n",
    "    plt.plot(history.history['val_loss'][3:], label='val_loss')\n",
    "    plt.legend()\n",
    "    plt.subplot(332)\n",
    "    plt.plot(history.history['mae'][3:], label='mae')\n",
    "    plt.plot(history.history['val_mae'][3:], label='val_mae')\n",
    "    plt.legend()\n",
    "    plt.subplot(333)\n",
    "    plt.plot(range(len(y_train)), y_train, label=\"train\")\n",
    "    plt.plot(range(len(y_train), len(y_train)+len(y_val)), y_val, label=\"valid\")\n",
    "    plt.plot(range(len(y_train)+len(y_val), len(y_train)+len(y_val)+len(y_pred)), y_test, label=\"test\")\n",
    "    plt.plot(range(len(y_train)+len(y_val), len(y_train)+len(y_val)+len(y_pred)), y_pred, label=\"predict\")\n",
    "    plt.legend(loc='center left')\n",
    "    plt.show()\n",
    "    \n",
    "    return model"
   ]
  },
  {
   "cell_type": "code",
   "execution_count": 17,
   "metadata": {
    "ExecuteTime": {
     "end_time": "2021-10-05T11:20:50.230976Z",
     "start_time": "2021-10-05T11:20:44.536847Z"
    }
   },
   "outputs": [
    {
     "name": "stdout",
     "output_type": "stream",
     "text": [
      "Epoch 1/20\n",
      "7/7 [==============================] - 1s 42ms/step - loss: 64.7803 - mae: 64.7803 - val_loss: 135.3417 - val_mae: 135.3417\n",
      "Epoch 2/20\n",
      "7/7 [==============================] - 0s 8ms/step - loss: 63.9387 - mae: 63.9387 - val_loss: 133.6281 - val_mae: 133.6281\n",
      "Epoch 3/20\n",
      "7/7 [==============================] - 0s 8ms/step - loss: 63.1539 - mae: 63.1539 - val_loss: 132.1020 - val_mae: 132.1020\n",
      "Epoch 4/20\n",
      "7/7 [==============================] - 0s 8ms/step - loss: 62.1652 - mae: 62.1652 - val_loss: 129.5654 - val_mae: 129.5654\n",
      "Epoch 5/20\n",
      "7/7 [==============================] - 0s 8ms/step - loss: 60.5182 - mae: 60.5182 - val_loss: 123.4751 - val_mae: 123.4751\n",
      "Epoch 6/20\n",
      "7/7 [==============================] - 0s 7ms/step - loss: 57.5405 - mae: 57.5405 - val_loss: 115.0925 - val_mae: 115.0925\n",
      "Epoch 7/20\n",
      "7/7 [==============================] - 0s 8ms/step - loss: 53.9954 - mae: 53.9954 - val_loss: 108.3321 - val_mae: 108.3321\n",
      "Epoch 8/20\n",
      "7/7 [==============================] - 0s 8ms/step - loss: 50.9644 - mae: 50.9644 - val_loss: 102.8473 - val_mae: 102.8473\n",
      "Epoch 9/20\n",
      "7/7 [==============================] - 0s 8ms/step - loss: 46.9289 - mae: 46.9289 - val_loss: 88.4382 - val_mae: 88.4382\n",
      "Epoch 10/20\n",
      "7/7 [==============================] - 0s 7ms/step - loss: 40.5365 - mae: 40.5365 - val_loss: 69.5779 - val_mae: 69.5779\n",
      "Epoch 11/20\n",
      "7/7 [==============================] - 0s 8ms/step - loss: 30.6832 - mae: 30.6832 - val_loss: 52.8586 - val_mae: 52.8586\n",
      "Epoch 12/20\n",
      "7/7 [==============================] - 0s 7ms/step - loss: 21.7509 - mae: 21.7509 - val_loss: 40.4817 - val_mae: 40.4817\n",
      "Epoch 13/20\n",
      "7/7 [==============================] - 0s 8ms/step - loss: 17.4726 - mae: 17.4726 - val_loss: 36.8583 - val_mae: 36.8583\n",
      "Epoch 14/20\n",
      "7/7 [==============================] - 0s 8ms/step - loss: 15.6003 - mae: 15.6003 - val_loss: 27.1431 - val_mae: 27.1431\n",
      "Epoch 15/20\n",
      "7/7 [==============================] - 0s 7ms/step - loss: 12.9556 - mae: 12.9556 - val_loss: 20.2382 - val_mae: 20.2382\n",
      "Epoch 16/20\n",
      "7/7 [==============================] - 0s 8ms/step - loss: 11.5635 - mae: 11.5635 - val_loss: 18.1148 - val_mae: 18.1148\n",
      "Epoch 17/20\n",
      "7/7 [==============================] - 0s 8ms/step - loss: 10.8494 - mae: 10.8494 - val_loss: 20.7559 - val_mae: 20.7559\n",
      "Epoch 18/20\n",
      "7/7 [==============================] - 0s 8ms/step - loss: 10.3460 - mae: 10.3460 - val_loss: 20.7877 - val_mae: 20.7877\n",
      "Epoch 19/20\n",
      "7/7 [==============================] - 0s 7ms/step - loss: 9.8826 - mae: 9.8826 - val_loss: 19.8711 - val_mae: 19.8711\n",
      "Epoch 20/20\n",
      "7/7 [==============================] - 0s 8ms/step - loss: 8.6056 - mae: 8.6056 - val_loss: 14.3520 - val_mae: 14.3520\n"
     ]
    },
    {
     "data": {
      "image/png": "[encoded data removed]",
      "text/plain": [
       "<Figure size 1440x576 with 3 Axes>"
      ]
     },
     "metadata": {
      "needs_background": "light"
     },
     "output_type": "display_data"
    }
   ],
   "source": [
    "model = build_and_fit(model, train_X, train_y, val_X, val_y, test_X, test_y) # create the model"
   ]
  },
  {
   "cell_type": "code",
   "execution_count": 18,
   "metadata": {
    "ExecuteTime": {
     "end_time": "2021-10-05T11:20:51.006300Z",
     "start_time": "2021-10-05T11:20:50.932198Z"
    }
   },
   "outputs": [
    {
     "name": "stdout",
     "output_type": "stream",
     "text": [
      "[[-3.8604667]] 324\n"
     ]
    }
   ],
   "source": [
    "# demonstrate prediction\n",
    "start = 12\n",
    "y_true = (start+n_in)*(start+n_in)\n",
    "x_input = np.array([fct(x) for x in range(start,start+n_in)])\n",
    "x_input = x_input.reshape((1, n_in, n_features))\n",
    "yhat = model.predict(x_input, verbose=0)\n",
    "print(yhat, y_true)"
   ]
  },
  {
   "cell_type": "markdown",
   "metadata": {},
   "source": [
    "### Stacked Bi-LSTM\n",
    "\n",
    "In order to improve the performance of the model, it's possible to:\n",
    "- stack LSTM with `return_sequence=True` for all levels except the last one where `return_sequence=False`\n",
    "- use Bi-LSTM"
   ]
  },
  {
   "cell_type": "markdown",
   "metadata": {},
   "source": [
    "<font color='red'>\n",
    "$TO DO - Students$\n",
    "\n",
    "* Build a model stacking 3 BI-LSTM layers \n",
    "</font>"
   ]
  },
  {
   "cell_type": "code",
   "execution_count": 19,
   "metadata": {
    "ExecuteTime": {
     "end_time": "2021-10-05T11:20:53.709575Z",
     "start_time": "2021-10-05T11:20:53.261527Z"
    }
   },
   "outputs": [
    {
     "name": "stdout",
     "output_type": "stream",
     "text": [
      "Model: \"model_1\"\n",
      "_________________________________________________________________\n",
      " Layer (type)                Output Shape              Param #   \n",
      "=================================================================\n",
      " input (InputLayer)          [(None, 6, 1)]            0         \n",
      "                                                                 \n",
      " bidirectional (Bidirectiona  (None, 6, 32)            2304      \n",
      " l)                                                              \n",
      "                                                                 \n",
      " bidirectional_1 (Bidirectio  (None, 6, 32)            6272      \n",
      " nal)                                                            \n",
      "                                                                 \n",
      " bidirectional_2 (Bidirectio  (None, 32)               6272      \n",
      " nal)                                                            \n",
      "                                                                 \n",
      " output (Dense)              (None, 1)                 33        \n",
      "                                                                 \n",
      "=================================================================\n",
      "Total params: 14,881\n",
      "Trainable params: 14,881\n",
      "Non-trainable params: 0\n",
      "_________________________________________________________________\n"
     ]
    }
   ],
   "source": [
    "inputs = Input(shape=(n_in, n_features), name=\"input\", dtype=tf.float32) # input layer\n",
    "\" FILL hidden 1\"\n",
    "x1 = (Bidirectional(LSTM(LSTM_SIZE, return_sequences=True,activation='relu')))(inputs) # 1st hidden layer\n",
    "\" FILL hidden 2\"\n",
    "x2 = (Bidirectional(LSTM(LSTM_SIZE, return_sequences=True,activation='relu')))(x1) # 2nd hidden layer\n",
    "\" FILL hidden 3\"\n",
    "x3 = (Bidirectional(LSTM(LSTM_SIZE, return_sequences=False,activation='relu')))(x2) #last one must be false. explained above\n",
    "\n",
    "outputs = Dense(n_out, activation='linear', name=\"output\")(x3) # define the output\n",
    "\n",
    "model = Model(inputs=inputs, outputs=outputs) # define the model\n",
    "model.summary()"
   ]
  },
  {
   "cell_type": "code",
   "execution_count": 20,
   "metadata": {
    "ExecuteTime": {
     "end_time": "2021-10-05T11:21:15.051362Z",
     "start_time": "2021-10-05T11:20:57.765335Z"
    }
   },
   "outputs": [
    {
     "name": "stdout",
     "output_type": "stream",
     "text": [
      "Epoch 1/20\n",
      "7/7 [==============================] - 5s 101ms/step - loss: 65.0044 - mae: 65.0044 - val_loss: 136.9533 - val_mae: 136.9533\n",
      "Epoch 2/20\n",
      "7/7 [==============================] - 0s 15ms/step - loss: 63.2911 - mae: 63.2911 - val_loss: 131.8848 - val_mae: 131.8848\n",
      "Epoch 3/20\n",
      "7/7 [==============================] - 0s 16ms/step - loss: 60.0640 - mae: 60.0640 - val_loss: 121.3245 - val_mae: 121.3245\n",
      "Epoch 4/20\n",
      "7/7 [==============================] - 0s 16ms/step - loss: 54.6813 - mae: 54.6813 - val_loss: 101.6020 - val_mae: 101.6020\n",
      "Epoch 5/20\n",
      "7/7 [==============================] - 0s 16ms/step - loss: 45.7790 - mae: 45.7790 - val_loss: 72.7827 - val_mae: 72.7827\n",
      "Epoch 6/20\n",
      "7/7 [==============================] - 0s 15ms/step - loss: 31.6759 - mae: 31.6759 - val_loss: 53.3525 - val_mae: 53.3525\n",
      "Epoch 7/20\n",
      "7/7 [==============================] - 0s 16ms/step - loss: 20.2992 - mae: 20.2992 - val_loss: 43.5753 - val_mae: 43.5753\n",
      "Epoch 8/20\n",
      "7/7 [==============================] - 0s 16ms/step - loss: 16.6561 - mae: 16.6561 - val_loss: 32.2201 - val_mae: 32.2201\n",
      "Epoch 9/20\n",
      "7/7 [==============================] - 0s 16ms/step - loss: 13.7924 - mae: 13.7924 - val_loss: 26.1434 - val_mae: 26.1434\n",
      "Epoch 10/20\n",
      "7/7 [==============================] - 0s 16ms/step - loss: 11.0876 - mae: 11.0876 - val_loss: 24.2556 - val_mae: 24.2556\n",
      "Epoch 11/20\n",
      "7/7 [==============================] - 0s 16ms/step - loss: 9.2094 - mae: 9.2094 - val_loss: 18.2943 - val_mae: 18.2943\n",
      "Epoch 12/20\n",
      "7/7 [==============================] - 0s 15ms/step - loss: 7.0344 - mae: 7.0344 - val_loss: 19.7153 - val_mae: 19.7153\n",
      "Epoch 13/20\n",
      "7/7 [==============================] - 0s 17ms/step - loss: 6.9135 - mae: 6.9135 - val_loss: 22.9485 - val_mae: 22.9485\n",
      "Epoch 14/20\n",
      "7/7 [==============================] - 0s 15ms/step - loss: 6.5067 - mae: 6.5067 - val_loss: 13.5752 - val_mae: 13.5752\n",
      "Epoch 15/20\n",
      "7/7 [==============================] - 0s 16ms/step - loss: 5.4187 - mae: 5.4187 - val_loss: 10.1108 - val_mae: 10.1108\n",
      "Epoch 16/20\n",
      "7/7 [==============================] - 0s 15ms/step - loss: 4.7722 - mae: 4.7722 - val_loss: 13.4180 - val_mae: 13.4180\n",
      "Epoch 17/20\n",
      "7/7 [==============================] - 0s 15ms/step - loss: 4.3527 - mae: 4.3527 - val_loss: 13.5528 - val_mae: 13.5528\n",
      "Epoch 18/20\n",
      "7/7 [==============================] - 0s 15ms/step - loss: 3.9919 - mae: 3.9919 - val_loss: 13.4050 - val_mae: 13.4050\n",
      "Epoch 19/20\n",
      "7/7 [==============================] - 0s 16ms/step - loss: 3.7175 - mae: 3.7175 - val_loss: 9.4834 - val_mae: 9.4834\n",
      "Epoch 20/20\n",
      "7/7 [==============================] - 0s 18ms/step - loss: 3.2027 - mae: 3.2027 - val_loss: 9.8101 - val_mae: 9.8101\n"
     ]
    },
    {
     "data": {
      "image/png": "[encoded data removed]",
      "text/plain": [
       "<Figure size 1440x576 with 3 Axes>"
      ]
     },
     "metadata": {
      "needs_background": "light"
     },
     "output_type": "display_data"
    }
   ],
   "source": [
    "model = build_and_fit(model, train_X, train_y, val_X, val_y, test_X, test_y) "
   ]
  },
  {
   "cell_type": "code",
   "execution_count": 21,
   "metadata": {
    "ExecuteTime": {
     "end_time": "2021-10-05T11:21:15.138110Z",
     "start_time": "2021-10-05T11:21:15.057399Z"
    }
   },
   "outputs": [
    {
     "name": "stdout",
     "output_type": "stream",
     "text": [
      "[[-14.564305]] 324\n"
     ]
    }
   ],
   "source": [
    "# demonstrate prediction\n",
    "start = 12\n",
    "y_true = (start+n_in)*(start+n_in)\n",
    "x_input = np.array([fct(x) for x in range(start,start+n_in)])\n",
    "x_input = x_input.reshape((1, n_in, n_features))\n",
    "yhat = model.predict(x_input, verbose=0)\n",
    "print(yhat, y_true)"
   ]
  },
  {
   "cell_type": "markdown",
   "metadata": {},
   "source": [
    "## LSTM network for multi-variate time series \n",
    "\n",
    "Multivariate time series data means data where there is more than one observation for each time step.\n",
    "\n",
    "There are two main models we may need with multivariate time series data. These are the multiple input series or the multiple parallel series depending on whether we want to predict one or more of the variables.\n",
    "\n",
    "In this notebook, we focus on the first case: as input, several time series and as output (the prediction), a single time series."
   ]
  },
  {
   "cell_type": "markdown",
   "metadata": {},
   "source": [
    "### Prepare the data\n",
    "\n",
    "We reuse the same `series_to_supervise()` function in order to build a dataset with :\n",
    "* n_in elements for each series\n",
    "* n_out elements for each series to be predict\n",
    "\n",
    "You have also to select one (Multiple Input Series) or many time series (Multiple Parallel Series) to predict."
   ]
  },
  {
   "cell_type": "code",
   "execution_count": 22,
   "metadata": {
    "ExecuteTime": {
     "end_time": "2021-10-05T11:21:19.002802Z",
     "start_time": "2021-10-05T11:21:18.994544Z"
    }
   },
   "outputs": [],
   "source": [
    "# Get the time series\n",
    "fct2 = lambda x: 2*x\n",
    "time_series1 = [fct(x) for x in range(SIZE)]\n",
    "time_series2 = [fct2(x) for x in range(SIZE)]\n",
    "out_seq = [time_series1[i]+time_series2[i] for i in range(SIZE)]"
   ]
  },
  {
   "cell_type": "code",
   "execution_count": 23,
   "metadata": {
    "ExecuteTime": {
     "end_time": "2021-10-05T11:21:19.964480Z",
     "start_time": "2021-10-05T11:21:19.950931Z"
    }
   },
   "outputs": [
    {
     "data": {
      "text/html": [
       "<div>\n",
       "<style scoped>\n",
       "    .dataframe tbody tr th:only-of-type {\n",
       "        vertical-align: middle;\n",
       "    }\n",
       "\n",
       "    .dataframe tbody tr th {\n",
       "        vertical-align: top;\n",
       "    }\n",
       "\n",
       "    .dataframe thead th {\n",
       "        text-align: right;\n",
       "    }\n",
       "</style>\n",
       "<table border=\"1\" class=\"dataframe\">\n",
       "  <thead>\n",
       "    <tr style=\"text-align: right;\">\n",
       "      <th></th>\n",
       "      <th>f1</th>\n",
       "      <th>f2</th>\n",
       "      <th>output</th>\n",
       "    </tr>\n",
       "  </thead>\n",
       "  <tbody>\n",
       "    <tr>\n",
       "      <th>0</th>\n",
       "      <td>0.000000</td>\n",
       "      <td>0</td>\n",
       "      <td>0.000000</td>\n",
       "    </tr>\n",
       "    <tr>\n",
       "      <th>1</th>\n",
       "      <td>0.841471</td>\n",
       "      <td>2</td>\n",
       "      <td>2.841471</td>\n",
       "    </tr>\n",
       "    <tr>\n",
       "      <th>2</th>\n",
       "      <td>1.818595</td>\n",
       "      <td>4</td>\n",
       "      <td>5.818595</td>\n",
       "    </tr>\n",
       "    <tr>\n",
       "      <th>3</th>\n",
       "      <td>0.423360</td>\n",
       "      <td>6</td>\n",
       "      <td>6.423360</td>\n",
       "    </tr>\n",
       "    <tr>\n",
       "      <th>4</th>\n",
       "      <td>-3.027210</td>\n",
       "      <td>8</td>\n",
       "      <td>4.972790</td>\n",
       "    </tr>\n",
       "  </tbody>\n",
       "</table>\n",
       "</div>"
      ],
      "text/plain": [
       "         f1  f2    output\n",
       "0  0.000000   0  0.000000\n",
       "1  0.841471   2  2.841471\n",
       "2  1.818595   4  5.818595\n",
       "3  0.423360   6  6.423360\n",
       "4 -3.027210   8  4.972790"
      ]
     },
     "execution_count": 23,
     "metadata": {},
     "output_type": "execute_result"
    }
   ],
   "source": [
    "# Get the dataset\n",
    "dataset = pd.DataFrame(data={\"f1\":time_series1, \"f2\":time_series2, \"output\":out_seq}, index=range(SIZE))\n",
    "n_features = dataset.shape[1] # for multivariate time series\n",
    "dataset.head()"
   ]
  },
  {
   "cell_type": "markdown",
   "metadata": {},
   "source": [
    "As with the univariate time series, we must structure these data into samples with input and output elements.\n",
    "An LSTM model needs sufficient context to learn a mapping from an input sequence to an output value. LSTMs can support parallel input time series as separate variables or features. Therefore, we need to split the data into samples maintaining the order of observations across the two input sequences.\n",
    "\n",
    "If we chose six input time steps for the three features, we have to transform the dataset in the following way."
   ]
  },
  {
   "cell_type": "code",
   "execution_count": 24,
   "metadata": {
    "ExecuteTime": {
     "end_time": "2021-10-05T11:21:21.637591Z",
     "start_time": "2021-10-05T11:21:21.603113Z"
    }
   },
   "outputs": [
    {
     "data": {
      "text/html": [
       "<div>\n",
       "<style scoped>\n",
       "    .dataframe tbody tr th:only-of-type {\n",
       "        vertical-align: middle;\n",
       "    }\n",
       "\n",
       "    .dataframe tbody tr th {\n",
       "        vertical-align: top;\n",
       "    }\n",
       "\n",
       "    .dataframe thead th {\n",
       "        text-align: right;\n",
       "    }\n",
       "</style>\n",
       "<table border=\"1\" class=\"dataframe\">\n",
       "  <thead>\n",
       "    <tr style=\"text-align: right;\">\n",
       "      <th></th>\n",
       "      <th>f1(t-6)</th>\n",
       "      <th>f2(t-6)</th>\n",
       "      <th>output(t-6)</th>\n",
       "      <th>f1(t-5)</th>\n",
       "      <th>f2(t-5)</th>\n",
       "      <th>output(t-5)</th>\n",
       "      <th>f1(t-4)</th>\n",
       "      <th>f2(t-4)</th>\n",
       "      <th>output(t-4)</th>\n",
       "      <th>f1(t-3)</th>\n",
       "      <th>f2(t-3)</th>\n",
       "      <th>output(t-3)</th>\n",
       "      <th>f1(t-2)</th>\n",
       "      <th>f2(t-2)</th>\n",
       "      <th>output(t-2)</th>\n",
       "      <th>f1(t-1)</th>\n",
       "      <th>f2(t-1)</th>\n",
       "      <th>output(t-1)</th>\n",
       "      <th>output(t)</th>\n",
       "    </tr>\n",
       "  </thead>\n",
       "  <tbody>\n",
       "    <tr>\n",
       "      <th>6</th>\n",
       "      <td>0.000000</td>\n",
       "      <td>0.0</td>\n",
       "      <td>0.000000</td>\n",
       "      <td>0.841471</td>\n",
       "      <td>2.0</td>\n",
       "      <td>2.841471</td>\n",
       "      <td>1.818595</td>\n",
       "      <td>4.0</td>\n",
       "      <td>5.818595</td>\n",
       "      <td>0.423360</td>\n",
       "      <td>6.0</td>\n",
       "      <td>6.423360</td>\n",
       "      <td>-3.027210</td>\n",
       "      <td>8.0</td>\n",
       "      <td>4.972790</td>\n",
       "      <td>-4.794621</td>\n",
       "      <td>10.0</td>\n",
       "      <td>5.205379</td>\n",
       "      <td>10.323507</td>\n",
       "    </tr>\n",
       "    <tr>\n",
       "      <th>7</th>\n",
       "      <td>0.841471</td>\n",
       "      <td>2.0</td>\n",
       "      <td>2.841471</td>\n",
       "      <td>1.818595</td>\n",
       "      <td>4.0</td>\n",
       "      <td>5.818595</td>\n",
       "      <td>0.423360</td>\n",
       "      <td>6.0</td>\n",
       "      <td>6.423360</td>\n",
       "      <td>-3.027210</td>\n",
       "      <td>8.0</td>\n",
       "      <td>4.972790</td>\n",
       "      <td>-4.794621</td>\n",
       "      <td>10.0</td>\n",
       "      <td>5.205379</td>\n",
       "      <td>-1.676493</td>\n",
       "      <td>12.0</td>\n",
       "      <td>10.323507</td>\n",
       "      <td>18.598906</td>\n",
       "    </tr>\n",
       "    <tr>\n",
       "      <th>8</th>\n",
       "      <td>1.818595</td>\n",
       "      <td>4.0</td>\n",
       "      <td>5.818595</td>\n",
       "      <td>0.423360</td>\n",
       "      <td>6.0</td>\n",
       "      <td>6.423360</td>\n",
       "      <td>-3.027210</td>\n",
       "      <td>8.0</td>\n",
       "      <td>4.972790</td>\n",
       "      <td>-4.794621</td>\n",
       "      <td>10.0</td>\n",
       "      <td>5.205379</td>\n",
       "      <td>-1.676493</td>\n",
       "      <td>12.0</td>\n",
       "      <td>10.323507</td>\n",
       "      <td>4.598906</td>\n",
       "      <td>14.0</td>\n",
       "      <td>18.598906</td>\n",
       "      <td>23.914866</td>\n",
       "    </tr>\n",
       "    <tr>\n",
       "      <th>9</th>\n",
       "      <td>0.423360</td>\n",
       "      <td>6.0</td>\n",
       "      <td>6.423360</td>\n",
       "      <td>-3.027210</td>\n",
       "      <td>8.0</td>\n",
       "      <td>4.972790</td>\n",
       "      <td>-4.794621</td>\n",
       "      <td>10.0</td>\n",
       "      <td>5.205379</td>\n",
       "      <td>-1.676493</td>\n",
       "      <td>12.0</td>\n",
       "      <td>10.323507</td>\n",
       "      <td>4.598906</td>\n",
       "      <td>14.0</td>\n",
       "      <td>18.598906</td>\n",
       "      <td>7.914866</td>\n",
       "      <td>16.0</td>\n",
       "      <td>23.914866</td>\n",
       "      <td>21.709066</td>\n",
       "    </tr>\n",
       "    <tr>\n",
       "      <th>10</th>\n",
       "      <td>-3.027210</td>\n",
       "      <td>8.0</td>\n",
       "      <td>4.972790</td>\n",
       "      <td>-4.794621</td>\n",
       "      <td>10.0</td>\n",
       "      <td>5.205379</td>\n",
       "      <td>-1.676493</td>\n",
       "      <td>12.0</td>\n",
       "      <td>10.323507</td>\n",
       "      <td>4.598906</td>\n",
       "      <td>14.0</td>\n",
       "      <td>18.598906</td>\n",
       "      <td>7.914866</td>\n",
       "      <td>16.0</td>\n",
       "      <td>23.914866</td>\n",
       "      <td>3.709066</td>\n",
       "      <td>18.0</td>\n",
       "      <td>21.709066</td>\n",
       "      <td>14.559789</td>\n",
       "    </tr>\n",
       "  </tbody>\n",
       "</table>\n",
       "</div>"
      ],
      "text/plain": [
       "     f1(t-6)  f2(t-6)  output(t-6)   f1(t-5)  f2(t-5)  output(t-5)   f1(t-4)  \\\n",
       "6   0.000000      0.0     0.000000  0.841471      2.0     2.841471  1.818595   \n",
       "7   0.841471      2.0     2.841471  1.818595      4.0     5.818595  0.423360   \n",
       "8   1.818595      4.0     5.818595  0.423360      6.0     6.423360 -3.027210   \n",
       "9   0.423360      6.0     6.423360 -3.027210      8.0     4.972790 -4.794621   \n",
       "10 -3.027210      8.0     4.972790 -4.794621     10.0     5.205379 -1.676493   \n",
       "\n",
       "    f2(t-4)  output(t-4)   f1(t-3)  f2(t-3)  output(t-3)   f1(t-2)  f2(t-2)  \\\n",
       "6       4.0     5.818595  0.423360      6.0     6.423360 -3.027210      8.0   \n",
       "7       6.0     6.423360 -3.027210      8.0     4.972790 -4.794621     10.0   \n",
       "8       8.0     4.972790 -4.794621     10.0     5.205379 -1.676493     12.0   \n",
       "9      10.0     5.205379 -1.676493     12.0    10.323507  4.598906     14.0   \n",
       "10     12.0    10.323507  4.598906     14.0    18.598906  7.914866     16.0   \n",
       "\n",
       "    output(t-2)   f1(t-1)  f2(t-1)  output(t-1)  output(t)  \n",
       "6      4.972790 -4.794621     10.0     5.205379  10.323507  \n",
       "7      5.205379 -1.676493     12.0    10.323507  18.598906  \n",
       "8     10.323507  4.598906     14.0    18.598906  23.914866  \n",
       "9     18.598906  7.914866     16.0    23.914866  21.709066  \n",
       "10    23.914866  3.709066     18.0    21.709066  14.559789  "
      ]
     },
     "execution_count": 24,
     "metadata": {},
     "output_type": "execute_result"
    }
   ],
   "source": [
    "# As previously, prepare the dataset\n",
    "''' In the followig example, we select \n",
    "- n_in number of time steps (6)\n",
    "- n_out number of time steps of output\n",
    "- and one serie to predict : output\n",
    "'''\n",
    "n_features = dataset.shape[1] # for multivariate time series\n",
    "n_in = 6\n",
    "n_out = 1\n",
    "output = [\"output\"]\n",
    "\n",
    "data = series_to_supervised(dataset, n_in, n_out, output=output) # create the dataset..\n",
    "data.head()"
   ]
  },
  {
   "cell_type": "code",
   "execution_count": 25,
   "metadata": {
    "ExecuteTime": {
     "end_time": "2021-10-05T11:21:22.808795Z",
     "start_time": "2021-10-05T11:21:22.778140Z"
    }
   },
   "outputs": [
    {
     "name": "stdout",
     "output_type": "stream",
     "text": [
      "TRAIN=time_series[:196]\n",
      "VALID=time_series[196:220]\n",
      "TEST=time_series[220:]\n"
     ]
    }
   ],
   "source": [
    "# Split dataset into TRAIN, VAL and TEST\n",
    "testAndValid = 0.1\n",
    "\n",
    "SPLIT = int(testAndValid*len(data))\n",
    "idx_train = len(data)-2*SPLIT\n",
    "idx_test = len(data)-SPLIT\n",
    "\n",
    "print(\"TRAIN=time_series[:\"+str(idx_train)+\"]\")\n",
    "print(\"VALID=time_series[\"+str(idx_train)+\":\"+str(idx_test)+\"]\")\n",
    "print(\"TEST=time_series[\"+str(idx_test)+\":]\")\n",
    "\n",
    "TRAIN=data[:idx_train]\n",
    "VAL=data[idx_train:idx_test]\n",
    "TEST=data[idx_test:]"
   ]
  },
  {
   "cell_type": "markdown",
   "metadata": {
    "ExecuteTime": {
     "end_time": "2022-01-29T14:41:03.436214Z",
     "start_time": "2022-01-29T14:41:03.427098Z"
    }
   },
   "source": [
    "<font color='red'>\n",
    "$TO DO - Students$\n",
    "\n",
    "* build train_X, val_X, test_X and train_y, val_y and test_y as before. Then print the shapes of tensors\n",
    "    * train_X is a 3D-tensor (196, 6, 3) for me\n",
    "    * train_y is a 1D-tensor (196,)\n",
    "</font>"
   ]
  },
  {
   "cell_type": "code",
   "execution_count": 26,
   "metadata": {
    "ExecuteTime": {
     "end_time": "2022-01-29T15:21:30.540318Z",
     "start_time": "2022-01-29T15:21:30.522817Z"
    }
   },
   "outputs": [
    {
     "data": {
      "text/plain": [
       "((196, 6, 3), (196,))"
      ]
     },
     "execution_count": 26,
     "metadata": {},
     "output_type": "execute_result"
    }
   ],
   "source": [
    "\"\"\" FILL \"\"\"\n",
    "# split into input and outputs\n",
    "train_X, train_y = TRAIN.values[:, :-n_out], TRAIN.values[:, -n_out]\n",
    "val_X, val_y = VAL.values[:, :-n_out], VAL.values[:, -n_out]\n",
    "test_X, test_y = TEST.values[:, :-n_out], TEST.values[:, -n_out]\n",
    "\n",
    "# reshape input to be 3D [samples, timesteps, features]\n",
    "train_X = train_X.reshape((-1, n_in, n_features))\n",
    "val_X = val_X.reshape((-1, n_in, n_features))\n",
    "test_X = test_X.reshape((-1, n_in, n_features))\n",
    "\n",
    "train_X.shape, train_y.shape"
   ]
  },
  {
   "cell_type": "markdown",
   "metadata": {},
   "source": [
    "### Build a neuronal model"
   ]
  },
  {
   "cell_type": "markdown",
   "metadata": {},
   "source": [
    "Any of the varieties of LSTMs in the previous section can be used, such as a Vanilla, Stacked, Bidirectional. It's also possible to use CNN or mixed CNN and LSTM.\n",
    "\n",
    "We will use a Vanilla LSTM where the number of time steps and parallel series (features) are specified for the input layer via the input_shape argument."
   ]
  },
  {
   "cell_type": "code",
   "execution_count": 27,
   "metadata": {
    "ExecuteTime": {
     "end_time": "2021-10-05T11:21:26.613409Z",
     "start_time": "2021-10-05T11:21:26.508414Z"
    }
   },
   "outputs": [
    {
     "name": "stdout",
     "output_type": "stream",
     "text": [
      "Model: \"model_2\"\n",
      "_________________________________________________________________\n",
      " Layer (type)                Output Shape              Param #   \n",
      "=================================================================\n",
      " input_2 (InputLayer)        [(None, 6, 3)]            0         \n",
      "                                                                 \n",
      " lstm_4 (LSTM)               (None, 16)                1280      \n",
      "                                                                 \n",
      " dense_1 (Dense)             (None, 1)                 17        \n",
      "                                                                 \n",
      "=================================================================\n",
      "Total params: 1,297\n",
      "Trainable params: 1,297\n",
      "Non-trainable params: 0\n",
      "_________________________________________________________________\n"
     ]
    }
   ],
   "source": [
    "inputs = Input(shape=(n_in, n_features))\n",
    "hidden = LSTM(LSTM_SIZE, return_sequences=False, activation='relu')(inputs)\n",
    "outputs = Dense(n_out, activation='linear')(hidden)\n",
    "model = Model(inputs, outputs)\n",
    "model.summary()"
   ]
  },
  {
   "cell_type": "code",
   "execution_count": 28,
   "metadata": {
    "ExecuteTime": {
     "end_time": "2021-10-05T11:21:37.636496Z",
     "start_time": "2021-10-05T11:21:27.532691Z"
    }
   },
   "outputs": [
    {
     "name": "stdout",
     "output_type": "stream",
     "text": [
      "Epoch 1/20\n",
      "7/7 [==============================] - 1s 33ms/step - loss: 64.7979 - mae: 64.7979 - val_loss: 124.5526 - val_mae: 124.5526\n",
      "Epoch 2/20\n",
      "7/7 [==============================] - 0s 9ms/step - loss: 55.5147 - mae: 55.5147 - val_loss: 107.1478 - val_mae: 107.1478\n",
      "Epoch 3/20\n",
      "7/7 [==============================] - 0s 8ms/step - loss: 51.4630 - mae: 51.4630 - val_loss: 108.9417 - val_mae: 108.9417\n",
      "Epoch 4/20\n",
      "7/7 [==============================] - 0s 8ms/step - loss: 49.2012 - mae: 49.2012 - val_loss: 106.4544 - val_mae: 106.4544\n",
      "Epoch 5/20\n",
      "7/7 [==============================] - 0s 8ms/step - loss: 45.5796 - mae: 45.5796 - val_loss: 93.1042 - val_mae: 93.1042\n",
      "Epoch 6/20\n",
      "7/7 [==============================] - 0s 8ms/step - loss: 41.8547 - mae: 41.8547 - val_loss: 81.4368 - val_mae: 81.4368\n",
      "Epoch 7/20\n",
      "7/7 [==============================] - 0s 8ms/step - loss: 38.8037 - mae: 38.8037 - val_loss: 78.2912 - val_mae: 78.2912\n",
      "Epoch 8/20\n",
      "7/7 [==============================] - 0s 8ms/step - loss: 36.0789 - mae: 36.0789 - val_loss: 78.0509 - val_mae: 78.0509\n",
      "Epoch 9/20\n",
      "7/7 [==============================] - 0s 8ms/step - loss: 34.7343 - mae: 34.7343 - val_loss: 76.1311 - val_mae: 76.1311\n",
      "Epoch 10/20\n",
      "7/7 [==============================] - 0s 8ms/step - loss: 34.8504 - mae: 34.8504 - val_loss: 72.7963 - val_mae: 72.7963\n",
      "Epoch 11/20\n",
      "7/7 [==============================] - 0s 8ms/step - loss: 36.2495 - mae: 36.2495 - val_loss: 78.4310 - val_mae: 78.4310\n",
      "Epoch 12/20\n",
      "7/7 [==============================] - 0s 7ms/step - loss: 33.6384 - mae: 33.6384 - val_loss: 72.8537 - val_mae: 72.8537\n",
      "Epoch 13/20\n",
      "7/7 [==============================] - 0s 8ms/step - loss: 30.1880 - mae: 30.1880 - val_loss: 59.1539 - val_mae: 59.1539\n",
      "Epoch 14/20\n",
      "7/7 [==============================] - 0s 8ms/step - loss: 27.7157 - mae: 27.7157 - val_loss: 52.4970 - val_mae: 52.4970\n",
      "Epoch 15/20\n",
      "7/7 [==============================] - 0s 8ms/step - loss: 24.9153 - mae: 24.9153 - val_loss: 49.0737 - val_mae: 49.0737\n",
      "Epoch 16/20\n",
      "7/7 [==============================] - 0s 8ms/step - loss: 23.1731 - mae: 23.1731 - val_loss: 45.5261 - val_mae: 45.5261\n",
      "Epoch 17/20\n",
      "7/7 [==============================] - 0s 8ms/step - loss: 21.6931 - mae: 21.6931 - val_loss: 39.9066 - val_mae: 39.9066\n",
      "Epoch 18/20\n",
      "7/7 [==============================] - 0s 8ms/step - loss: 20.5097 - mae: 20.5097 - val_loss: 37.7487 - val_mae: 37.7487\n",
      "Epoch 19/20\n",
      "7/7 [==============================] - 0s 8ms/step - loss: 19.3155 - mae: 19.3155 - val_loss: 35.7405 - val_mae: 35.7405\n",
      "Epoch 20/20\n",
      "7/7 [==============================] - 0s 8ms/step - loss: 18.3767 - mae: 18.3767 - val_loss: 37.7936 - val_mae: 37.7936\n"
     ]
    },
    {
     "data": {
      "image/png": "[encoded data removed]",
      "text/plain": [
       "<Figure size 1440x576 with 3 Axes>"
      ]
     },
     "metadata": {
      "needs_background": "light"
     },
     "output_type": "display_data"
    }
   ],
   "source": [
    "model = build_and_fit(model, train_X, train_y, val_X, val_y, test_X, test_y)"
   ]
  },
  {
   "cell_type": "markdown",
   "metadata": {},
   "source": [
    "## Lab work: Air Pollution Forecasting\n",
    "\n",
    "This is a dataset that reports on the weather and the level of pollution each hour for five years at the US embassy in Beijing, China.\n",
    "\n",
    "The data includes the date-time, the pollution called PM2.5 concentration, and the weather information including dew point, temperature, pressure, wind direction, wind speed and the cumulative number of hours of snow and rain. The complete feature list in the raw data is as follows:\n",
    "\n",
    "1. No: row number\n",
    "1. year: year of data in this row\n",
    "1. month: month of data in this row\n",
    "1. day: day of data in this row\n",
    "1. hour: hour of data in this row\n",
    "1. pm2.5: PM2.5 concentration\n",
    "1. DEWP: Dew Point\n",
    "1. TEMP: Temperature\n",
    "1. PRES: Pressure\n",
    "1. cbwd: Combined wind direction\n",
    "1. Iws: Cumulated wind speed\n",
    "1. Is: Cumulated hours of snow\n",
    "1. Ir: Cumulated hours of rain\n",
    "\n",
    "We can use this data and frame a forecasting problem where, given the weather conditions and pollution for prior hours, we forecast the pollution at the next hour.\n",
    "\n",
    "This dataset can be used to frame other forecasting problems."
   ]
  },
  {
   "cell_type": "markdown",
   "metadata": {},
   "source": [
    "## Load the data"
   ]
  },
  {
   "cell_type": "code",
   "execution_count": 29,
   "metadata": {
    "ExecuteTime": {
     "end_time": "2021-10-05T11:21:49.916418Z",
     "start_time": "2021-10-05T11:21:49.912398Z"
    }
   },
   "outputs": [],
   "source": [
    "DATAPATH = \"https://www.i3s.unice.fr/~riveill/dataset/pollution.csv\""
   ]
  },
  {
   "cell_type": "code",
   "execution_count": 30,
   "metadata": {
    "ExecuteTime": {
     "end_time": "2021-10-05T11:21:51.859318Z",
     "start_time": "2021-10-05T11:21:51.213792Z"
    }
   },
   "outputs": [
    {
     "data": {
      "text/html": [
       "<div>\n",
       "<style scoped>\n",
       "    .dataframe tbody tr th:only-of-type {\n",
       "        vertical-align: middle;\n",
       "    }\n",
       "\n",
       "    .dataframe tbody tr th {\n",
       "        vertical-align: top;\n",
       "    }\n",
       "\n",
       "    .dataframe thead th {\n",
       "        text-align: right;\n",
       "    }\n",
       "</style>\n",
       "<table border=\"1\" class=\"dataframe\">\n",
       "  <thead>\n",
       "    <tr style=\"text-align: right;\">\n",
       "      <th></th>\n",
       "      <th>pollution</th>\n",
       "      <th>dew</th>\n",
       "      <th>temp</th>\n",
       "      <th>press</th>\n",
       "      <th>wnd_dir</th>\n",
       "      <th>wnd_spd</th>\n",
       "      <th>snow</th>\n",
       "      <th>rain</th>\n",
       "    </tr>\n",
       "    <tr>\n",
       "      <th>date</th>\n",
       "      <th></th>\n",
       "      <th></th>\n",
       "      <th></th>\n",
       "      <th></th>\n",
       "      <th></th>\n",
       "      <th></th>\n",
       "      <th></th>\n",
       "      <th></th>\n",
       "    </tr>\n",
       "  </thead>\n",
       "  <tbody>\n",
       "    <tr>\n",
       "      <th>2010-01-02 00:00:00</th>\n",
       "      <td>129.0</td>\n",
       "      <td>-16</td>\n",
       "      <td>-4.0</td>\n",
       "      <td>1020.0</td>\n",
       "      <td>SE</td>\n",
       "      <td>1.79</td>\n",
       "      <td>0</td>\n",
       "      <td>0</td>\n",
       "    </tr>\n",
       "    <tr>\n",
       "      <th>2010-01-02 01:00:00</th>\n",
       "      <td>148.0</td>\n",
       "      <td>-15</td>\n",
       "      <td>-4.0</td>\n",
       "      <td>1020.0</td>\n",
       "      <td>SE</td>\n",
       "      <td>2.68</td>\n",
       "      <td>0</td>\n",
       "      <td>0</td>\n",
       "    </tr>\n",
       "    <tr>\n",
       "      <th>2010-01-02 02:00:00</th>\n",
       "      <td>159.0</td>\n",
       "      <td>-11</td>\n",
       "      <td>-5.0</td>\n",
       "      <td>1021.0</td>\n",
       "      <td>SE</td>\n",
       "      <td>3.57</td>\n",
       "      <td>0</td>\n",
       "      <td>0</td>\n",
       "    </tr>\n",
       "    <tr>\n",
       "      <th>2010-01-02 03:00:00</th>\n",
       "      <td>181.0</td>\n",
       "      <td>-7</td>\n",
       "      <td>-5.0</td>\n",
       "      <td>1022.0</td>\n",
       "      <td>SE</td>\n",
       "      <td>5.36</td>\n",
       "      <td>1</td>\n",
       "      <td>0</td>\n",
       "    </tr>\n",
       "    <tr>\n",
       "      <th>2010-01-02 04:00:00</th>\n",
       "      <td>138.0</td>\n",
       "      <td>-7</td>\n",
       "      <td>-5.0</td>\n",
       "      <td>1022.0</td>\n",
       "      <td>SE</td>\n",
       "      <td>6.25</td>\n",
       "      <td>2</td>\n",
       "      <td>0</td>\n",
       "    </tr>\n",
       "  </tbody>\n",
       "</table>\n",
       "</div>"
      ],
      "text/plain": [
       "                     pollution  dew  temp   press wnd_dir  wnd_spd  snow  rain\n",
       "date                                                                          \n",
       "2010-01-02 00:00:00      129.0  -16  -4.0  1020.0      SE     1.79     0     0\n",
       "2010-01-02 01:00:00      148.0  -15  -4.0  1020.0      SE     2.68     0     0\n",
       "2010-01-02 02:00:00      159.0  -11  -5.0  1021.0      SE     3.57     0     0\n",
       "2010-01-02 03:00:00      181.0   -7  -5.0  1022.0      SE     5.36     1     0\n",
       "2010-01-02 04:00:00      138.0   -7  -5.0  1022.0      SE     6.25     2     0"
      ]
     },
     "execution_count": 30,
     "metadata": {},
     "output_type": "execute_result"
    }
   ],
   "source": [
    "# Read the dataset\n",
    "data = pd.read_csv(DATAPATH, sep=\",\", header=0, index_col=0)\n",
    "data.head()"
   ]
  },
  {
   "cell_type": "code",
   "execution_count": 31,
   "metadata": {
    "ExecuteTime": {
     "end_time": "2021-10-05T11:21:53.257136Z",
     "start_time": "2021-10-05T11:21:52.563877Z"
    }
   },
   "outputs": [
    {
     "data": {
      "image/png": "[encoded data removed]",
      "text/plain": [
       "<Figure size 432x288 with 8 Axes>"
      ]
     },
     "metadata": {
      "needs_background": "light"
     },
     "output_type": "display_data"
    }
   ],
   "source": [
    "plt.figure()\n",
    "for i, column in enumerate(data.columns):\n",
    "    plt.subplot(len(data.columns), 1, i+1)\n",
    "    plt.plot(data[column].to_numpy())\n",
    "    plt.title(column, y=0.5, loc='right')\n",
    "plt.show()"
   ]
  },
  {
   "cell_type": "markdown",
   "metadata": {},
   "source": [
    "### Construct the dataset"
   ]
  },
  {
   "cell_type": "markdown",
   "metadata": {},
   "source": [
    "The first step is to prepare the pollution dataset for the LSTM.\n",
    "\n",
    "This involves framing the dataset as a supervised learning problem and normalizing the input variables.\n",
    "\n",
    "We will frame the supervised learning problem as predicting the pollution at the current hour (t) given the pollution measurement and weather conditions at the prior time step."
   ]
  },
  {
   "cell_type": "code",
   "execution_count": 32,
   "metadata": {
    "ExecuteTime": {
     "end_time": "2021-10-05T11:21:54.570978Z",
     "start_time": "2021-10-05T11:21:54.558990Z"
    }
   },
   "outputs": [
    {
     "data": {
      "text/plain": [
       "8"
      ]
     },
     "execution_count": 32,
     "metadata": {},
     "output_type": "execute_result"
    }
   ],
   "source": [
    "n_features = data.shape[1] # for multivariate time series\n",
    "n_in = 6\n",
    "n_out = 1\n",
    "output = [\"pollution\"]\n",
    "\n",
    "n_features"
   ]
  },
  {
   "cell_type": "markdown",
   "metadata": {
    "ExecuteTime": {
     "end_time": "2022-01-29T15:23:32.105879Z",
     "start_time": "2022-01-29T15:23:32.096418Z"
    }
   },
   "source": [
    "<font color='red'>\n",
    "$TO DO - Students$\n",
    "\n",
    "* using `series_to_supervised` function build the dataset\n",
    "</font>"
   ]
  },
  {
   "cell_type": "code",
   "execution_count": 33,
   "metadata": {
    "ExecuteTime": {
     "end_time": "2021-10-05T11:21:55.559562Z",
     "start_time": "2021-10-05T11:21:55.422286Z"
    }
   },
   "outputs": [
    {
     "data": {
      "text/html": [
       "<div>\n",
       "<style scoped>\n",
       "    .dataframe tbody tr th:only-of-type {\n",
       "        vertical-align: middle;\n",
       "    }\n",
       "\n",
       "    .dataframe tbody tr th {\n",
       "        vertical-align: top;\n",
       "    }\n",
       "\n",
       "    .dataframe thead th {\n",
       "        text-align: right;\n",
       "    }\n",
       "</style>\n",
       "<table border=\"1\" class=\"dataframe\">\n",
       "  <thead>\n",
       "    <tr style=\"text-align: right;\">\n",
       "      <th></th>\n",
       "      <th>pollution(t-6)</th>\n",
       "      <th>dew(t-6)</th>\n",
       "      <th>temp(t-6)</th>\n",
       "      <th>press(t-6)</th>\n",
       "      <th>wnd_dir(t-6)</th>\n",
       "      <th>wnd_spd(t-6)</th>\n",
       "      <th>snow(t-6)</th>\n",
       "      <th>rain(t-6)</th>\n",
       "      <th>pollution(t-5)</th>\n",
       "      <th>dew(t-5)</th>\n",
       "      <th>...</th>\n",
       "      <th>rain(t-2)</th>\n",
       "      <th>pollution(t-1)</th>\n",
       "      <th>dew(t-1)</th>\n",
       "      <th>temp(t-1)</th>\n",
       "      <th>press(t-1)</th>\n",
       "      <th>wnd_dir(t-1)</th>\n",
       "      <th>wnd_spd(t-1)</th>\n",
       "      <th>snow(t-1)</th>\n",
       "      <th>rain(t-1)</th>\n",
       "      <th>pollution(t)</th>\n",
       "    </tr>\n",
       "    <tr>\n",
       "      <th>date</th>\n",
       "      <th></th>\n",
       "      <th></th>\n",
       "      <th></th>\n",
       "      <th></th>\n",
       "      <th></th>\n",
       "      <th></th>\n",
       "      <th></th>\n",
       "      <th></th>\n",
       "      <th></th>\n",
       "      <th></th>\n",
       "      <th></th>\n",
       "      <th></th>\n",
       "      <th></th>\n",
       "      <th></th>\n",
       "      <th></th>\n",
       "      <th></th>\n",
       "      <th></th>\n",
       "      <th></th>\n",
       "      <th></th>\n",
       "      <th></th>\n",
       "      <th></th>\n",
       "    </tr>\n",
       "  </thead>\n",
       "  <tbody>\n",
       "    <tr>\n",
       "      <th>2010-01-02 06:00:00</th>\n",
       "      <td>129.0</td>\n",
       "      <td>-16.0</td>\n",
       "      <td>-4.0</td>\n",
       "      <td>1020.0</td>\n",
       "      <td>SE</td>\n",
       "      <td>1.79</td>\n",
       "      <td>0.0</td>\n",
       "      <td>0.0</td>\n",
       "      <td>148.0</td>\n",
       "      <td>-15.0</td>\n",
       "      <td>...</td>\n",
       "      <td>0.0</td>\n",
       "      <td>109.0</td>\n",
       "      <td>-7.0</td>\n",
       "      <td>-6.0</td>\n",
       "      <td>1022.0</td>\n",
       "      <td>SE</td>\n",
       "      <td>7.14</td>\n",
       "      <td>3.0</td>\n",
       "      <td>0.0</td>\n",
       "      <td>105.0</td>\n",
       "    </tr>\n",
       "    <tr>\n",
       "      <th>2010-01-02 07:00:00</th>\n",
       "      <td>148.0</td>\n",
       "      <td>-15.0</td>\n",
       "      <td>-4.0</td>\n",
       "      <td>1020.0</td>\n",
       "      <td>SE</td>\n",
       "      <td>2.68</td>\n",
       "      <td>0.0</td>\n",
       "      <td>0.0</td>\n",
       "      <td>159.0</td>\n",
       "      <td>-11.0</td>\n",
       "      <td>...</td>\n",
       "      <td>0.0</td>\n",
       "      <td>105.0</td>\n",
       "      <td>-7.0</td>\n",
       "      <td>-6.0</td>\n",
       "      <td>1023.0</td>\n",
       "      <td>SE</td>\n",
       "      <td>8.93</td>\n",
       "      <td>4.0</td>\n",
       "      <td>0.0</td>\n",
       "      <td>124.0</td>\n",
       "    </tr>\n",
       "    <tr>\n",
       "      <th>2010-01-02 08:00:00</th>\n",
       "      <td>159.0</td>\n",
       "      <td>-11.0</td>\n",
       "      <td>-5.0</td>\n",
       "      <td>1021.0</td>\n",
       "      <td>SE</td>\n",
       "      <td>3.57</td>\n",
       "      <td>0.0</td>\n",
       "      <td>0.0</td>\n",
       "      <td>181.0</td>\n",
       "      <td>-7.0</td>\n",
       "      <td>...</td>\n",
       "      <td>0.0</td>\n",
       "      <td>124.0</td>\n",
       "      <td>-7.0</td>\n",
       "      <td>-5.0</td>\n",
       "      <td>1024.0</td>\n",
       "      <td>SE</td>\n",
       "      <td>10.72</td>\n",
       "      <td>0.0</td>\n",
       "      <td>0.0</td>\n",
       "      <td>120.0</td>\n",
       "    </tr>\n",
       "    <tr>\n",
       "      <th>2010-01-02 09:00:00</th>\n",
       "      <td>181.0</td>\n",
       "      <td>-7.0</td>\n",
       "      <td>-5.0</td>\n",
       "      <td>1022.0</td>\n",
       "      <td>SE</td>\n",
       "      <td>5.36</td>\n",
       "      <td>1.0</td>\n",
       "      <td>0.0</td>\n",
       "      <td>138.0</td>\n",
       "      <td>-7.0</td>\n",
       "      <td>...</td>\n",
       "      <td>0.0</td>\n",
       "      <td>120.0</td>\n",
       "      <td>-8.0</td>\n",
       "      <td>-6.0</td>\n",
       "      <td>1024.0</td>\n",
       "      <td>SE</td>\n",
       "      <td>12.51</td>\n",
       "      <td>0.0</td>\n",
       "      <td>0.0</td>\n",
       "      <td>132.0</td>\n",
       "    </tr>\n",
       "    <tr>\n",
       "      <th>2010-01-02 10:00:00</th>\n",
       "      <td>138.0</td>\n",
       "      <td>-7.0</td>\n",
       "      <td>-5.0</td>\n",
       "      <td>1022.0</td>\n",
       "      <td>SE</td>\n",
       "      <td>6.25</td>\n",
       "      <td>2.0</td>\n",
       "      <td>0.0</td>\n",
       "      <td>109.0</td>\n",
       "      <td>-7.0</td>\n",
       "      <td>...</td>\n",
       "      <td>0.0</td>\n",
       "      <td>132.0</td>\n",
       "      <td>-7.0</td>\n",
       "      <td>-5.0</td>\n",
       "      <td>1025.0</td>\n",
       "      <td>SE</td>\n",
       "      <td>14.30</td>\n",
       "      <td>0.0</td>\n",
       "      <td>0.0</td>\n",
       "      <td>140.0</td>\n",
       "    </tr>\n",
       "  </tbody>\n",
       "</table>\n",
       "<p>5 rows × 49 columns</p>\n",
       "</div>"
      ],
      "text/plain": [
       "                     pollution(t-6)  dew(t-6)  temp(t-6)  press(t-6)  \\\n",
       "date                                                                   \n",
       "2010-01-02 06:00:00           129.0     -16.0       -4.0      1020.0   \n",
       "2010-01-02 07:00:00           148.0     -15.0       -4.0      1020.0   \n",
       "2010-01-02 08:00:00           159.0     -11.0       -5.0      1021.0   \n",
       "2010-01-02 09:00:00           181.0      -7.0       -5.0      1022.0   \n",
       "2010-01-02 10:00:00           138.0      -7.0       -5.0      1022.0   \n",
       "\n",
       "                    wnd_dir(t-6)  wnd_spd(t-6)  snow(t-6)  rain(t-6)  \\\n",
       "date                                                                   \n",
       "2010-01-02 06:00:00           SE          1.79        0.0        0.0   \n",
       "2010-01-02 07:00:00           SE          2.68        0.0        0.0   \n",
       "2010-01-02 08:00:00           SE          3.57        0.0        0.0   \n",
       "2010-01-02 09:00:00           SE          5.36        1.0        0.0   \n",
       "2010-01-02 10:00:00           SE          6.25        2.0        0.0   \n",
       "\n",
       "                     pollution(t-5)  dew(t-5)  ...  rain(t-2)  pollution(t-1)  \\\n",
       "date                                           ...                              \n",
       "2010-01-02 06:00:00           148.0     -15.0  ...        0.0           109.0   \n",
       "2010-01-02 07:00:00           159.0     -11.0  ...        0.0           105.0   \n",
       "2010-01-02 08:00:00           181.0      -7.0  ...        0.0           124.0   \n",
       "2010-01-02 09:00:00           138.0      -7.0  ...        0.0           120.0   \n",
       "2010-01-02 10:00:00           109.0      -7.0  ...        0.0           132.0   \n",
       "\n",
       "                    dew(t-1)  temp(t-1)  press(t-1)  wnd_dir(t-1)  \\\n",
       "date                                                                \n",
       "2010-01-02 06:00:00     -7.0       -6.0      1022.0            SE   \n",
       "2010-01-02 07:00:00     -7.0       -6.0      1023.0            SE   \n",
       "2010-01-02 08:00:00     -7.0       -5.0      1024.0            SE   \n",
       "2010-01-02 09:00:00     -8.0       -6.0      1024.0            SE   \n",
       "2010-01-02 10:00:00     -7.0       -5.0      1025.0            SE   \n",
       "\n",
       "                     wnd_spd(t-1)  snow(t-1)  rain(t-1)  pollution(t)  \n",
       "date                                                                   \n",
       "2010-01-02 06:00:00          7.14        3.0        0.0         105.0  \n",
       "2010-01-02 07:00:00          8.93        4.0        0.0         124.0  \n",
       "2010-01-02 08:00:00         10.72        0.0        0.0         120.0  \n",
       "2010-01-02 09:00:00         12.51        0.0        0.0         132.0  \n",
       "2010-01-02 10:00:00         14.30        0.0        0.0         140.0  \n",
       "\n",
       "[5 rows x 49 columns]"
      ]
     },
     "execution_count": 33,
     "metadata": {},
     "output_type": "execute_result"
    }
   ],
   "source": [
    "dataset = series_to_supervised(data, n_in, n_out, output=output)\n",
    "dataset.head()"
   ]
  },
  {
   "cell_type": "code",
   "execution_count": 34,
   "metadata": {
    "ExecuteTime": {
     "end_time": "2021-10-05T11:21:56.389487Z",
     "start_time": "2021-10-05T11:21:56.377464Z"
    }
   },
   "outputs": [
    {
     "data": {
      "text/plain": [
       "pollution(t-6)    float64\n",
       "dew(t-6)          float64\n",
       "temp(t-6)         float64\n",
       "press(t-6)        float64\n",
       "wnd_dir(t-6)       object\n",
       "wnd_spd(t-6)      float64\n",
       "snow(t-6)         float64\n",
       "rain(t-6)         float64\n",
       "pollution(t-5)    float64\n",
       "dew(t-5)          float64\n",
       "temp(t-5)         float64\n",
       "press(t-5)        float64\n",
       "wnd_dir(t-5)       object\n",
       "wnd_spd(t-5)      float64\n",
       "snow(t-5)         float64\n",
       "rain(t-5)         float64\n",
       "pollution(t-4)    float64\n",
       "dew(t-4)          float64\n",
       "temp(t-4)         float64\n",
       "press(t-4)        float64\n",
       "wnd_dir(t-4)       object\n",
       "wnd_spd(t-4)      float64\n",
       "snow(t-4)         float64\n",
       "rain(t-4)         float64\n",
       "pollution(t-3)    float64\n",
       "dew(t-3)          float64\n",
       "temp(t-3)         float64\n",
       "press(t-3)        float64\n",
       "wnd_dir(t-3)       object\n",
       "wnd_spd(t-3)      float64\n",
       "snow(t-3)         float64\n",
       "rain(t-3)         float64\n",
       "pollution(t-2)    float64\n",
       "dew(t-2)          float64\n",
       "temp(t-2)         float64\n",
       "press(t-2)        float64\n",
       "wnd_dir(t-2)       object\n",
       "wnd_spd(t-2)      float64\n",
       "snow(t-2)         float64\n",
       "rain(t-2)         float64\n",
       "pollution(t-1)    float64\n",
       "dew(t-1)          float64\n",
       "temp(t-1)         float64\n",
       "press(t-1)        float64\n",
       "wnd_dir(t-1)       object\n",
       "wnd_spd(t-1)      float64\n",
       "snow(t-1)         float64\n",
       "rain(t-1)         float64\n",
       "pollution(t)      float64\n",
       "dtype: object"
      ]
     },
     "execution_count": 34,
     "metadata": {},
     "output_type": "execute_result"
    }
   ],
   "source": [
    "dataset.dtypes"
   ]
  },
  {
   "cell_type": "markdown",
   "metadata": {},
   "source": [
    "<font color='blue'>\n",
    "<bold>dataset.dtypes gives the following result for me</bold>\n",
    "\n",
    "<pre>\n",
    "pollution(t-6)    float64\n",
    "dew(t-6)          float64\n",
    "temp(t-6)         float64\n",
    "press(t-6)        float64\n",
    "wnd_dir(t-6)       object\n",
    "wnd_spd(t-6)      float64\n",
    "snow(t-6)         float64\n",
    "rain(t-6)         float64\n",
    "pollution(t-5)    float64\n",
    "dew(t-5)          float64\n",
    "temp(t-5)         float64\n",
    "press(t-5)        float64\n",
    "wnd_dir(t-5)       object\n",
    "wnd_spd(t-5)      float64\n",
    "snow(t-5)         float64\n",
    "rain(t-5)         float64\n",
    "pollution(t-4)    float64\n",
    "dew(t-4)          float64\n",
    "temp(t-4)         float64\n",
    "press(t-4)        float64\n",
    "wnd_dir(t-4)       object\n",
    "wnd_spd(t-4)      float64\n",
    "snow(t-4)         float64\n",
    "rain(t-4)         float64\n",
    "pollution(t-3)    float64\n",
    "dew(t-3)          float64\n",
    "temp(t-3)         float64\n",
    "press(t-3)        float64\n",
    "wnd_dir(t-3)       object\n",
    "wnd_spd(t-3)      float64\n",
    "snow(t-3)         float64\n",
    "rain(t-3)         float64\n",
    "pollution(t-2)    float64\n",
    "dew(t-2)          float64\n",
    "temp(t-2)         float64\n",
    "press(t-2)        float64\n",
    "wnd_dir(t-2)       object\n",
    "wnd_spd(t-2)      float64\n",
    "snow(t-2)         float64\n",
    "rain(t-2)         float64\n",
    "pollution(t-1)    float64\n",
    "dew(t-1)          float64\n",
    "temp(t-1)         float64\n",
    "press(t-1)        float64\n",
    "wnd_dir(t-1)       object\n",
    "wnd_spd(t-1)      float64\n",
    "snow(t-1)         float64\n",
    "rain(t-1)         float64\n",
    "pollution(t)      float64\n",
    "dtype: object\n",
    "<pre>\n",
    "</font>"
   ]
  },
  {
   "cell_type": "markdown",
   "metadata": {},
   "source": [
    "First, we must split the prepared dataset into train and test sets. To speed up the training of the model for this demonstration, we will only fit the model on the first year of data, then evaluate it on the remaining 4 years of data. \n",
    "\n",
    "The example below splits the dataset into train and test sets, then splits the train and test sets into input and output variables. Finally, the inputs (X) are reshaped into the 3D format expected by LSTMs, namely [samples, timesteps, features]."
   ]
  },
  {
   "cell_type": "code",
   "execution_count": 35,
   "metadata": {
    "ExecuteTime": {
     "end_time": "2021-10-05T11:21:57.878625Z",
     "start_time": "2021-10-05T11:21:57.754945Z"
    }
   },
   "outputs": [
    {
     "data": {
      "text/plain": [
       "((8760, 6, 8), (8760,))"
      ]
     },
     "execution_count": 35,
     "metadata": {},
     "output_type": "execute_result"
    }
   ],
   "source": [
    "# get the values\n",
    "values = dataset.values\n",
    "\n",
    "# split into train and test sets\n",
    "n_train_hours = 365 * 24\n",
    "train = values[:n_train_hours, :]\n",
    "val = values[n_train_hours:2*n_train_hours, :]\n",
    "test = values[2*n_train_hours:, :]\n",
    "\n",
    "# split into input and outputs\n",
    "train_X, train_y = train[:, :-n_out], np.array(train[:, -n_out], dtype=\"float64\")\n",
    "val_X, val_y = val[:, :-n_out], np.array(val[:, -n_out], dtype=\"float64\")\n",
    "test_X, test_y = test[:, :-n_out], np.array(test[:, -n_out], dtype=\"float64\")\n",
    "\n",
    "# reshape input to be 3D [samples, timesteps, features]\n",
    "train_X = train_X.reshape((train_X.shape[0], n_in, n_features))\n",
    "val_X = val_X.reshape((val_X.shape[0], n_in, n_features))\n",
    "test_X = test_X.reshape((test_X.shape[0], n_in, n_features))\n",
    "train_X.shape, train_y.shape"
   ]
  },
  {
   "cell_type": "markdown",
   "metadata": {},
   "source": [
    "### Encode and normalize dataset"
   ]
  },
  {
   "cell_type": "markdown",
   "metadata": {},
   "source": [
    "Data encoding and normalization\n",
    "* The wind direction feature is label encoded (integer encoded).\n",
    "* All features are normalized\n",
    "\n",
    "And then the dataset is transformed into a supervised learning problem. The weather variables for the hour to be predicted (t) are then removed."
   ]
  },
  {
   "cell_type": "code",
   "execution_count": 36,
   "metadata": {
    "ExecuteTime": {
     "end_time": "2021-10-05T11:21:59.374382Z",
     "start_time": "2021-10-05T11:21:59.100558Z"
    }
   },
   "outputs": [
    {
     "data": {
      "text/plain": [
       "11"
      ]
     },
     "execution_count": 36,
     "metadata": {},
     "output_type": "execute_result"
    }
   ],
   "source": [
    "numeric_features = [i for i, t in enumerate(dataset.dtypes[:-n_out]) if t in ['float64', 'int32']]\n",
    "numeric_transformer = Pipeline(steps=[\n",
    "    ('imputer', SimpleImputer(strategy='median')),\n",
    "    ('scaler', StandardScaler())])\n",
    "\n",
    "categorical_features = [i for i in range(len(dataset.columns)-n_out) if i not in numeric_features]\n",
    "categorical_transformer = OneHotEncoder(handle_unknown='ignore')\n",
    "\n",
    "preprocessor = ColumnTransformer(\n",
    "    transformers=[\n",
    "        ('num', numeric_transformer, numeric_features),\n",
    "        ('cat', categorical_transformer, categorical_features)])\n",
    "\n",
    "train_X_enc = preprocessor.fit_transform(train_X.reshape(len(train_X), -1)).reshape(len(train_X), n_in, -1)\n",
    "val_X_enc = preprocessor.fit_transform(val_X.reshape(len(val_X), -1)).reshape(len(val_X), n_in, -1)\n",
    "test_X_enc = preprocessor.transform(test_X.reshape(len(test_X), -1)).reshape(len(test_X), n_in, -1)\n",
    "                                                                                    \n",
    "n_features = train_X_enc.shape[2] # Change with oneHotEncode\n",
    "n_features"
   ]
  },
  {
   "cell_type": "markdown",
   "metadata": {},
   "source": [
    "Running the code below prepare the data. Executing the next cell, prints the first 5 rows of the transformed dataset. We can see the 8 input variables (input series) and the 1 output variable (pollution level at the current hour)."
   ]
  },
  {
   "cell_type": "markdown",
   "metadata": {},
   "source": [
    "### Build, Compile, Fit, Predict and Evaluate a model\n",
    "<br>\n",
    "<font color='red'>\n",
    "$TO DO - Students$\n",
    "\n",
    "* Build your model\n",
    "    * Put the number of hidden layers you want. If possible more than one.\n",
    "</font>"
   ]
  },
  {
   "cell_type": "code",
   "execution_count": 37,
   "metadata": {
    "ExecuteTime": {
     "end_time": "2021-10-05T11:22:00.977488Z",
     "start_time": "2021-10-05T11:22:00.871405Z"
    }
   },
   "outputs": [
    {
     "name": "stdout",
     "output_type": "stream",
     "text": [
      "Model: \"model_3\"\n",
      "_________________________________________________________________\n",
      " Layer (type)                Output Shape              Param #   \n",
      "=================================================================\n",
      " input_3 (InputLayer)        [(None, 6, 11)]           0         \n",
      "                                                                 \n",
      " lstm_5 (LSTM)               (None, 6, 16)             1792      \n",
      "                                                                 \n",
      " lstm_6 (LSTM)               (None, 16)                2112      \n",
      "                                                                 \n",
      " dense_2 (Dense)             (None, 1)                 17        \n",
      "                                                                 \n",
      "=================================================================\n",
      "Total params: 3,921\n",
      "Trainable params: 3,921\n",
      "Non-trainable params: 0\n",
      "_________________________________________________________________\n"
     ]
    }
   ],
   "source": [
    "LSTM_SIZE = 16\n",
    "# explained in previous cells\n",
    "inputs = Input(shape=(n_in, n_features)) \n",
    "hidden = LSTM(LSTM_SIZE, return_sequences=True, activation='relu')(inputs)\n",
    "hidden1 = LSTM(LSTM_SIZE, return_sequences=False, activation='relu')(hidden)\n",
    "outputs = Dense(n_out, activation='linear')(hidden1)\n",
    "model = Model(inputs=inputs, outputs=outputs)\n",
    "model.summary()\n"
   ]
  },
  {
   "cell_type": "markdown",
   "metadata": {},
   "source": [
    "<font color='red'>\n",
    "$TO DO - Students$\n",
    "\n",
    "* Compile your model\n",
    "</font>"
   ]
  },
  {
   "cell_type": "code",
   "execution_count": 38,
   "metadata": {
    "ExecuteTime": {
     "end_time": "2021-10-05T11:22:01.487980Z",
     "start_time": "2021-10-05T11:22:01.476341Z"
    }
   },
   "outputs": [],
   "source": [
    "# Compile the model\n",
    "model.compile(loss='mae', metrics=[\"mae\"], optimizer='adam')"
   ]
  },
  {
   "cell_type": "code",
   "execution_count": 39,
   "metadata": {},
   "outputs": [
    {
     "data": {
      "text/plain": [
       "array([105., 124., 120., ...,  19.,  18.,  17.])"
      ]
     },
     "execution_count": 39,
     "metadata": {},
     "output_type": "execute_result"
    }
   ],
   "source": [
    "train_y"
   ]
  },
  {
   "cell_type": "markdown",
   "metadata": {},
   "source": [
    "<font color='red'>\n",
    "$TO DO - Students$\n",
    "\n",
    "* Fit your model using `EarlyStopping`\n",
    "</font>"
   ]
  },
  {
   "cell_type": "code",
   "execution_count": 40,
   "metadata": {
    "ExecuteTime": {
     "end_time": "2021-10-05T11:22:46.035637Z",
     "start_time": "2021-10-05T11:22:02.120718Z"
    }
   },
   "outputs": [
    {
     "name": "stdout",
     "output_type": "stream",
     "text": [
      "Epoch 1/20\n",
      "274/274 [==============================] - 3s 7ms/step - loss: 65.4177 - mae: 65.4177 - val_loss: 33.3115 - val_mae: 33.3115\n",
      "Epoch 2/20\n",
      "274/274 [==============================] - 2s 6ms/step - loss: 29.8629 - mae: 29.8629 - val_loss: 25.1943 - val_mae: 25.1943\n",
      "Epoch 3/20\n",
      "274/274 [==============================] - 2s 6ms/step - loss: 24.5238 - mae: 24.5238 - val_loss: 23.1780 - val_mae: 23.1780\n",
      "Epoch 4/20\n",
      "274/274 [==============================] - 2s 6ms/step - loss: 22.1159 - mae: 22.1159 - val_loss: 21.5053 - val_mae: 21.5053\n",
      "Epoch 5/20\n",
      "274/274 [==============================] - 2s 6ms/step - loss: 20.6223 - mae: 20.6223 - val_loss: 19.6912 - val_mae: 19.6912\n",
      "Epoch 6/20\n",
      "274/274 [==============================] - 2s 6ms/step - loss: 19.0916 - mae: 19.0916 - val_loss: 17.7578 - val_mae: 17.7578\n",
      "Epoch 7/20\n",
      "274/274 [==============================] - 2s 6ms/step - loss: 18.1946 - mae: 18.1946 - val_loss: 17.5261 - val_mae: 17.5261\n",
      "Epoch 8/20\n",
      "274/274 [==============================] - 2s 6ms/step - loss: 17.1269 - mae: 17.1269 - val_loss: 17.4061 - val_mae: 17.4061\n",
      "Epoch 9/20\n",
      "274/274 [==============================] - 2s 6ms/step - loss: 16.5975 - mae: 16.5975 - val_loss: 16.4061 - val_mae: 16.4061\n",
      "Epoch 10/20\n",
      "274/274 [==============================] - 2s 6ms/step - loss: 16.1442 - mae: 16.1442 - val_loss: 15.7698 - val_mae: 15.7698\n",
      "Epoch 11/20\n",
      "274/274 [==============================] - 2s 6ms/step - loss: 15.6416 - mae: 15.6416 - val_loss: 17.7061 - val_mae: 17.7061\n",
      "Epoch 12/20\n",
      "274/274 [==============================] - 2s 6ms/step - loss: 15.2375 - mae: 15.2375 - val_loss: 17.0824 - val_mae: 17.0824\n",
      "Epoch 13/20\n",
      "274/274 [==============================] - 2s 6ms/step - loss: 15.0410 - mae: 15.0410 - val_loss: 15.5933 - val_mae: 15.5933\n",
      "Epoch 14/20\n",
      "274/274 [==============================] - 2s 6ms/step - loss: 14.9155 - mae: 14.9155 - val_loss: 15.6845 - val_mae: 15.6845\n",
      "Epoch 15/20\n",
      "274/274 [==============================] - 2s 6ms/step - loss: 14.9138 - mae: 14.9138 - val_loss: 14.7052 - val_mae: 14.7052\n",
      "Epoch 16/20\n",
      "274/274 [==============================] - 2s 7ms/step - loss: 14.5185 - mae: 14.5185 - val_loss: 15.7577 - val_mae: 15.7577\n",
      "Epoch 17/20\n",
      "274/274 [==============================] - 2s 6ms/step - loss: 14.4077 - mae: 14.4077 - val_loss: 14.7903 - val_mae: 14.7903\n",
      "Epoch 18/20\n",
      "274/274 [==============================] - 2s 6ms/step - loss: 14.4461 - mae: 14.4461 - val_loss: 15.2234 - val_mae: 15.2234\n",
      "Epoch 19/20\n",
      "274/274 [==============================] - 2s 6ms/step - loss: 14.5844 - mae: 14.5844 - val_loss: 15.4186 - val_mae: 15.4186\n",
      "Epoch 20/20\n",
      "274/274 [==============================] - 2s 6ms/step - loss: 14.2142 - mae: 14.2142 - val_loss: 15.3496 - val_mae: 15.3496\n"
     ]
    }
   ],
   "source": [
    "# Early stopping\n",
    "es = EarlyStopping(monitor='val_mae', min_delta=0.005, patience=20,\n",
    "                                verbose=2, mode='min', restore_best_weights=True)\n",
    "# fit the model and save it to the historyh\n",
    "history = model.fit(train_X_enc, train_y, validation_data = (val_X_enc,val_y), callbacks=[es],\n",
    "                    batch_size=32, epochs=20)"
   ]
  },
  {
   "cell_type": "markdown",
   "metadata": {
    "ExecuteTime": {
     "end_time": "2022-01-29T15:27:52.753563Z",
     "start_time": "2022-01-29T15:27:52.723119Z"
    }
   },
   "source": [
    "<font color='red'>\n",
    "$TO DO - Students$\n",
    "\n",
    "* Plot learning curve\n",
    "</font>"
   ]
  },
  {
   "cell_type": "code",
   "execution_count": 41,
   "metadata": {
    "ExecuteTime": {
     "end_time": "2021-10-05T11:22:46.219894Z",
     "start_time": "2021-10-05T11:22:46.042233Z"
    }
   },
   "outputs": [
    {
     "data": {
      "text/plain": [
       "<AxesSubplot:>"
      ]
     },
     "execution_count": 41,
     "metadata": {},
     "output_type": "execute_result"
    },
    {
     "data": {
      "image/png": "[encoded data removed]",
      "text/plain": [
       "<Figure size 576x360 with 1 Axes>"
      ]
     },
     "metadata": {
      "needs_background": "light"
     },
     "output_type": "display_data"
    }
   ],
   "source": [
    "\"\"\" PLOT \"\"\"\n",
    "# plot the learning curve.. code taken from the previous lab\n",
    "pd.DataFrame(history.history).plot(figsize=(8,5))"
   ]
  },
  {
   "cell_type": "code",
   "execution_count": 42,
   "metadata": {},
   "outputs": [
    {
     "data": {
      "image/png": "[encoded data removed]",
      "text/plain": [
       "<Figure size 1872x576 with 2 Axes>"
      ]
     },
     "metadata": {
      "needs_background": "light"
     },
     "output_type": "display_data"
    }
   ],
   "source": [
    "\n",
    "# plot the learning curve separetly.. code taken from the previous lab\n",
    "import matplotlib.pyplot as plt\n",
    "fig, (ax1, ax2) = plt.subplots(1, 2, figsize=(26,8))\n",
    "\n",
    "ax1.plot(history.history['loss'], label=\"loss\")\n",
    "ax1.plot(history.history['val_loss'], label=\"val_loss\")\n",
    "ax1.legend()\n",
    "ax2.plot(history.history['mae'], label=\"mae\")\n",
    "ax2.plot(history.history['val_mae'], label=\"val_mae\")\n",
    "ax2.legend()\n",
    "plt.show()"
   ]
  },
  {
   "cell_type": "markdown",
   "metadata": {},
   "source": [
    "<font color='red'>\n",
    "$TO DO - Students$\n",
    "\n",
    "* Use your model to predict test set data\n",
    "</font>"
   ]
  },
  {
   "cell_type": "code",
   "execution_count": 43,
   "metadata": {
    "ExecuteTime": {
     "end_time": "2021-10-05T11:22:47.463533Z",
     "start_time": "2021-10-05T11:22:46.226671Z"
    }
   },
   "outputs": [
    {
     "data": {
      "text/plain": [
       "array([[105.381615],\n",
       "       [107.22347 ],\n",
       "       [107.231804],\n",
       "       ...,\n",
       "       [ 18.147974],\n",
       "       [ 18.862795],\n",
       "       [ 18.528479]], dtype=float32)"
      ]
     },
     "execution_count": 43,
     "metadata": {},
     "output_type": "execute_result"
    }
   ],
   "source": [
    "# make a prediction\n",
    "pred = model.predict(test_X_enc)\n",
    "pred"
   ]
  },
  {
   "cell_type": "markdown",
   "metadata": {},
   "source": [
    "<font color='red'>\n",
    "$TO DO - Students$\n",
    "\n",
    "* Evaluate your model with RMSA\n",
    "</font>"
   ]
  },
  {
   "cell_type": "code",
   "execution_count": 44,
   "metadata": {
    "ExecuteTime": {
     "end_time": "2021-10-05T11:22:47.487113Z",
     "start_time": "2021-10-05T11:22:47.474485Z"
    }
   },
   "outputs": [],
   "source": [
    "# # calculate RMSE\n",
    "\n",
    "# import tensorflow as tf\n",
    "# import tensorflow.keras.backend as K\n",
    "\n",
    "\n",
    "# msle = tf.keras.losses.MeanSquaredLogarithmicError()\n",
    "# rmse = K.sqrt(msle(test_y, pred)) \n",
    "\n",
    "# # rmse = model.rmse\n",
    "# 'Test RMSE: %.3f' % rmse"
   ]
  },
  {
   "cell_type": "code",
   "execution_count": 45,
   "metadata": {},
   "outputs": [
    {
     "data": {
      "text/plain": [
       "'Test RMSE: 0.274'"
      ]
     },
     "execution_count": 45,
     "metadata": {},
     "output_type": "execute_result"
    }
   ],
   "source": [
    "# calculate RMSE\n",
    "from math import sqrt\n",
    "rmse = sqrt(mean_squared_error(test_y,pred)) # y_true = y_test\n",
    "rmse =rmse/100\n",
    "'Test RMSE: %.3f' % rmse"
   ]
  },
  {
   "cell_type": "markdown",
   "metadata": {},
   "source": [
    "### Predict next day\n",
    "\n",
    "Generally, what we are trying to predict is a pollution indicator for the day or per 12-hour period. \n",
    "\n",
    "Modify the datasets to create a new column giving a pollution indicator per half day: little pollution, moderate pollution, heavy pollution."
   ]
  },
  {
   "cell_type": "code",
   "execution_count": 46,
   "metadata": {},
   "outputs": [
    {
     "data": {
      "text/html": [
       "<div>\n",
       "<style scoped>\n",
       "    .dataframe tbody tr th:only-of-type {\n",
       "        vertical-align: middle;\n",
       "    }\n",
       "\n",
       "    .dataframe tbody tr th {\n",
       "        vertical-align: top;\n",
       "    }\n",
       "\n",
       "    .dataframe thead th {\n",
       "        text-align: right;\n",
       "    }\n",
       "</style>\n",
       "<table border=\"1\" class=\"dataframe\">\n",
       "  <thead>\n",
       "    <tr style=\"text-align: right;\">\n",
       "      <th></th>\n",
       "      <th>pollution</th>\n",
       "      <th>dew</th>\n",
       "      <th>temp</th>\n",
       "      <th>press</th>\n",
       "      <th>wnd_dir</th>\n",
       "      <th>wnd_spd</th>\n",
       "      <th>snow</th>\n",
       "      <th>rain</th>\n",
       "    </tr>\n",
       "    <tr>\n",
       "      <th>date</th>\n",
       "      <th></th>\n",
       "      <th></th>\n",
       "      <th></th>\n",
       "      <th></th>\n",
       "      <th></th>\n",
       "      <th></th>\n",
       "      <th></th>\n",
       "      <th></th>\n",
       "    </tr>\n",
       "  </thead>\n",
       "  <tbody>\n",
       "    <tr>\n",
       "      <th>2010-01-02 00:00:00</th>\n",
       "      <td>129.0</td>\n",
       "      <td>-16</td>\n",
       "      <td>-4.0</td>\n",
       "      <td>1020.0</td>\n",
       "      <td>SE</td>\n",
       "      <td>1.79</td>\n",
       "      <td>0</td>\n",
       "      <td>0</td>\n",
       "    </tr>\n",
       "    <tr>\n",
       "      <th>2010-01-02 01:00:00</th>\n",
       "      <td>148.0</td>\n",
       "      <td>-15</td>\n",
       "      <td>-4.0</td>\n",
       "      <td>1020.0</td>\n",
       "      <td>SE</td>\n",
       "      <td>2.68</td>\n",
       "      <td>0</td>\n",
       "      <td>0</td>\n",
       "    </tr>\n",
       "    <tr>\n",
       "      <th>2010-01-02 02:00:00</th>\n",
       "      <td>159.0</td>\n",
       "      <td>-11</td>\n",
       "      <td>-5.0</td>\n",
       "      <td>1021.0</td>\n",
       "      <td>SE</td>\n",
       "      <td>3.57</td>\n",
       "      <td>0</td>\n",
       "      <td>0</td>\n",
       "    </tr>\n",
       "    <tr>\n",
       "      <th>2010-01-02 03:00:00</th>\n",
       "      <td>181.0</td>\n",
       "      <td>-7</td>\n",
       "      <td>-5.0</td>\n",
       "      <td>1022.0</td>\n",
       "      <td>SE</td>\n",
       "      <td>5.36</td>\n",
       "      <td>1</td>\n",
       "      <td>0</td>\n",
       "    </tr>\n",
       "    <tr>\n",
       "      <th>2010-01-02 04:00:00</th>\n",
       "      <td>138.0</td>\n",
       "      <td>-7</td>\n",
       "      <td>-5.0</td>\n",
       "      <td>1022.0</td>\n",
       "      <td>SE</td>\n",
       "      <td>6.25</td>\n",
       "      <td>2</td>\n",
       "      <td>0</td>\n",
       "    </tr>\n",
       "    <tr>\n",
       "      <th>2010-01-02 05:00:00</th>\n",
       "      <td>109.0</td>\n",
       "      <td>-7</td>\n",
       "      <td>-6.0</td>\n",
       "      <td>1022.0</td>\n",
       "      <td>SE</td>\n",
       "      <td>7.14</td>\n",
       "      <td>3</td>\n",
       "      <td>0</td>\n",
       "    </tr>\n",
       "    <tr>\n",
       "      <th>2010-01-02 06:00:00</th>\n",
       "      <td>105.0</td>\n",
       "      <td>-7</td>\n",
       "      <td>-6.0</td>\n",
       "      <td>1023.0</td>\n",
       "      <td>SE</td>\n",
       "      <td>8.93</td>\n",
       "      <td>4</td>\n",
       "      <td>0</td>\n",
       "    </tr>\n",
       "    <tr>\n",
       "      <th>2010-01-02 07:00:00</th>\n",
       "      <td>124.0</td>\n",
       "      <td>-7</td>\n",
       "      <td>-5.0</td>\n",
       "      <td>1024.0</td>\n",
       "      <td>SE</td>\n",
       "      <td>10.72</td>\n",
       "      <td>0</td>\n",
       "      <td>0</td>\n",
       "    </tr>\n",
       "    <tr>\n",
       "      <th>2010-01-02 08:00:00</th>\n",
       "      <td>120.0</td>\n",
       "      <td>-8</td>\n",
       "      <td>-6.0</td>\n",
       "      <td>1024.0</td>\n",
       "      <td>SE</td>\n",
       "      <td>12.51</td>\n",
       "      <td>0</td>\n",
       "      <td>0</td>\n",
       "    </tr>\n",
       "    <tr>\n",
       "      <th>2010-01-02 09:00:00</th>\n",
       "      <td>132.0</td>\n",
       "      <td>-7</td>\n",
       "      <td>-5.0</td>\n",
       "      <td>1025.0</td>\n",
       "      <td>SE</td>\n",
       "      <td>14.30</td>\n",
       "      <td>0</td>\n",
       "      <td>0</td>\n",
       "    </tr>\n",
       "  </tbody>\n",
       "</table>\n",
       "</div>"
      ],
      "text/plain": [
       "                     pollution  dew  temp   press wnd_dir  wnd_spd  snow  rain\n",
       "date                                                                          \n",
       "2010-01-02 00:00:00      129.0  -16  -4.0  1020.0      SE     1.79     0     0\n",
       "2010-01-02 01:00:00      148.0  -15  -4.0  1020.0      SE     2.68     0     0\n",
       "2010-01-02 02:00:00      159.0  -11  -5.0  1021.0      SE     3.57     0     0\n",
       "2010-01-02 03:00:00      181.0   -7  -5.0  1022.0      SE     5.36     1     0\n",
       "2010-01-02 04:00:00      138.0   -7  -5.0  1022.0      SE     6.25     2     0\n",
       "2010-01-02 05:00:00      109.0   -7  -6.0  1022.0      SE     7.14     3     0\n",
       "2010-01-02 06:00:00      105.0   -7  -6.0  1023.0      SE     8.93     4     0\n",
       "2010-01-02 07:00:00      124.0   -7  -5.0  1024.0      SE    10.72     0     0\n",
       "2010-01-02 08:00:00      120.0   -8  -6.0  1024.0      SE    12.51     0     0\n",
       "2010-01-02 09:00:00      132.0   -7  -5.0  1025.0      SE    14.30     0     0"
      ]
     },
     "execution_count": 46,
     "metadata": {},
     "output_type": "execute_result"
    }
   ],
   "source": [
    "data.head(10)"
   ]
  },
  {
   "cell_type": "code",
   "execution_count": 47,
   "metadata": {},
   "outputs": [
    {
     "data": {
      "text/plain": [
       "(count    43800.000000\n",
       " mean        94.013516\n",
       " std         92.252276\n",
       " min          0.000000\n",
       " 25%         24.000000\n",
       " 50%         68.000000\n",
       " 75%        132.250000\n",
       " max        994.000000\n",
       " Name: pollution, dtype: float64,\n",
       " 68.0)"
      ]
     },
     "execution_count": 47,
     "metadata": {},
     "output_type": "execute_result"
    }
   ],
   "source": [
    "data['pollution'].describe() , data['pollution'].median()"
   ]
  },
  {
   "cell_type": "code",
   "execution_count": 48,
   "metadata": {},
   "outputs": [],
   "source": [
    "# fct to add the pollution indicator column \n",
    "def label_race (row):\n",
    "   if row['pollution'] >0 and row['pollution'] <24:\n",
    "      return 'little pollution'\n",
    "   if row['pollution'] >=24 and row['pollution'] <132:\n",
    "      return 'moderate pollution'\n",
    "   if row['pollution'] >=132:\n",
    "      return 'heavy pollution'\n",
    "   \n",
    "   return 'Other'"
   ]
  },
  {
   "cell_type": "code",
   "execution_count": 49,
   "metadata": {},
   "outputs": [],
   "source": [
    "# add the polution indicator column\n",
    "data['polution_indicator'] = data.apply (lambda row: label_race(row), axis=1)"
   ]
  },
  {
   "cell_type": "code",
   "execution_count": 50,
   "metadata": {},
   "outputs": [
    {
     "data": {
      "text/html": [
       "<div>\n",
       "<style scoped>\n",
       "    .dataframe tbody tr th:only-of-type {\n",
       "        vertical-align: middle;\n",
       "    }\n",
       "\n",
       "    .dataframe tbody tr th {\n",
       "        vertical-align: top;\n",
       "    }\n",
       "\n",
       "    .dataframe thead th {\n",
       "        text-align: right;\n",
       "    }\n",
       "</style>\n",
       "<table border=\"1\" class=\"dataframe\">\n",
       "  <thead>\n",
       "    <tr style=\"text-align: right;\">\n",
       "      <th></th>\n",
       "      <th>pollution</th>\n",
       "      <th>dew</th>\n",
       "      <th>temp</th>\n",
       "      <th>press</th>\n",
       "      <th>wnd_dir</th>\n",
       "      <th>wnd_spd</th>\n",
       "      <th>snow</th>\n",
       "      <th>rain</th>\n",
       "      <th>polution_indicator</th>\n",
       "    </tr>\n",
       "    <tr>\n",
       "      <th>date</th>\n",
       "      <th></th>\n",
       "      <th></th>\n",
       "      <th></th>\n",
       "      <th></th>\n",
       "      <th></th>\n",
       "      <th></th>\n",
       "      <th></th>\n",
       "      <th></th>\n",
       "      <th></th>\n",
       "    </tr>\n",
       "  </thead>\n",
       "  <tbody>\n",
       "    <tr>\n",
       "      <th>2010-01-02 00:00:00</th>\n",
       "      <td>129.0</td>\n",
       "      <td>-16</td>\n",
       "      <td>-4.0</td>\n",
       "      <td>1020.0</td>\n",
       "      <td>SE</td>\n",
       "      <td>1.79</td>\n",
       "      <td>0</td>\n",
       "      <td>0</td>\n",
       "      <td>moderate pollution</td>\n",
       "    </tr>\n",
       "    <tr>\n",
       "      <th>2010-01-02 01:00:00</th>\n",
       "      <td>148.0</td>\n",
       "      <td>-15</td>\n",
       "      <td>-4.0</td>\n",
       "      <td>1020.0</td>\n",
       "      <td>SE</td>\n",
       "      <td>2.68</td>\n",
       "      <td>0</td>\n",
       "      <td>0</td>\n",
       "      <td>heavy pollution</td>\n",
       "    </tr>\n",
       "    <tr>\n",
       "      <th>2010-01-02 02:00:00</th>\n",
       "      <td>159.0</td>\n",
       "      <td>-11</td>\n",
       "      <td>-5.0</td>\n",
       "      <td>1021.0</td>\n",
       "      <td>SE</td>\n",
       "      <td>3.57</td>\n",
       "      <td>0</td>\n",
       "      <td>0</td>\n",
       "      <td>heavy pollution</td>\n",
       "    </tr>\n",
       "    <tr>\n",
       "      <th>2010-01-02 03:00:00</th>\n",
       "      <td>181.0</td>\n",
       "      <td>-7</td>\n",
       "      <td>-5.0</td>\n",
       "      <td>1022.0</td>\n",
       "      <td>SE</td>\n",
       "      <td>5.36</td>\n",
       "      <td>1</td>\n",
       "      <td>0</td>\n",
       "      <td>heavy pollution</td>\n",
       "    </tr>\n",
       "    <tr>\n",
       "      <th>2010-01-02 04:00:00</th>\n",
       "      <td>138.0</td>\n",
       "      <td>-7</td>\n",
       "      <td>-5.0</td>\n",
       "      <td>1022.0</td>\n",
       "      <td>SE</td>\n",
       "      <td>6.25</td>\n",
       "      <td>2</td>\n",
       "      <td>0</td>\n",
       "      <td>heavy pollution</td>\n",
       "    </tr>\n",
       "  </tbody>\n",
       "</table>\n",
       "</div>"
      ],
      "text/plain": [
       "                     pollution  dew  temp   press wnd_dir  wnd_spd  snow  \\\n",
       "date                                                                       \n",
       "2010-01-02 00:00:00      129.0  -16  -4.0  1020.0      SE     1.79     0   \n",
       "2010-01-02 01:00:00      148.0  -15  -4.0  1020.0      SE     2.68     0   \n",
       "2010-01-02 02:00:00      159.0  -11  -5.0  1021.0      SE     3.57     0   \n",
       "2010-01-02 03:00:00      181.0   -7  -5.0  1022.0      SE     5.36     1   \n",
       "2010-01-02 04:00:00      138.0   -7  -5.0  1022.0      SE     6.25     2   \n",
       "\n",
       "                     rain  polution_indicator  \n",
       "date                                           \n",
       "2010-01-02 00:00:00     0  moderate pollution  \n",
       "2010-01-02 01:00:00     0     heavy pollution  \n",
       "2010-01-02 02:00:00     0     heavy pollution  \n",
       "2010-01-02 03:00:00     0     heavy pollution  \n",
       "2010-01-02 04:00:00     0     heavy pollution  "
      ]
     },
     "execution_count": 50,
     "metadata": {},
     "output_type": "execute_result"
    }
   ],
   "source": [
    "data.head()"
   ]
  }
 ],
 "metadata": {
  "kernelspec": {
   "display_name": "Python 3 (ipykernel)",
   "language": "python",
   "name": "python3"
  },
  "language_info": {
   "codemirror_mode": {
    "name": "ipython",
    "version": 3
   },
   "file_extension": ".py",
   "mimetype": "text/x-python",
   "name": "python",
   "nbconvert_exporter": "python",
   "pygments_lexer": "ipython3",
   "version": "3.9.7"
  },
  "latex_envs": {
   "LaTeX_envs_menu_present": true,
   "autoclose": true,
   "autocomplete": true,
   "bibliofile": "biblio.bib",
   "cite_by": "apalike",
   "current_citInitial": 1,
   "eqLabelWithNumbers": true,
   "eqNumInitial": 1,
   "hotkeys": {
    "equation": "Ctrl-E",
    "itemize": "Ctrl-I"
   },
   "labels_anchors": false,
   "latex_user_defs": false,
   "report_style_numbering": false,
   "user_envs_cfg": false
  },
  "nbTranslate": {
   "displayLangs": [
    "*"
   ],
   "hotkey": "alt-t",
   "langInMainMenu": true,
   "sourceLang": "en",
   "targetLang": "fr",
   "useGoogleTranslate": true
  },
  "toc": {
   "base_numbering": 1,
   "nav_menu": {},
   "number_sections": true,
   "sideBar": true,
   "skip_h1_title": true,
   "title_cell": "Table of Contents",
   "title_sidebar": "Contents",
   "toc_cell": true,
   "toc_position": {},
   "toc_section_display": true,
   "toc_window_display": false
  }
 },
 "nbformat": 4,
 "nbformat_minor": 2
}
